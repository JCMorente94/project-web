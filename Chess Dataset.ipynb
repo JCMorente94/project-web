{
 "cells": [
  {
   "cell_type": "markdown",
   "metadata": {},
   "source": [
    "# Project\n"
   ]
  },
  {
   "cell_type": "markdown",
   "metadata": {
    "ExecuteTime": {
     "end_time": "2020-02-19T12:01:04.660116Z",
     "start_time": "2020-02-19T12:01:04.653134Z"
    }
   },
   "source": [
    "<img src=\"images/chess.png\">"
   ]
  },
  {
   "cell_type": "markdown",
   "metadata": {
    "heading_collapsed": true
   },
   "source": [
    "## Libraries"
   ]
  },
  {
   "cell_type": "code",
   "execution_count": 135,
   "metadata": {
    "ExecuteTime": {
     "end_time": "2020-02-19T21:25:45.117475Z",
     "start_time": "2020-02-19T21:25:42.711276Z"
    },
    "hidden": true
   },
   "outputs": [],
   "source": [
    "\n",
    "\n",
    "import time\n",
    "import json\n",
    "import requests\n",
    "import pandas as pd\n",
    "import re\n",
    "from pandas.io.json import json_normalize\n",
    "from IPython.core.display import HTML\n",
    "from bs4 import BeautifulSoup\n"
   ]
  },
  {
   "cell_type": "markdown",
   "metadata": {
    "hidden": true
   },
   "source": [
    "\n"
   ]
  },
  {
   "cell_type": "markdown",
   "metadata": {
    "heading_collapsed": true
   },
   "source": [
    "## Leaderboards\n"
   ]
  },
  {
   "cell_type": "markdown",
   "metadata": {
    "hidden": true
   },
   "source": [
    "Aqui obtenemos los leaderboards de los diferentes tipos de juego."
   ]
  },
  {
   "cell_type": "code",
   "execution_count": 5,
   "metadata": {
    "ExecuteTime": {
     "end_time": "2020-02-19T09:02:21.113514Z",
     "start_time": "2020-02-19T09:02:17.743412Z"
    },
    "hidden": true
   },
   "outputs": [],
   "source": [
    "url = 'https://api.chess.com/pub/leaderboards'\n",
    "r = requests.get(url)\n",
    "leaderboards = r.json()"
   ]
  },
  {
   "cell_type": "code",
   "execution_count": 7,
   "metadata": {
    "ExecuteTime": {
     "end_time": "2020-02-19T09:06:09.756799Z",
     "start_time": "2020-02-19T09:06:09.748848Z"
    },
    "hidden": true
   },
   "outputs": [
    {
     "data": {
      "text/plain": [
       "dict_keys(['daily', 'daily960', 'live_rapid', 'live_blitz', 'live_bullet', 'live_bughouse', 'live_blitz960', 'live_threecheck', 'live_crazyhouse', 'live_kingofthehill', 'lessons', 'tactics'])"
      ]
     },
     "execution_count": 7,
     "metadata": {},
     "output_type": "execute_result"
    }
   ],
   "source": [
    "leaderboards.keys()"
   ]
  },
  {
   "cell_type": "markdown",
   "metadata": {
    "hidden": true
   },
   "source": [
    "Podemos ver que hay diferentes tipos de juego segun el tiempo que tenemos para realizar los movimientos:\n",
    "\n",
    "    - Daily \n",
    "        - Cada jugador tiene 24 horas para realizar cada uno de los movimientos.\n",
    "        \n",
    "    - Rapid \n",
    "        - Cada jugador desde 10 minutos en adelante hasta 1 hora para realizar todos los movimientos.\n",
    "        - Puede tener incrementos de segundos por cada movimiento.\n",
    "        \n",
    "    - Blitz \n",
    "        - Cada jugador tiene entre 2 minutos y 10 para realizar todos sus movimientos.\n",
    "        - Puede tener incrementos de segundos por cada movimiento.\n",
    "        \n",
    "    - Bullet\n",
    "        - Cada jugador tiene un minuto para realizar todos los movimientos.\n",
    "        \n",
    "Tambien hay diferentes tipos de juegos:\n",
    "\n",
    "    - 960\n",
    "        - Son partidas de ajedrez con las piezas iniciales situadas de forma aleatoria. Es decir, los peones siguen en su posición inicial pero las piezas mayores están desordenadas.\n",
    "        \n",
    "    - Kingofthehill\n",
    "        - Gana el primer jugador que lleve su rey al centro del tablero.\n",
    "        \n",
    "    - Bughouse\n",
    "        - El formato bughouse o pasapiezas, se juega por parejas y se realiza de tal manera que las piezas que capture nuestro compañero a su rival, pasarán a estar disponibles para que las utilicemos. Es decir, si nosotros jugamos con blancas y nuestro compañero (que juega con negras) le captura un caballo a su rival, en nuestro turno tendremos un caballo blanco para utilizar o colocar donde queramos.\n",
    "        \n",
    "    - Crazyhouse\n",
    "        - Te permite utilizar las piezas del rival que capturas. Es decir, si jugamos con blancas capturamos un peón negro del rival, de repente tendremos un peón blanco que podremos incorporar en el tablero en nuestro turno. Para ser más concreto, la pieza capturada cambia de color y pasa a estar a nuestra disposición.\n",
    "\n",
    "Ademas, contamos con lecciones y tacticas para practicar diferentes situaciones o resolver problemas."
   ]
  },
  {
   "cell_type": "markdown",
   "metadata": {
    "hidden": true
   },
   "source": [
    "### Blitz Leaderboard"
   ]
  },
  {
   "cell_type": "code",
   "execution_count": null,
   "metadata": {
    "ExecuteTime": {
     "end_time": "2020-02-19T21:10:28.101357Z",
     "start_time": "2020-02-19T20:46:00.745Z"
    },
    "hidden": true
   },
   "outputs": [],
   "source": [
    "leaderboard_blitz_dataframe = pd.DataFrame(leaderboards['live_blitz'])\n",
    "leaderboard_blitz_dataframe.info()"
   ]
  },
  {
   "cell_type": "code",
   "execution_count": 37,
   "metadata": {
    "ExecuteTime": {
     "end_time": "2020-02-19T11:19:02.956548Z",
     "start_time": "2020-02-19T11:19:02.936603Z"
    },
    "hidden": true
   },
   "outputs": [
    {
     "data": {
      "text/html": [
       "<div>\n",
       "<style scoped>\n",
       "    .dataframe tbody tr th:only-of-type {\n",
       "        vertical-align: middle;\n",
       "    }\n",
       "\n",
       "    .dataframe tbody tr th {\n",
       "        vertical-align: top;\n",
       "    }\n",
       "\n",
       "    .dataframe thead th {\n",
       "        text-align: right;\n",
       "    }\n",
       "</style>\n",
       "<table border=\"1\" class=\"dataframe\">\n",
       "  <thead>\n",
       "    <tr style=\"text-align: right;\">\n",
       "      <th></th>\n",
       "      <th>player_id</th>\n",
       "      <th>username</th>\n",
       "      <th>name</th>\n",
       "      <th>title</th>\n",
       "      <th>score</th>\n",
       "      <th>rank</th>\n",
       "      <th>avatar</th>\n",
       "      <th>country</th>\n",
       "    </tr>\n",
       "  </thead>\n",
       "  <tbody>\n",
       "    <tr>\n",
       "      <td>0</td>\n",
       "      <td>15448422</td>\n",
       "      <td>hikaru</td>\n",
       "      <td>Hikaru Nakamura</td>\n",
       "      <td>GM</td>\n",
       "      <td>3244</td>\n",
       "      <td>1</td>\n",
       "      <td>https://images.chesscomfiles.com/uploads/v1/user/15448422.90503d66.200x200o.f323efa57fd0.jpeg</td>\n",
       "      <td>United States</td>\n",
       "    </tr>\n",
       "    <tr>\n",
       "      <td>1</td>\n",
       "      <td>42022994</td>\n",
       "      <td>firouzja2003</td>\n",
       "      <td>Alireza Firouzja</td>\n",
       "      <td>GM</td>\n",
       "      <td>3134</td>\n",
       "      <td>2</td>\n",
       "      <td>https://images.chesscomfiles.com/uploads/v1/user/42022994.69776ff4.200x200o.a8a6e15203e4.png</td>\n",
       "      <td>Iran</td>\n",
       "    </tr>\n",
       "    <tr>\n",
       "      <td>2</td>\n",
       "      <td>26897358</td>\n",
       "      <td>grischuk</td>\n",
       "      <td>Alexander Grischuk</td>\n",
       "      <td>GM</td>\n",
       "      <td>3120</td>\n",
       "      <td>3</td>\n",
       "      <td>https://images.chesscomfiles.com/uploads/v1/user/26897358.10f64fa8.200x200o.634d3db4ddc2.jpeg</td>\n",
       "      <td>Russia</td>\n",
       "    </tr>\n",
       "    <tr>\n",
       "      <td>3</td>\n",
       "      <td>28417564</td>\n",
       "      <td>lachesisq</td>\n",
       "      <td>Ian Nepomniachtchi</td>\n",
       "      <td>GM</td>\n",
       "      <td>3096</td>\n",
       "      <td>4</td>\n",
       "      <td>https://images.chesscomfiles.com/uploads/v1/user/28417564.89ef2762.200x200o.397bc203cfce.png</td>\n",
       "      <td>Russia</td>\n",
       "    </tr>\n",
       "    <tr>\n",
       "      <td>4</td>\n",
       "      <td>7195919</td>\n",
       "      <td>nihalsarin</td>\n",
       "      <td>Nihal Sarin</td>\n",
       "      <td>GM</td>\n",
       "      <td>3074</td>\n",
       "      <td>5</td>\n",
       "      <td>https://images.chesscomfiles.com/uploads/v1/user/7195919.d295ce1f.200x200o.4a242bd00366.jpeg</td>\n",
       "      <td>India</td>\n",
       "    </tr>\n",
       "  </tbody>\n",
       "</table>\n",
       "</div>"
      ],
      "text/plain": [
       "   player_id      username                name title  score  rank  \\\n",
       "0  15448422   hikaru        Hikaru Nakamura     GM    3244   1      \n",
       "1  42022994   firouzja2003  Alireza Firouzja    GM    3134   2      \n",
       "2  26897358   grischuk      Alexander Grischuk  GM    3120   3      \n",
       "3  28417564   lachesisq     Ian Nepomniachtchi  GM    3096   4      \n",
       "4  7195919    nihalsarin    Nihal Sarin         GM    3074   5      \n",
       "\n",
       "                                                                                          avatar  \\\n",
       "0  https://images.chesscomfiles.com/uploads/v1/user/15448422.90503d66.200x200o.f323efa57fd0.jpeg   \n",
       "1  https://images.chesscomfiles.com/uploads/v1/user/42022994.69776ff4.200x200o.a8a6e15203e4.png    \n",
       "2  https://images.chesscomfiles.com/uploads/v1/user/26897358.10f64fa8.200x200o.634d3db4ddc2.jpeg   \n",
       "3  https://images.chesscomfiles.com/uploads/v1/user/28417564.89ef2762.200x200o.397bc203cfce.png    \n",
       "4  https://images.chesscomfiles.com/uploads/v1/user/7195919.d295ce1f.200x200o.4a242bd00366.jpeg    \n",
       "\n",
       "         country  \n",
       "0  United States  \n",
       "1  Iran           \n",
       "2  Russia         \n",
       "3  Russia         \n",
       "4  India          "
      ]
     },
     "execution_count": 37,
     "metadata": {},
     "output_type": "execute_result"
    }
   ],
   "source": [
    "leaderboard_blitz_dataframe = leaderboard_blitz_dataframe[['player_id', 'username', 'name', 'title', 'score', 'rank','avatar', 'country']]\n",
    "leaderboard_blitz_dataframe.head()"
   ]
  },
  {
   "cell_type": "markdown",
   "metadata": {
    "hidden": true
   },
   "source": [
    "Aqui cambio el contenido de la columna country, cambiando la url por el nombre dentro de cada url."
   ]
  },
  {
   "cell_type": "code",
   "execution_count": 29,
   "metadata": {
    "ExecuteTime": {
     "end_time": "2020-02-19T10:52:22.015500Z",
     "start_time": "2020-02-19T10:52:17.284898Z"
    },
    "hidden": true
   },
   "outputs": [],
   "source": [
    "for i in leaderboard_blitz_dataframe.index:\n",
    "    url = leaderboard_blitz_dataframe.loc[i, 'country']\n",
    "    leaderboard_blitz_dataframe.loc[i, 'country'] = requests.get(url).json()['name']"
   ]
  },
  {
   "cell_type": "code",
   "execution_count": 38,
   "metadata": {
    "ExecuteTime": {
     "end_time": "2020-02-19T11:19:07.940048Z",
     "start_time": "2020-02-19T11:19:07.923125Z"
    },
    "hidden": true
   },
   "outputs": [
    {
     "data": {
      "text/html": [
       "<div>\n",
       "<style scoped>\n",
       "    .dataframe tbody tr th:only-of-type {\n",
       "        vertical-align: middle;\n",
       "    }\n",
       "\n",
       "    .dataframe tbody tr th {\n",
       "        vertical-align: top;\n",
       "    }\n",
       "\n",
       "    .dataframe thead th {\n",
       "        text-align: right;\n",
       "    }\n",
       "</style>\n",
       "<table border=\"1\" class=\"dataframe\">\n",
       "  <thead>\n",
       "    <tr style=\"text-align: right;\">\n",
       "      <th></th>\n",
       "      <th>player_id</th>\n",
       "      <th>username</th>\n",
       "      <th>name</th>\n",
       "      <th>title</th>\n",
       "      <th>score</th>\n",
       "      <th>rank</th>\n",
       "      <th>avatar</th>\n",
       "      <th>country</th>\n",
       "    </tr>\n",
       "  </thead>\n",
       "  <tbody>\n",
       "    <tr>\n",
       "      <td>0</td>\n",
       "      <td>15448422</td>\n",
       "      <td>hikaru</td>\n",
       "      <td>Hikaru Nakamura</td>\n",
       "      <td>GM</td>\n",
       "      <td>3244</td>\n",
       "      <td>1</td>\n",
       "      <td>https://images.chesscomfiles.com/uploads/v1/user/15448422.90503d66.200x200o.f323efa57fd0.jpeg</td>\n",
       "      <td>United States</td>\n",
       "    </tr>\n",
       "    <tr>\n",
       "      <td>1</td>\n",
       "      <td>42022994</td>\n",
       "      <td>firouzja2003</td>\n",
       "      <td>Alireza Firouzja</td>\n",
       "      <td>GM</td>\n",
       "      <td>3134</td>\n",
       "      <td>2</td>\n",
       "      <td>https://images.chesscomfiles.com/uploads/v1/user/42022994.69776ff4.200x200o.a8a6e15203e4.png</td>\n",
       "      <td>Iran</td>\n",
       "    </tr>\n",
       "    <tr>\n",
       "      <td>2</td>\n",
       "      <td>26897358</td>\n",
       "      <td>grischuk</td>\n",
       "      <td>Alexander Grischuk</td>\n",
       "      <td>GM</td>\n",
       "      <td>3120</td>\n",
       "      <td>3</td>\n",
       "      <td>https://images.chesscomfiles.com/uploads/v1/user/26897358.10f64fa8.200x200o.634d3db4ddc2.jpeg</td>\n",
       "      <td>Russia</td>\n",
       "    </tr>\n",
       "    <tr>\n",
       "      <td>3</td>\n",
       "      <td>28417564</td>\n",
       "      <td>lachesisq</td>\n",
       "      <td>Ian Nepomniachtchi</td>\n",
       "      <td>GM</td>\n",
       "      <td>3096</td>\n",
       "      <td>4</td>\n",
       "      <td>https://images.chesscomfiles.com/uploads/v1/user/28417564.89ef2762.200x200o.397bc203cfce.png</td>\n",
       "      <td>Russia</td>\n",
       "    </tr>\n",
       "    <tr>\n",
       "      <td>4</td>\n",
       "      <td>7195919</td>\n",
       "      <td>nihalsarin</td>\n",
       "      <td>Nihal Sarin</td>\n",
       "      <td>GM</td>\n",
       "      <td>3074</td>\n",
       "      <td>5</td>\n",
       "      <td>https://images.chesscomfiles.com/uploads/v1/user/7195919.d295ce1f.200x200o.4a242bd00366.jpeg</td>\n",
       "      <td>India</td>\n",
       "    </tr>\n",
       "  </tbody>\n",
       "</table>\n",
       "</div>"
      ],
      "text/plain": [
       "   player_id      username                name title  score  rank  \\\n",
       "0  15448422   hikaru        Hikaru Nakamura     GM    3244   1      \n",
       "1  42022994   firouzja2003  Alireza Firouzja    GM    3134   2      \n",
       "2  26897358   grischuk      Alexander Grischuk  GM    3120   3      \n",
       "3  28417564   lachesisq     Ian Nepomniachtchi  GM    3096   4      \n",
       "4  7195919    nihalsarin    Nihal Sarin         GM    3074   5      \n",
       "\n",
       "                                                                                          avatar  \\\n",
       "0  https://images.chesscomfiles.com/uploads/v1/user/15448422.90503d66.200x200o.f323efa57fd0.jpeg   \n",
       "1  https://images.chesscomfiles.com/uploads/v1/user/42022994.69776ff4.200x200o.a8a6e15203e4.png    \n",
       "2  https://images.chesscomfiles.com/uploads/v1/user/26897358.10f64fa8.200x200o.634d3db4ddc2.jpeg   \n",
       "3  https://images.chesscomfiles.com/uploads/v1/user/28417564.89ef2762.200x200o.397bc203cfce.png    \n",
       "4  https://images.chesscomfiles.com/uploads/v1/user/7195919.d295ce1f.200x200o.4a242bd00366.jpeg    \n",
       "\n",
       "         country  \n",
       "0  United States  \n",
       "1  Iran           \n",
       "2  Russia         \n",
       "3  Russia         \n",
       "4  India          "
      ]
     },
     "execution_count": 38,
     "metadata": {},
     "output_type": "execute_result"
    }
   ],
   "source": [
    "leaderboard_blitz_dataframe.head()"
   ]
  },
  {
   "cell_type": "markdown",
   "metadata": {
    "hidden": true
   },
   "source": [
    "Aqui saco las localizaciones de cada jugador si las tiene."
   ]
  },
  {
   "cell_type": "code",
   "execution_count": 60,
   "metadata": {
    "ExecuteTime": {
     "end_time": "2020-02-19T12:08:43.734644Z",
     "start_time": "2020-02-19T12:08:26.428787Z"
    },
    "hidden": true
   },
   "outputs": [],
   "source": [
    "for i in leaderboard_blitz_dataframe.index:\n",
    "    url = f\"https://api.chess.com/pub/player/{leaderboard_blitz_dataframe.loc[i, 'username']}\"\n",
    "    r = requests.get(url).json()\n",
    "    if 'location' in r.keys():\n",
    "        leaderboard_blitz_dataframe.loc[i, 'location'] = r['location']\n",
    "    else:\n",
    "        leaderboard_blitz_dataframe.loc[i, 'location'] = 'Unknown'"
   ]
  },
  {
   "cell_type": "code",
   "execution_count": 61,
   "metadata": {
    "ExecuteTime": {
     "end_time": "2020-02-19T12:08:43.792014Z",
     "start_time": "2020-02-19T12:08:43.769043Z"
    },
    "hidden": true
   },
   "outputs": [
    {
     "data": {
      "text/html": [
       "<div>\n",
       "<style scoped>\n",
       "    .dataframe tbody tr th:only-of-type {\n",
       "        vertical-align: middle;\n",
       "    }\n",
       "\n",
       "    .dataframe tbody tr th {\n",
       "        vertical-align: top;\n",
       "    }\n",
       "\n",
       "    .dataframe thead th {\n",
       "        text-align: right;\n",
       "    }\n",
       "</style>\n",
       "<table border=\"1\" class=\"dataframe\">\n",
       "  <thead>\n",
       "    <tr style=\"text-align: right;\">\n",
       "      <th></th>\n",
       "      <th>player_id</th>\n",
       "      <th>username</th>\n",
       "      <th>name</th>\n",
       "      <th>title</th>\n",
       "      <th>score</th>\n",
       "      <th>rank</th>\n",
       "      <th>avatar</th>\n",
       "      <th>country</th>\n",
       "      <th>location</th>\n",
       "    </tr>\n",
       "  </thead>\n",
       "  <tbody>\n",
       "    <tr>\n",
       "      <td>0</td>\n",
       "      <td>15448422</td>\n",
       "      <td>hikaru</td>\n",
       "      <td>Hikaru Nakamura</td>\n",
       "      <td>GM</td>\n",
       "      <td>3244</td>\n",
       "      <td>1</td>\n",
       "      <td>https://images.chesscomfiles.com/uploads/v1/user/15448422.90503d66.200x200o.f323efa57fd0.jpeg</td>\n",
       "      <td>United States</td>\n",
       "      <td>Sunrise, Florida</td>\n",
       "    </tr>\n",
       "    <tr>\n",
       "      <td>1</td>\n",
       "      <td>42022994</td>\n",
       "      <td>firouzja2003</td>\n",
       "      <td>Alireza Firouzja</td>\n",
       "      <td>GM</td>\n",
       "      <td>3134</td>\n",
       "      <td>2</td>\n",
       "      <td>https://images.chesscomfiles.com/uploads/v1/user/42022994.69776ff4.200x200o.a8a6e15203e4.png</td>\n",
       "      <td>Iran</td>\n",
       "      <td>Babol</td>\n",
       "    </tr>\n",
       "    <tr>\n",
       "      <td>2</td>\n",
       "      <td>26897358</td>\n",
       "      <td>grischuk</td>\n",
       "      <td>Alexander Grischuk</td>\n",
       "      <td>GM</td>\n",
       "      <td>3120</td>\n",
       "      <td>3</td>\n",
       "      <td>https://images.chesscomfiles.com/uploads/v1/user/26897358.10f64fa8.200x200o.634d3db4ddc2.jpeg</td>\n",
       "      <td>Russia</td>\n",
       "      <td>Moscow</td>\n",
       "    </tr>\n",
       "    <tr>\n",
       "      <td>3</td>\n",
       "      <td>28417564</td>\n",
       "      <td>lachesisq</td>\n",
       "      <td>Ian Nepomniachtchi</td>\n",
       "      <td>GM</td>\n",
       "      <td>3096</td>\n",
       "      <td>4</td>\n",
       "      <td>https://images.chesscomfiles.com/uploads/v1/user/28417564.89ef2762.200x200o.397bc203cfce.png</td>\n",
       "      <td>Russia</td>\n",
       "      <td>Moscow</td>\n",
       "    </tr>\n",
       "    <tr>\n",
       "      <td>4</td>\n",
       "      <td>7195919</td>\n",
       "      <td>nihalsarin</td>\n",
       "      <td>Nihal Sarin</td>\n",
       "      <td>GM</td>\n",
       "      <td>3074</td>\n",
       "      <td>5</td>\n",
       "      <td>https://images.chesscomfiles.com/uploads/v1/user/7195919.d295ce1f.200x200o.4a242bd00366.jpeg</td>\n",
       "      <td>India</td>\n",
       "      <td>Thrissur</td>\n",
       "    </tr>\n",
       "  </tbody>\n",
       "</table>\n",
       "</div>"
      ],
      "text/plain": [
       "   player_id      username                name title  score  rank  \\\n",
       "0  15448422   hikaru        Hikaru Nakamura     GM    3244   1      \n",
       "1  42022994   firouzja2003  Alireza Firouzja    GM    3134   2      \n",
       "2  26897358   grischuk      Alexander Grischuk  GM    3120   3      \n",
       "3  28417564   lachesisq     Ian Nepomniachtchi  GM    3096   4      \n",
       "4  7195919    nihalsarin    Nihal Sarin         GM    3074   5      \n",
       "\n",
       "                                                                                          avatar  \\\n",
       "0  https://images.chesscomfiles.com/uploads/v1/user/15448422.90503d66.200x200o.f323efa57fd0.jpeg   \n",
       "1  https://images.chesscomfiles.com/uploads/v1/user/42022994.69776ff4.200x200o.a8a6e15203e4.png    \n",
       "2  https://images.chesscomfiles.com/uploads/v1/user/26897358.10f64fa8.200x200o.634d3db4ddc2.jpeg   \n",
       "3  https://images.chesscomfiles.com/uploads/v1/user/28417564.89ef2762.200x200o.397bc203cfce.png    \n",
       "4  https://images.chesscomfiles.com/uploads/v1/user/7195919.d295ce1f.200x200o.4a242bd00366.jpeg    \n",
       "\n",
       "         country          location  \n",
       "0  United States  Sunrise, Florida  \n",
       "1  Iran           Babol             \n",
       "2  Russia         Moscow            \n",
       "3  Russia         Moscow            \n",
       "4  India          Thrissur          "
      ]
     },
     "execution_count": 61,
     "metadata": {},
     "output_type": "execute_result"
    }
   ],
   "source": [
    "leaderboard_blitz_dataframe.head()"
   ]
  },
  {
   "cell_type": "markdown",
   "metadata": {
    "hidden": true
   },
   "source": [
    "De cada una de las estadisticas de los jugadores saco su mejor puntuacion y el numero de victorias, derrotas y empates."
   ]
  },
  {
   "cell_type": "code",
   "execution_count": 73,
   "metadata": {
    "ExecuteTime": {
     "end_time": "2020-02-19T12:19:04.967305Z",
     "start_time": "2020-02-19T12:18:30.675293Z"
    },
    "hidden": true
   },
   "outputs": [],
   "source": [
    "for i in leaderboard_blitz_dataframe.index:\n",
    "    url = f\"https://api.chess.com/pub/player/{leaderboard_blitz_dataframe.loc[i,'username']}/stats\"\n",
    "    r = requests.get(url).json()\n",
    "    leaderboard_blitz_dataframe.loc[i, 'best_rating'] = r['chess_blitz']['best']['rating']\n",
    "    leaderboard_blitz_dataframe.loc[i, 'games_won'] = r['chess_blitz']['record']['win']\n",
    "    leaderboard_blitz_dataframe.loc[i, 'games_lost'] = r['chess_blitz']['record']['loss']\n",
    "    leaderboard_blitz_dataframe.loc[i, 'games_draw'] = r['chess_blitz']['record']['draw']"
   ]
  },
  {
   "cell_type": "code",
   "execution_count": 75,
   "metadata": {
    "ExecuteTime": {
     "end_time": "2020-02-19T12:21:10.367353Z",
     "start_time": "2020-02-19T12:21:10.341454Z"
    },
    "hidden": true
   },
   "outputs": [
    {
     "data": {
      "text/html": [
       "<div>\n",
       "<style scoped>\n",
       "    .dataframe tbody tr th:only-of-type {\n",
       "        vertical-align: middle;\n",
       "    }\n",
       "\n",
       "    .dataframe tbody tr th {\n",
       "        vertical-align: top;\n",
       "    }\n",
       "\n",
       "    .dataframe thead th {\n",
       "        text-align: right;\n",
       "    }\n",
       "</style>\n",
       "<table border=\"1\" class=\"dataframe\">\n",
       "  <thead>\n",
       "    <tr style=\"text-align: right;\">\n",
       "      <th></th>\n",
       "      <th>player_id</th>\n",
       "      <th>username</th>\n",
       "      <th>name</th>\n",
       "      <th>title</th>\n",
       "      <th>score</th>\n",
       "      <th>rank</th>\n",
       "      <th>avatar</th>\n",
       "      <th>country</th>\n",
       "      <th>location</th>\n",
       "      <th>best_rating</th>\n",
       "      <th>games_won</th>\n",
       "      <th>games_lost</th>\n",
       "      <th>games_draw</th>\n",
       "    </tr>\n",
       "  </thead>\n",
       "  <tbody>\n",
       "    <tr>\n",
       "      <td>0</td>\n",
       "      <td>15448422</td>\n",
       "      <td>hikaru</td>\n",
       "      <td>Hikaru Nakamura</td>\n",
       "      <td>GM</td>\n",
       "      <td>3244</td>\n",
       "      <td>1</td>\n",
       "      <td>https://images.chesscomfiles.com/uploads/v1/user/15448422.90503d66.200x200o.f323efa57fd0.jpeg</td>\n",
       "      <td>United States</td>\n",
       "      <td>Sunrise, Florida</td>\n",
       "      <td>3322.0</td>\n",
       "      <td>13215.0</td>\n",
       "      <td>2376.0</td>\n",
       "      <td>1615.0</td>\n",
       "    </tr>\n",
       "    <tr>\n",
       "      <td>1</td>\n",
       "      <td>42022994</td>\n",
       "      <td>firouzja2003</td>\n",
       "      <td>Alireza Firouzja</td>\n",
       "      <td>GM</td>\n",
       "      <td>3134</td>\n",
       "      <td>2</td>\n",
       "      <td>https://images.chesscomfiles.com/uploads/v1/user/42022994.69776ff4.200x200o.a8a6e15203e4.png</td>\n",
       "      <td>Iran</td>\n",
       "      <td>Babol</td>\n",
       "      <td>3233.0</td>\n",
       "      <td>4581.0</td>\n",
       "      <td>3003.0</td>\n",
       "      <td>1038.0</td>\n",
       "    </tr>\n",
       "    <tr>\n",
       "      <td>2</td>\n",
       "      <td>26897358</td>\n",
       "      <td>grischuk</td>\n",
       "      <td>Alexander Grischuk</td>\n",
       "      <td>GM</td>\n",
       "      <td>3120</td>\n",
       "      <td>3</td>\n",
       "      <td>https://images.chesscomfiles.com/uploads/v1/user/26897358.10f64fa8.200x200o.634d3db4ddc2.jpeg</td>\n",
       "      <td>Russia</td>\n",
       "      <td>Moscow</td>\n",
       "      <td>3120.0</td>\n",
       "      <td>257.0</td>\n",
       "      <td>176.0</td>\n",
       "      <td>133.0</td>\n",
       "    </tr>\n",
       "    <tr>\n",
       "      <td>3</td>\n",
       "      <td>28417564</td>\n",
       "      <td>lachesisq</td>\n",
       "      <td>Ian Nepomniachtchi</td>\n",
       "      <td>GM</td>\n",
       "      <td>3096</td>\n",
       "      <td>4</td>\n",
       "      <td>https://images.chesscomfiles.com/uploads/v1/user/28417564.89ef2762.200x200o.397bc203cfce.png</td>\n",
       "      <td>Russia</td>\n",
       "      <td>Moscow</td>\n",
       "      <td>3204.0</td>\n",
       "      <td>1245.0</td>\n",
       "      <td>697.0</td>\n",
       "      <td>297.0</td>\n",
       "    </tr>\n",
       "    <tr>\n",
       "      <td>4</td>\n",
       "      <td>7195919</td>\n",
       "      <td>nihalsarin</td>\n",
       "      <td>Nihal Sarin</td>\n",
       "      <td>GM</td>\n",
       "      <td>3074</td>\n",
       "      <td>5</td>\n",
       "      <td>https://images.chesscomfiles.com/uploads/v1/user/7195919.d295ce1f.200x200o.4a242bd00366.jpeg</td>\n",
       "      <td>India</td>\n",
       "      <td>Thrissur</td>\n",
       "      <td>3094.0</td>\n",
       "      <td>8448.0</td>\n",
       "      <td>5477.0</td>\n",
       "      <td>1495.0</td>\n",
       "    </tr>\n",
       "  </tbody>\n",
       "</table>\n",
       "</div>"
      ],
      "text/plain": [
       "   player_id      username                name title  score  rank  \\\n",
       "0  15448422   hikaru        Hikaru Nakamura     GM    3244   1      \n",
       "1  42022994   firouzja2003  Alireza Firouzja    GM    3134   2      \n",
       "2  26897358   grischuk      Alexander Grischuk  GM    3120   3      \n",
       "3  28417564   lachesisq     Ian Nepomniachtchi  GM    3096   4      \n",
       "4  7195919    nihalsarin    Nihal Sarin         GM    3074   5      \n",
       "\n",
       "                                                                                          avatar  \\\n",
       "0  https://images.chesscomfiles.com/uploads/v1/user/15448422.90503d66.200x200o.f323efa57fd0.jpeg   \n",
       "1  https://images.chesscomfiles.com/uploads/v1/user/42022994.69776ff4.200x200o.a8a6e15203e4.png    \n",
       "2  https://images.chesscomfiles.com/uploads/v1/user/26897358.10f64fa8.200x200o.634d3db4ddc2.jpeg   \n",
       "3  https://images.chesscomfiles.com/uploads/v1/user/28417564.89ef2762.200x200o.397bc203cfce.png    \n",
       "4  https://images.chesscomfiles.com/uploads/v1/user/7195919.d295ce1f.200x200o.4a242bd00366.jpeg    \n",
       "\n",
       "         country          location  best_rating  games_won  games_lost  \\\n",
       "0  United States  Sunrise, Florida  3322.0       13215.0    2376.0       \n",
       "1  Iran           Babol             3233.0       4581.0     3003.0       \n",
       "2  Russia         Moscow            3120.0       257.0      176.0        \n",
       "3  Russia         Moscow            3204.0       1245.0     697.0        \n",
       "4  India          Thrissur          3094.0       8448.0     5477.0       \n",
       "\n",
       "   games_draw  \n",
       "0  1615.0      \n",
       "1  1038.0      \n",
       "2  133.0       \n",
       "3  297.0       \n",
       "4  1495.0      "
      ]
     },
     "execution_count": 75,
     "metadata": {},
     "output_type": "execute_result"
    }
   ],
   "source": [
    "leaderboard_blitz_dataframe.head()"
   ]
  },
  {
   "cell_type": "code",
   "execution_count": 99,
   "metadata": {
    "ExecuteTime": {
     "end_time": "2020-02-19T16:49:51.524783Z",
     "start_time": "2020-02-19T16:49:51.492869Z"
    },
    "hidden": true
   },
   "outputs": [
    {
     "data": {
      "text/html": [
       "<table border=\"1\" class=\"dataframe\">\n",
       "  <thead>\n",
       "    <tr style=\"text-align: right;\">\n",
       "      <th></th>\n",
       "      <th>player_id</th>\n",
       "      <th>username</th>\n",
       "      <th>name</th>\n",
       "      <th>title</th>\n",
       "      <th>score</th>\n",
       "      <th>rank</th>\n",
       "      <th>avatar</th>\n",
       "      <th>country</th>\n",
       "      <th>location</th>\n",
       "      <th>best_rating</th>\n",
       "      <th>games_won</th>\n",
       "      <th>games_lost</th>\n",
       "      <th>games_draw</th>\n",
       "    </tr>\n",
       "  </thead>\n",
       "  <tbody>\n",
       "    <tr>\n",
       "      <th>0</th>\n",
       "      <td>15448422</td>\n",
       "      <td>hikaru</td>\n",
       "      <td>Hikaru Nakamura</td>\n",
       "      <td>GM</td>\n",
       "      <td>3244</td>\n",
       "      <td>1</td>\n",
       "      <td><img src=\"https://images.chesscomfiles.com/uploads/v1/user/15448422.90503d66.200x200o.f323efa57fd0.jpeg\" width=\"100\" ></td>\n",
       "      <td>United States</td>\n",
       "      <td>Sunrise, Florida</td>\n",
       "      <td>3322.0</td>\n",
       "      <td>13215.0</td>\n",
       "      <td>2376.0</td>\n",
       "      <td>1615.0</td>\n",
       "    </tr>\n",
       "    <tr>\n",
       "      <th>1</th>\n",
       "      <td>42022994</td>\n",
       "      <td>firouzja2003</td>\n",
       "      <td>Alireza Firouzja</td>\n",
       "      <td>GM</td>\n",
       "      <td>3134</td>\n",
       "      <td>2</td>\n",
       "      <td><img src=\"https://images.chesscomfiles.com/uploads/v1/user/42022994.69776ff4.200x200o.a8a6e15203e4.png\" width=\"100\" ></td>\n",
       "      <td>Iran</td>\n",
       "      <td>Babol</td>\n",
       "      <td>3233.0</td>\n",
       "      <td>4581.0</td>\n",
       "      <td>3003.0</td>\n",
       "      <td>1038.0</td>\n",
       "    </tr>\n",
       "    <tr>\n",
       "      <th>2</th>\n",
       "      <td>26897358</td>\n",
       "      <td>grischuk</td>\n",
       "      <td>Alexander Grischuk</td>\n",
       "      <td>GM</td>\n",
       "      <td>3120</td>\n",
       "      <td>3</td>\n",
       "      <td><img src=\"https://images.chesscomfiles.com/uploads/v1/user/26897358.10f64fa8.200x200o.634d3db4ddc2.jpeg\" width=\"100\" ></td>\n",
       "      <td>Russia</td>\n",
       "      <td>Moscow</td>\n",
       "      <td>3120.0</td>\n",
       "      <td>257.0</td>\n",
       "      <td>176.0</td>\n",
       "      <td>133.0</td>\n",
       "    </tr>\n",
       "    <tr>\n",
       "      <th>3</th>\n",
       "      <td>28417564</td>\n",
       "      <td>lachesisq</td>\n",
       "      <td>Ian Nepomniachtchi</td>\n",
       "      <td>GM</td>\n",
       "      <td>3096</td>\n",
       "      <td>4</td>\n",
       "      <td><img src=\"https://images.chesscomfiles.com/uploads/v1/user/28417564.89ef2762.200x200o.397bc203cfce.png\" width=\"100\" ></td>\n",
       "      <td>Russia</td>\n",
       "      <td>Moscow</td>\n",
       "      <td>3204.0</td>\n",
       "      <td>1245.0</td>\n",
       "      <td>697.0</td>\n",
       "      <td>297.0</td>\n",
       "    </tr>\n",
       "    <tr>\n",
       "      <th>4</th>\n",
       "      <td>7195919</td>\n",
       "      <td>nihalsarin</td>\n",
       "      <td>Nihal Sarin</td>\n",
       "      <td>GM</td>\n",
       "      <td>3074</td>\n",
       "      <td>5</td>\n",
       "      <td><img src=\"https://images.chesscomfiles.com/uploads/v1/user/7195919.d295ce1f.200x200o.4a242bd00366.jpeg\" width=\"100\" ></td>\n",
       "      <td>India</td>\n",
       "      <td>Thrissur</td>\n",
       "      <td>3094.0</td>\n",
       "      <td>8448.0</td>\n",
       "      <td>5477.0</td>\n",
       "      <td>1495.0</td>\n",
       "    </tr>\n",
       "    <tr>\n",
       "      <th>5</th>\n",
       "      <td>26303484</td>\n",
       "      <td>bigfish1995</td>\n",
       "      <td>Vladimir Fedoseev</td>\n",
       "      <td>GM</td>\n",
       "      <td>3071</td>\n",
       "      <td>6</td>\n",
       "      <td><img src=\"https://images.chesscomfiles.com/uploads/v1/user/26303484.26ab6957.200x200o.53640a5b7ce6.png\" width=\"100\" ></td>\n",
       "      <td>Russia</td>\n",
       "      <td>Moscow</td>\n",
       "      <td>3174.0</td>\n",
       "      <td>3350.0</td>\n",
       "      <td>2440.0</td>\n",
       "      <td>753.0</td>\n",
       "    </tr>\n",
       "    <tr>\n",
       "      <th>6</th>\n",
       "      <td>47485766</td>\n",
       "      <td>polish_fighter3000</td>\n",
       "      <td>Jan-Krzysztof Duda</td>\n",
       "      <td>GM</td>\n",
       "      <td>3068</td>\n",
       "      <td>7</td>\n",
       "      <td><img src=\"https://images.chesscomfiles.com/uploads/v1/user/47485766.de241c41.200x200o.7b706ebf58e7.jpeg\" width=\"100\" ></td>\n",
       "      <td>Poland</td>\n",
       "      <td>Kraków</td>\n",
       "      <td>3112.0</td>\n",
       "      <td>999.0</td>\n",
       "      <td>601.0</td>\n",
       "      <td>211.0</td>\n",
       "    </tr>\n",
       "    <tr>\n",
       "      <th>7</th>\n",
       "      <td>33903360</td>\n",
       "      <td>sibelephant</td>\n",
       "      <td>Vladislav Artemiev</td>\n",
       "      <td>GM</td>\n",
       "      <td>3061</td>\n",
       "      <td>8</td>\n",
       "      <td><img src=\"https://images.chesscomfiles.com/uploads/v1/user/33903360.2370dea4.200x200o.72f8531eaa4d.jpeg\" width=\"100\" ></td>\n",
       "      <td>Russia</td>\n",
       "      <td>Омск</td>\n",
       "      <td>3161.0</td>\n",
       "      <td>298.0</td>\n",
       "      <td>97.0</td>\n",
       "      <td>61.0</td>\n",
       "    </tr>\n",
       "    <tr>\n",
       "      <th>8</th>\n",
       "      <td>1715324</td>\n",
       "      <td>danielnaroditsky</td>\n",
       "      <td>Daniel Naroditsky</td>\n",
       "      <td>GM</td>\n",
       "      <td>3059</td>\n",
       "      <td>9</td>\n",
       "      <td><img src=\"https://images.chesscomfiles.com/uploads/v1/user/1715324.ba7b263d.200x200o.f5fe2aa7e5b5.jpeg\" width=\"100\" ></td>\n",
       "      <td>United States</td>\n",
       "      <td>Foster City</td>\n",
       "      <td>3213.0</td>\n",
       "      <td>8698.0</td>\n",
       "      <td>4979.0</td>\n",
       "      <td>1566.0</td>\n",
       "    </tr>\n",
       "    <tr>\n",
       "      <th>9</th>\n",
       "      <td>8344034</td>\n",
       "      <td>penguingm1</td>\n",
       "      <td>Andrew Tang</td>\n",
       "      <td>GM</td>\n",
       "      <td>3056</td>\n",
       "      <td>10</td>\n",
       "      <td><img src=\"https://images.chesscomfiles.com/uploads/v1/user/8344034.b259c04b.200x200o.00c32658d64e.jpeg\" width=\"100\" ></td>\n",
       "      <td>United States</td>\n",
       "      <td>Princeton, NJ</td>\n",
       "      <td>3110.0</td>\n",
       "      <td>1508.0</td>\n",
       "      <td>914.0</td>\n",
       "      <td>194.0</td>\n",
       "    </tr>\n",
       "    <tr>\n",
       "      <th>10</th>\n",
       "      <td>30366824</td>\n",
       "      <td>gmwso</td>\n",
       "      <td>Wesley So</td>\n",
       "      <td>GM</td>\n",
       "      <td>3054</td>\n",
       "      <td>11</td>\n",
       "      <td><img src=\"https://images.chesscomfiles.com/uploads/v1/user/30366824.c1a272e0.200x200o.1266d394a39d.jpeg\" width=\"100\" ></td>\n",
       "      <td>United States</td>\n",
       "      <td>Unknown</td>\n",
       "      <td>3113.0</td>\n",
       "      <td>470.0</td>\n",
       "      <td>240.0</td>\n",
       "      <td>183.0</td>\n",
       "    </tr>\n",
       "    <tr>\n",
       "      <th>11</th>\n",
       "      <td>28435172</td>\n",
       "      <td>michaelroiz</td>\n",
       "      <td>Michael Roiz</td>\n",
       "      <td>GM</td>\n",
       "      <td>3052</td>\n",
       "      <td>12</td>\n",
       "      <td><img src=\"https://images.chesscomfiles.com/uploads/v1/user/28435172.90ee49b6.200x200o.d2bd6666967f.jpeg\" width=\"100\" ></td>\n",
       "      <td>Israel</td>\n",
       "      <td>Beer Sheva</td>\n",
       "      <td>3052.0</td>\n",
       "      <td>3054.0</td>\n",
       "      <td>1565.0</td>\n",
       "      <td>973.0</td>\n",
       "    </tr>\n",
       "    <tr>\n",
       "      <th>12</th>\n",
       "      <td>26897402</td>\n",
       "      <td>levonaronian</td>\n",
       "      <td>Levon Aronian</td>\n",
       "      <td>GM</td>\n",
       "      <td>3052</td>\n",
       "      <td>13</td>\n",
       "      <td><img src=\"https://images.chesscomfiles.com/uploads/v1/user/26897402.07482c01.200x200o.aafdac4f4570.jpeg\" width=\"100\" ></td>\n",
       "      <td>Armenia</td>\n",
       "      <td>Yerevan</td>\n",
       "      <td>3145.0</td>\n",
       "      <td>44.0</td>\n",
       "      <td>36.0</td>\n",
       "      <td>36.0</td>\n",
       "    </tr>\n",
       "    <tr>\n",
       "      <th>13</th>\n",
       "      <td>68988540</td>\n",
       "      <td>srinavasan</td>\n",
       "      <td>NaN</td>\n",
       "      <td>GM</td>\n",
       "      <td>3050</td>\n",
       "      <td>14</td>\n",
       "      <td><img src=\"https://betacssjs.chesscomfiles.com/bundles/web/images/noavatar_l.3e62aedf.gif\" width=\"100\" ></td>\n",
       "      <td>India</td>\n",
       "      <td>Unknown</td>\n",
       "      <td>3050.0</td>\n",
       "      <td>83.0</td>\n",
       "      <td>21.0</td>\n",
       "      <td>17.0</td>\n",
       "    </tr>\n",
       "    <tr>\n",
       "      <th>14</th>\n",
       "      <td>67456812</td>\n",
       "      <td>arjunerigaisi2003</td>\n",
       "      <td>Arjun Erigaisi</td>\n",
       "      <td>GM</td>\n",
       "      <td>3050</td>\n",
       "      <td>15</td>\n",
       "      <td><img src=\"https://images.chesscomfiles.com/uploads/v1/user/67456812.c71d3199.200x200o.2e86d41eec4d.jpeg\" width=\"100\" ></td>\n",
       "      <td>India</td>\n",
       "      <td>Warangal</td>\n",
       "      <td>3072.0</td>\n",
       "      <td>21.0</td>\n",
       "      <td>6.0</td>\n",
       "      <td>2.0</td>\n",
       "    </tr>\n",
       "    <tr>\n",
       "      <th>15</th>\n",
       "      <td>26572336</td>\n",
       "      <td>zhigalko_sergei</td>\n",
       "      <td>Sergei Zhigalko</td>\n",
       "      <td>GM</td>\n",
       "      <td>3030</td>\n",
       "      <td>16</td>\n",
       "      <td><img src=\"https://images.chesscomfiles.com/uploads/v1/user/26572336.93bb4ad6.200x200o.baa9688f1b6f.jpeg\" width=\"100\" ></td>\n",
       "      <td>Belarus</td>\n",
       "      <td>Минск</td>\n",
       "      <td>3031.0</td>\n",
       "      <td>815.0</td>\n",
       "      <td>562.0</td>\n",
       "      <td>156.0</td>\n",
       "    </tr>\n",
       "    <tr>\n",
       "      <th>16</th>\n",
       "      <td>28002936</td>\n",
       "      <td>shant_sargsyan</td>\n",
       "      <td>Shant Sargsyan</td>\n",
       "      <td>GM</td>\n",
       "      <td>3026</td>\n",
       "      <td>17</td>\n",
       "      <td><img src=\"https://images.chesscomfiles.com/uploads/v1/user/28002936.92f6d381.200x200o.332ad30b193a.jpeg\" width=\"100\" ></td>\n",
       "      <td>Armenia</td>\n",
       "      <td>Artsakh</td>\n",
       "      <td>3031.0</td>\n",
       "      <td>1605.0</td>\n",
       "      <td>1450.0</td>\n",
       "      <td>545.0</td>\n",
       "    </tr>\n",
       "    <tr>\n",
       "      <th>17</th>\n",
       "      <td>11177810</td>\n",
       "      <td>fabianocaruana</td>\n",
       "      <td>Fabiano Caruana</td>\n",
       "      <td>GM</td>\n",
       "      <td>3026</td>\n",
       "      <td>18</td>\n",
       "      <td><img src=\"https://images.chesscomfiles.com/uploads/v1/user/11177810.d53953f7.200x200o.3ef259191986.png\" width=\"100\" ></td>\n",
       "      <td>United States</td>\n",
       "      <td>Unknown</td>\n",
       "      <td>3057.0</td>\n",
       "      <td>451.0</td>\n",
       "      <td>142.0</td>\n",
       "      <td>70.0</td>\n",
       "    </tr>\n",
       "    <tr>\n",
       "      <th>18</th>\n",
       "      <td>28168290</td>\n",
       "      <td>oleksandr_bortnyk</td>\n",
       "      <td>Oleksandr Bortnyk</td>\n",
       "      <td>GM</td>\n",
       "      <td>3024</td>\n",
       "      <td>19</td>\n",
       "      <td><img src=\"https://images.chesscomfiles.com/uploads/v1/user/28168290.0998f38b.200x200o.c9fdc77c16cd.jpeg\" width=\"100\" ></td>\n",
       "      <td>United States</td>\n",
       "      <td>Unknown</td>\n",
       "      <td>3056.0</td>\n",
       "      <td>755.0</td>\n",
       "      <td>411.0</td>\n",
       "      <td>113.0</td>\n",
       "    </tr>\n",
       "    <tr>\n",
       "      <th>19</th>\n",
       "      <td>14498226</td>\n",
       "      <td>2vladimirovich90</td>\n",
       "      <td>Dmitry Andreikin</td>\n",
       "      <td>GM</td>\n",
       "      <td>3024</td>\n",
       "      <td>20</td>\n",
       "      <td><img src=\"https://images.chesscomfiles.com/uploads/v1/user/14498226.1bcb338a.200x200o.1e954e4fc86c.jpeg\" width=\"100\" ></td>\n",
       "      <td>Russia</td>\n",
       "      <td>Ryazan</td>\n",
       "      <td>3084.0</td>\n",
       "      <td>816.0</td>\n",
       "      <td>385.0</td>\n",
       "      <td>215.0</td>\n",
       "    </tr>\n",
       "    <tr>\n",
       "      <th>20</th>\n",
       "      <td>8829034</td>\n",
       "      <td>konavets</td>\n",
       "      <td>Sam Sevian</td>\n",
       "      <td>GM</td>\n",
       "      <td>3023</td>\n",
       "      <td>21</td>\n",
       "      <td><img src=\"https://images.chesscomfiles.com/uploads/v1/user/8829034.6d90a567.200x200o.60d12a06fdce.jpeg\" width=\"100\" ></td>\n",
       "      <td>United States</td>\n",
       "      <td>Mass</td>\n",
       "      <td>3032.0</td>\n",
       "      <td>1058.0</td>\n",
       "      <td>584.0</td>\n",
       "      <td>193.0</td>\n",
       "    </tr>\n",
       "    <tr>\n",
       "      <th>21</th>\n",
       "      <td>20056540</td>\n",
       "      <td>zhuu96</td>\n",
       "      <td>Zhamsaran Tsydypov</td>\n",
       "      <td>GM</td>\n",
       "      <td>3023</td>\n",
       "      <td>22</td>\n",
       "      <td><img src=\"https://images.chesscomfiles.com/uploads/v1/user/20056540.61f6e30e.200x200o.de3352b4af19.jpeg\" width=\"100\" ></td>\n",
       "      <td>Russia</td>\n",
       "      <td>Улан-Удэ</td>\n",
       "      <td>3023.0</td>\n",
       "      <td>1030.0</td>\n",
       "      <td>681.0</td>\n",
       "      <td>201.0</td>\n",
       "    </tr>\n",
       "    <tr>\n",
       "      <th>22</th>\n",
       "      <td>10342812</td>\n",
       "      <td>georgmeier</td>\n",
       "      <td>Georg Meier</td>\n",
       "      <td>GM</td>\n",
       "      <td>3023</td>\n",
       "      <td>23</td>\n",
       "      <td><img src=\"https://images.chesscomfiles.com/uploads/v1/user/10342812.0991b0a1.200x200o.2dd7e649012d.jpeg\" width=\"100\" ></td>\n",
       "      <td>Germany</td>\n",
       "      <td>Baden-Baden</td>\n",
       "      <td>3030.0</td>\n",
       "      <td>2659.0</td>\n",
       "      <td>1351.0</td>\n",
       "      <td>748.0</td>\n",
       "    </tr>\n",
       "    <tr>\n",
       "      <th>23</th>\n",
       "      <td>3952699</td>\n",
       "      <td>oparingrigoriy</td>\n",
       "      <td>Grigoriy Oparin</td>\n",
       "      <td>GM</td>\n",
       "      <td>3022</td>\n",
       "      <td>24</td>\n",
       "      <td><img src=\"https://images.chesscomfiles.com/uploads/v1/user/3952699.2d790c15.200x200o.81e8437ec8d6.png\" width=\"100\" ></td>\n",
       "      <td>Russia</td>\n",
       "      <td>Columbia, MO</td>\n",
       "      <td>3043.0</td>\n",
       "      <td>2149.0</td>\n",
       "      <td>974.0</td>\n",
       "      <td>515.0</td>\n",
       "    </tr>\n",
       "    <tr>\n",
       "      <th>24</th>\n",
       "      <td>30494226</td>\n",
       "      <td>amintabatabaei</td>\n",
       "      <td>Amin Tabatabaei</td>\n",
       "      <td>GM</td>\n",
       "      <td>3022</td>\n",
       "      <td>25</td>\n",
       "      <td><img src=\"https://images.chesscomfiles.com/uploads/v1/user/30494226.3ae10dcd.200x200o.d51eac6bc905.jpeg\" width=\"100\" ></td>\n",
       "      <td>Iran</td>\n",
       "      <td>Unknown</td>\n",
       "      <td>3030.0</td>\n",
       "      <td>2254.0</td>\n",
       "      <td>2452.0</td>\n",
       "      <td>543.0</td>\n",
       "    </tr>\n",
       "    <tr>\n",
       "      <th>25</th>\n",
       "      <td>19314948</td>\n",
       "      <td>sebastian</td>\n",
       "      <td>Leinier Dominguez Perez</td>\n",
       "      <td>GM</td>\n",
       "      <td>3021</td>\n",
       "      <td>26</td>\n",
       "      <td><img src=\"https://images.chesscomfiles.com/uploads/v1/user/19314948.b56efd36.200x200o.235173174298.jpeg\" width=\"100\" ></td>\n",
       "      <td>United States</td>\n",
       "      <td>Unknown</td>\n",
       "      <td>3021.0</td>\n",
       "      <td>849.0</td>\n",
       "      <td>483.0</td>\n",
       "      <td>269.0</td>\n",
       "    </tr>\n",
       "    <tr>\n",
       "      <th>26</th>\n",
       "      <td>32230490</td>\n",
       "      <td>parhamov</td>\n",
       "      <td>Parham Maghsoodloo</td>\n",
       "      <td>GM</td>\n",
       "      <td>3020</td>\n",
       "      <td>27</td>\n",
       "      <td><img src=\"https://images.chesscomfiles.com/uploads/v1/user/32230490.a56aa9ad.200x200o.f83a51f22737.jpeg\" width=\"100\" ></td>\n",
       "      <td>Iran</td>\n",
       "      <td>Gorgan</td>\n",
       "      <td>3191.0</td>\n",
       "      <td>1569.0</td>\n",
       "      <td>1453.0</td>\n",
       "      <td>393.0</td>\n",
       "    </tr>\n",
       "    <tr>\n",
       "      <th>27</th>\n",
       "      <td>13915816</td>\n",
       "      <td>azzaro25</td>\n",
       "      <td>NaN</td>\n",
       "      <td>GM</td>\n",
       "      <td>3020</td>\n",
       "      <td>28</td>\n",
       "      <td><img src=\"https://betacssjs.chesscomfiles.com/bundles/web/images/noavatar_l.3e62aedf.gif\" width=\"100\" ></td>\n",
       "      <td>Gambia</td>\n",
       "      <td>Unknown</td>\n",
       "      <td>3020.0</td>\n",
       "      <td>119.0</td>\n",
       "      <td>45.0</td>\n",
       "      <td>31.0</td>\n",
       "    </tr>\n",
       "    <tr>\n",
       "      <th>28</th>\n",
       "      <td>55459850</td>\n",
       "      <td>chefshouse</td>\n",
       "      <td>Ding Liren</td>\n",
       "      <td>GM</td>\n",
       "      <td>3019</td>\n",
       "      <td>29</td>\n",
       "      <td><img src=\"https://images.chesscomfiles.com/uploads/v1/user/55459850.9ab17dd9.200x200o.dd5bf1548fea.png\" width=\"100\" ></td>\n",
       "      <td>China</td>\n",
       "      <td>Unknown</td>\n",
       "      <td>3019.0</td>\n",
       "      <td>93.0</td>\n",
       "      <td>39.0</td>\n",
       "      <td>39.0</td>\n",
       "    </tr>\n",
       "    <tr>\n",
       "      <th>29</th>\n",
       "      <td>60028072</td>\n",
       "      <td>warzone2100</td>\n",
       "      <td>NaN</td>\n",
       "      <td>GM</td>\n",
       "      <td>3017</td>\n",
       "      <td>30</td>\n",
       "      <td><img src=\"https://betacssjs.chesscomfiles.com/bundles/web/images/noavatar_l.3e62aedf.gif\" width=\"100\" ></td>\n",
       "      <td>Russia</td>\n",
       "      <td>Unknown</td>\n",
       "      <td>3036.0</td>\n",
       "      <td>685.0</td>\n",
       "      <td>583.0</td>\n",
       "      <td>155.0</td>\n",
       "    </tr>\n",
       "    <tr>\n",
       "      <th>30</th>\n",
       "      <td>39098776</td>\n",
       "      <td>micki-taryan</td>\n",
       "      <td>Haik Martirosyan</td>\n",
       "      <td>GM</td>\n",
       "      <td>3009</td>\n",
       "      <td>31</td>\n",
       "      <td><img src=\"https://images.chesscomfiles.com/uploads/v1/user/39098776.2eb51a55.200x200o.247c36d230b4.jpeg\" width=\"100\" ></td>\n",
       "      <td>Armenia</td>\n",
       "      <td>Unknown</td>\n",
       "      <td>3052.0</td>\n",
       "      <td>1787.0</td>\n",
       "      <td>1012.0</td>\n",
       "      <td>284.0</td>\n",
       "    </tr>\n",
       "    <tr>\n",
       "      <th>31</th>\n",
       "      <td>10174260</td>\n",
       "      <td>duhless</td>\n",
       "      <td>Даниил Dubov</td>\n",
       "      <td>GM</td>\n",
       "      <td>3007</td>\n",
       "      <td>32</td>\n",
       "      <td><img src=\"https://images.chesscomfiles.com/uploads/v1/user/10174260.4a9346a5.200x200o.398c1db49983.jpeg\" width=\"100\" ></td>\n",
       "      <td>Russia</td>\n",
       "      <td>Moscow</td>\n",
       "      <td>3119.0</td>\n",
       "      <td>2168.0</td>\n",
       "      <td>1217.0</td>\n",
       "      <td>482.0</td>\n",
       "    </tr>\n",
       "    <tr>\n",
       "      <th>32</th>\n",
       "      <td>60658123</td>\n",
       "      <td>casper_schoppen</td>\n",
       "      <td>Casper Schoppen</td>\n",
       "      <td>IM</td>\n",
       "      <td>3005</td>\n",
       "      <td>33</td>\n",
       "      <td><img src=\"https://betacssjs.chesscomfiles.com/bundles/web/images/noavatar_l.3e62aedf.gif\" width=\"100\" ></td>\n",
       "      <td>Netherlands</td>\n",
       "      <td>Unknown</td>\n",
       "      <td>3005.0</td>\n",
       "      <td>308.0</td>\n",
       "      <td>182.0</td>\n",
       "      <td>60.0</td>\n",
       "    </tr>\n",
       "    <tr>\n",
       "      <th>33</th>\n",
       "      <td>16938404</td>\n",
       "      <td>wonderfultime</td>\n",
       "      <td>Tuan Minh Le</td>\n",
       "      <td>IM</td>\n",
       "      <td>3004</td>\n",
       "      <td>34</td>\n",
       "      <td><img src=\"https://images.chesscomfiles.com/uploads/v1/user/16938404.cd721908.200x200o.a060e278b221.jpeg\" width=\"100\" ></td>\n",
       "      <td>Vietnam</td>\n",
       "      <td>Ha Noi</td>\n",
       "      <td>3067.0</td>\n",
       "      <td>1998.0</td>\n",
       "      <td>1621.0</td>\n",
       "      <td>451.0</td>\n",
       "    </tr>\n",
       "    <tr>\n",
       "      <th>34</th>\n",
       "      <td>28651376</td>\n",
       "      <td>annawel</td>\n",
       "      <td>Jules Moussard</td>\n",
       "      <td>GM</td>\n",
       "      <td>3003</td>\n",
       "      <td>35</td>\n",
       "      <td><img src=\"https://images.chesscomfiles.com/uploads/v1/user/28651376.c2ab7264.200x200o.c090debc3c0e.jpeg\" width=\"100\" ></td>\n",
       "      <td>France</td>\n",
       "      <td>Unknown</td>\n",
       "      <td>3030.0</td>\n",
       "      <td>1394.0</td>\n",
       "      <td>986.0</td>\n",
       "      <td>252.0</td>\n",
       "    </tr>\n",
       "    <tr>\n",
       "      <th>35</th>\n",
       "      <td>39897820</td>\n",
       "      <td>akulyan</td>\n",
       "      <td>Edvard Munch</td>\n",
       "      <td>NaN</td>\n",
       "      <td>3002</td>\n",
       "      <td>36</td>\n",
       "      <td><img src=\"https://images.chesscomfiles.com/uploads/v1/user/39897820.720c8f87.200x200o.5c38962fb89b.jpeg\" width=\"100\" ></td>\n",
       "      <td>Armenia</td>\n",
       "      <td>Unknown</td>\n",
       "      <td>2941.0</td>\n",
       "      <td>1309.0</td>\n",
       "      <td>943.0</td>\n",
       "      <td>141.0</td>\n",
       "    </tr>\n",
       "    <tr>\n",
       "      <th>36</th>\n",
       "      <td>38698660</td>\n",
       "      <td>arturr22</td>\n",
       "      <td>Artur Gaifullin</td>\n",
       "      <td>FM</td>\n",
       "      <td>3002</td>\n",
       "      <td>37</td>\n",
       "      <td><img src=\"https://betacssjs.chesscomfiles.com/bundles/web/images/noavatar_l.3e62aedf.gif\" width=\"100\" ></td>\n",
       "      <td>Russia</td>\n",
       "      <td>Unknown</td>\n",
       "      <td>3002.0</td>\n",
       "      <td>846.0</td>\n",
       "      <td>567.0</td>\n",
       "      <td>113.0</td>\n",
       "    </tr>\n",
       "    <tr>\n",
       "      <th>37</th>\n",
       "      <td>25556738</td>\n",
       "      <td>conquistador-nomada</td>\n",
       "      <td>NaN</td>\n",
       "      <td>IM</td>\n",
       "      <td>3002</td>\n",
       "      <td>38</td>\n",
       "      <td><img src=\"https://images.chesscomfiles.com/uploads/v1/user/25556738.c7bb6efc.200x200o.3aa16622ec5f.jpeg\" width=\"100\" ></td>\n",
       "      <td>Spain</td>\n",
       "      <td>Unknown</td>\n",
       "      <td>3002.0</td>\n",
       "      <td>4033.0</td>\n",
       "      <td>3635.0</td>\n",
       "      <td>691.0</td>\n",
       "    </tr>\n",
       "    <tr>\n",
       "      <th>38</th>\n",
       "      <td>32014876</td>\n",
       "      <td>gena217</td>\n",
       "      <td>Guillermo Vazquez</td>\n",
       "      <td>IM</td>\n",
       "      <td>3001</td>\n",
       "      <td>39</td>\n",
       "      <td><img src=\"https://images.chesscomfiles.com/uploads/v1/user/32014876.615f1b28.200x200o.85a4b7446a73.jpeg\" width=\"100\" ></td>\n",
       "      <td>Paraguay</td>\n",
       "      <td>Unknown</td>\n",
       "      <td>3023.0</td>\n",
       "      <td>2211.0</td>\n",
       "      <td>1495.0</td>\n",
       "      <td>575.0</td>\n",
       "    </tr>\n",
       "    <tr>\n",
       "      <th>39</th>\n",
       "      <td>22252178</td>\n",
       "      <td>anishgiri</td>\n",
       "      <td>Anish Giri</td>\n",
       "      <td>GM</td>\n",
       "      <td>3000</td>\n",
       "      <td>40</td>\n",
       "      <td><img src=\"https://images.chesscomfiles.com/uploads/v1/user/22252178.d8dff8c3.200x200o.8375b4cb1335.jpeg\" width=\"100\" ></td>\n",
       "      <td>Netherlands</td>\n",
       "      <td>The Hague</td>\n",
       "      <td>3013.0</td>\n",
       "      <td>96.0</td>\n",
       "      <td>45.0</td>\n",
       "      <td>50.0</td>\n",
       "    </tr>\n",
       "    <tr>\n",
       "      <th>40</th>\n",
       "      <td>17860442</td>\n",
       "      <td>mishanick</td>\n",
       "      <td>Aleksey Sarana</td>\n",
       "      <td>GM</td>\n",
       "      <td>3000</td>\n",
       "      <td>41</td>\n",
       "      <td><img src=\"https://images.chesscomfiles.com/uploads/v1/user/17860442.d25fa08e.200x200o.81d6cc6b6581.png\" width=\"100\" ></td>\n",
       "      <td>Russia</td>\n",
       "      <td>Москва</td>\n",
       "      <td>3061.0</td>\n",
       "      <td>4303.0</td>\n",
       "      <td>2742.0</td>\n",
       "      <td>720.0</td>\n",
       "    </tr>\n",
       "    <tr>\n",
       "      <th>41</th>\n",
       "      <td>64313708</td>\n",
       "      <td>grimuare</td>\n",
       "      <td>NaN</td>\n",
       "      <td>NaN</td>\n",
       "      <td>2997</td>\n",
       "      <td>42</td>\n",
       "      <td><img src=\"https://betacssjs.chesscomfiles.com/bundles/web/images/noavatar_l.3e62aedf.gif\" width=\"100\" ></td>\n",
       "      <td>Ukraine</td>\n",
       "      <td>Unknown</td>\n",
       "      <td>2997.0</td>\n",
       "      <td>220.0</td>\n",
       "      <td>75.0</td>\n",
       "      <td>19.0</td>\n",
       "    </tr>\n",
       "    <tr>\n",
       "      <th>42</th>\n",
       "      <td>46523432</td>\n",
       "      <td>wudileige</td>\n",
       "      <td>Shanglei Lu</td>\n",
       "      <td>GM</td>\n",
       "      <td>2991</td>\n",
       "      <td>43</td>\n",
       "      <td><img src=\"https://images.chesscomfiles.com/uploads/v1/user/46523432.38f0afd3.200x200o.b71389bd424b.jpeg\" width=\"100\" ></td>\n",
       "      <td>China</td>\n",
       "      <td>Unknown</td>\n",
       "      <td>3016.0</td>\n",
       "      <td>58.0</td>\n",
       "      <td>43.0</td>\n",
       "      <td>20.0</td>\n",
       "    </tr>\n",
       "    <tr>\n",
       "      <th>43</th>\n",
       "      <td>28463094</td>\n",
       "      <td>sergiochess83</td>\n",
       "      <td>Sergey Grigoriants</td>\n",
       "      <td>GM</td>\n",
       "      <td>2990</td>\n",
       "      <td>44</td>\n",
       "      <td><img src=\"https://images.chesscomfiles.com/uploads/v1/user/28463094.80752087.200x200o.41e307edd884.jpeg\" width=\"100\" ></td>\n",
       "      <td>Russia</td>\n",
       "      <td>Moscow</td>\n",
       "      <td>2990.0</td>\n",
       "      <td>826.0</td>\n",
       "      <td>903.0</td>\n",
       "      <td>381.0</td>\n",
       "    </tr>\n",
       "    <tr>\n",
       "      <th>44</th>\n",
       "      <td>17050352</td>\n",
       "      <td>anton_demchenko</td>\n",
       "      <td>Anton Demchenko</td>\n",
       "      <td>GM</td>\n",
       "      <td>2987</td>\n",
       "      <td>45</td>\n",
       "      <td><img src=\"https://images.chesscomfiles.com/uploads/v1/user/17050352.124fbca8.200x200o.2a6c4ca147bb.jpeg\" width=\"100\" ></td>\n",
       "      <td>Russia</td>\n",
       "      <td>Novorossiysk</td>\n",
       "      <td>3030.0</td>\n",
       "      <td>1461.0</td>\n",
       "      <td>1178.0</td>\n",
       "      <td>261.0</td>\n",
       "    </tr>\n",
       "    <tr>\n",
       "      <th>45</th>\n",
       "      <td>46643936</td>\n",
       "      <td>chebure</td>\n",
       "      <td>Arystan Isanzhulov</td>\n",
       "      <td>FM</td>\n",
       "      <td>2986</td>\n",
       "      <td>46</td>\n",
       "      <td><img src=\"https://images.chesscomfiles.com/uploads/v1/user/46643936.9ac8bf67.200x200o.ce1b6d215ddc.jpeg\" width=\"100\" ></td>\n",
       "      <td>Kazakhstan</td>\n",
       "      <td>East Kazakhstan</td>\n",
       "      <td>3004.0</td>\n",
       "      <td>674.0</td>\n",
       "      <td>483.0</td>\n",
       "      <td>101.0</td>\n",
       "    </tr>\n",
       "    <tr>\n",
       "      <th>46</th>\n",
       "      <td>43258230</td>\n",
       "      <td>eltaj_safarli</td>\n",
       "      <td>Eltaj Safarli</td>\n",
       "      <td>GM</td>\n",
       "      <td>2982</td>\n",
       "      <td>47</td>\n",
       "      <td><img src=\"https://images.chesscomfiles.com/uploads/v1/user/43258230.6c7f0f97.200x200o.74cd83d01b17.jpeg\" width=\"100\" ></td>\n",
       "      <td>Azerbaijan</td>\n",
       "      <td>Unknown</td>\n",
       "      <td>3021.0</td>\n",
       "      <td>129.0</td>\n",
       "      <td>56.0</td>\n",
       "      <td>27.0</td>\n",
       "    </tr>\n",
       "    <tr>\n",
       "      <th>47</th>\n",
       "      <td>39193002</td>\n",
       "      <td>gmsrinath</td>\n",
       "      <td>Srinath Narayanan</td>\n",
       "      <td>GM</td>\n",
       "      <td>2982</td>\n",
       "      <td>48</td>\n",
       "      <td><img src=\"https://images.chesscomfiles.com/uploads/v1/user/39193002.8936b6a0.200x200o.5c97d1af6de3.jpeg\" width=\"100\" ></td>\n",
       "      <td>India</td>\n",
       "      <td>Chennai</td>\n",
       "      <td>3132.0</td>\n",
       "      <td>740.0</td>\n",
       "      <td>525.0</td>\n",
       "      <td>132.0</td>\n",
       "    </tr>\n",
       "    <tr>\n",
       "      <th>48</th>\n",
       "      <td>29483958</td>\n",
       "      <td>guenplen</td>\n",
       "      <td>Boris Grachev</td>\n",
       "      <td>GM</td>\n",
       "      <td>2980</td>\n",
       "      <td>49</td>\n",
       "      <td><img src=\"https://betacssjs.chesscomfiles.com/bundles/web/images/noavatar_l.3e62aedf.gif\" width=\"100\" ></td>\n",
       "      <td>Russia</td>\n",
       "      <td>Unknown</td>\n",
       "      <td>3003.0</td>\n",
       "      <td>514.0</td>\n",
       "      <td>225.0</td>\n",
       "      <td>91.0</td>\n",
       "    </tr>\n",
       "    <tr>\n",
       "      <th>49</th>\n",
       "      <td>10767030</td>\n",
       "      <td>andreikka</td>\n",
       "      <td>Andrey Esipenko</td>\n",
       "      <td>GM</td>\n",
       "      <td>2978</td>\n",
       "      <td>50</td>\n",
       "      <td><img src=\"https://images.chesscomfiles.com/uploads/v1/user/10767030.e0825f66.200x200o.7e9a1d92598d.jpeg\" width=\"100\" ></td>\n",
       "      <td>Russia</td>\n",
       "      <td>Unknown</td>\n",
       "      <td>3032.0</td>\n",
       "      <td>957.0</td>\n",
       "      <td>834.0</td>\n",
       "      <td>237.0</td>\n",
       "    </tr>\n",
       "  </tbody>\n",
       "</table>"
      ],
      "text/plain": [
       "<IPython.core.display.HTML object>"
      ]
     },
     "execution_count": 99,
     "metadata": {},
     "output_type": "execute_result"
    }
   ],
   "source": [
    "def path_to_image_html(path):\n",
    "    return '<img src=\"'+ path + '\" width=\"100\" >'\n",
    "\n",
    "pd.set_option('display.max_colwidth', -1)\n",
    "\n",
    "HTML(leaderboard_blitz_dataframe.to_html(escape=False ,formatters=dict(avatar=path_to_image_html)))"
   ]
  },
  {
   "cell_type": "markdown",
   "metadata": {
    "heading_collapsed": true
   },
   "source": [
    "## Games Dataset Blitz"
   ]
  },
  {
   "cell_type": "markdown",
   "metadata": {
    "hidden": true
   },
   "source": [
    "Primero sacamos la lista de todas la url de cada jugador con partidas."
   ]
  },
  {
   "cell_type": "code",
   "execution_count": 104,
   "metadata": {
    "ExecuteTime": {
     "end_time": "2020-02-19T16:56:37.355147Z",
     "start_time": "2020-02-19T16:56:19.630870Z"
    },
    "hidden": true
   },
   "outputs": [],
   "source": [
    "list_games = []\n",
    "for i in leaderboard_blitz_dataframe.index:\n",
    "    url = f\"https://api.chess.com/pub/player/{leaderboard_blitz_dataframe.loc[i,'username']}/games/archives\"\n",
    "    r = requests.get(url).json()['archives']\n",
    "    list_games += r\n"
   ]
  },
  {
   "cell_type": "markdown",
   "metadata": {
    "hidden": true
   },
   "source": [
    "De cada URL obtenemos la informacion de cada partida (Tarda bastante en ejecutarse, son todas las partidas de los 50 mejores jugadores)"
   ]
  },
  {
   "cell_type": "code",
   "execution_count": 114,
   "metadata": {
    "ExecuteTime": {
     "end_time": "2020-02-19T19:23:00.326779Z",
     "start_time": "2020-02-19T18:54:06.737566Z"
    },
    "hidden": true
   },
   "outputs": [],
   "source": [
    "lst_all_games = [json_normalize(requests.get(i).json()['games']) for i in list_games]"
   ]
  },
  {
   "cell_type": "code",
   "execution_count": 115,
   "metadata": {
    "ExecuteTime": {
     "end_time": "2020-02-19T19:23:35.642020Z",
     "start_time": "2020-02-19T19:23:32.145476Z"
    },
    "hidden": true
   },
   "outputs": [],
   "source": [
    "data = pd.concat(lst_all_games,ignore_index=True, sort=False)"
   ]
  },
  {
   "cell_type": "code",
   "execution_count": 121,
   "metadata": {
    "ExecuteTime": {
     "end_time": "2020-02-19T20:02:49.483562Z",
     "start_time": "2020-02-19T20:02:48.956971Z"
    },
    "hidden": true
   },
   "outputs": [
    {
     "name": "stdout",
     "output_type": "stream",
     "text": [
      "<class 'pandas.core.frame.DataFrame'>\n",
      "RangeIndex: 382925 entries, 0 to 382924\n",
      "Data columns (total 19 columns):\n",
      "url               382925 non-null object\n",
      "pgn               356016 non-null object\n",
      "time_control      382925 non-null object\n",
      "end_time          382925 non-null int64\n",
      "rated             382925 non-null bool\n",
      "fen               382925 non-null object\n",
      "time_class        382925 non-null object\n",
      "rules             382925 non-null object\n",
      "white.rating      382925 non-null int64\n",
      "white.result      382925 non-null object\n",
      "white.@id         382925 non-null object\n",
      "white.username    382925 non-null object\n",
      "black.rating      382925 non-null int64\n",
      "black.result      382925 non-null object\n",
      "black.@id         382925 non-null object\n",
      "black.username    382925 non-null object\n",
      "start_time        1288 non-null float64\n",
      "tournament        9153 non-null object\n",
      "match             178 non-null object\n",
      "dtypes: bool(1), float64(1), int64(3), object(14)\n",
      "memory usage: 53.0+ MB\n"
     ]
    }
   ],
   "source": [
    "data.info()\n"
   ]
  },
  {
   "cell_type": "code",
   "execution_count": 171,
   "metadata": {
    "ExecuteTime": {
     "end_time": "2020-02-20T07:05:28.607641Z",
     "start_time": "2020-02-20T07:05:28.352266Z"
    },
    "hidden": true
   },
   "outputs": [],
   "source": [
    "data1 = data.copy()"
   ]
  },
  {
   "cell_type": "code",
   "execution_count": 172,
   "metadata": {
    "ExecuteTime": {
     "end_time": "2020-02-20T07:06:03.919711Z",
     "start_time": "2020-02-20T07:06:03.607435Z"
    },
    "hidden": true
   },
   "outputs": [
    {
     "data": {
      "text/html": [
       "<div>\n",
       "<style scoped>\n",
       "    .dataframe tbody tr th:only-of-type {\n",
       "        vertical-align: middle;\n",
       "    }\n",
       "\n",
       "    .dataframe tbody tr th {\n",
       "        vertical-align: top;\n",
       "    }\n",
       "\n",
       "    .dataframe thead th {\n",
       "        text-align: right;\n",
       "    }\n",
       "</style>\n",
       "<table border=\"1\" class=\"dataframe\">\n",
       "  <thead>\n",
       "    <tr style=\"text-align: right;\">\n",
       "      <th></th>\n",
       "      <th>time_class</th>\n",
       "      <th>white.username</th>\n",
       "      <th>white.rating</th>\n",
       "      <th>black.username</th>\n",
       "      <th>black.rating</th>\n",
       "      <th>time_control</th>\n",
       "      <th>white.result</th>\n",
       "      <th>black.result</th>\n",
       "      <th>pgn</th>\n",
       "      <th>rated</th>\n",
       "    </tr>\n",
       "  </thead>\n",
       "  <tbody>\n",
       "    <tr>\n",
       "      <td>0</td>\n",
       "      <td>blitz</td>\n",
       "      <td>Hikaru</td>\n",
       "      <td>2354</td>\n",
       "      <td>Godswill</td>\n",
       "      <td>2167</td>\n",
       "      <td>180</td>\n",
       "      <td>win</td>\n",
       "      <td>resigned</td>\n",
       "      <td>[Event \"Live Chess\"]\\n[Site \"Chess.com\"]\\n[Date \"2014.01.06\"]\\n[Round \"-\"]\\n[White \"Hikaru\"]\\n[Black \"Godswill\"]\\n[Result \"1-0\"]\\n[ECO \"C25\"]\\n[ECOUrl \"https://www.chess.com/openings/Vienna-Game-Max-Lange-Paulsen-Variation\"]\\n[CurrentPosition \"6k1/1p2R3/p1p5/8/2P1B3/1P1P1p1P/P6K/8 b - -\"]\\n[Timezone \"UTC\"]\\n[UTCDate \"2014.01.06\"]\\n[UTCTime \"23:50:17\"]\\n[WhiteElo \"2354\"]\\n[BlackElo \"2167\"]\\n[TimeControl \"180\"]\\n[Termination \"Hikaru won by resignation\"]\\n[StartTime \"23:50:17\"]\\n[EndDate \"2014.01.06\"]\\n[EndTime \"23:54:39\"]\\n[Link \"https://www.chess.com/live/game/692667823\"]\\n\\n1. e4 {[%clk 0:03:00]} 1... e5 {[%clk 0:03:00]} 2. Nc3 {[%clk 0:02:57.6]} 2... Nc6 {[%clk 0:02:57.2]} 3. g3 {[%clk 0:02:42.4]} 3... g6 {[%clk 0:02:52.5]} 4. Bg2 {[%clk 0:02:40.8]} 4... Bg7 {[%clk 0:02:51.8]} 5. Nge2 {[%clk 0:02:38.3]} 5... Nge7 {[%clk 0:02:50.8]} 6. O-O {[%clk 0:02:37.6]} 6... O-O {[%clk 0:02:49.7]} 7. d3 {[%clk 0:02:37.1]} 7... d6 {[%clk 0:02:48.7]} 8. h3 {[%clk 0:02:36.6]} 8... h6 {[%clk 0:02:46.9]} 9. Be3 {[%clk 0:02:35.5]} 9... Be6 {[%clk 0:02:45.5]} 10. Qd2 {[%clk 0:02:35]} 10... Qd7 {[%clk 0:02:44]} 11. Kh2 {[%clk 0:02:33]} 11... Kh7 {[%clk 0:02:42.5]} 12. Nd5 {[%clk 0:02:32.2]} 12... Nd4 {[%clk 0:02:37.4]} 13. Nxe7 {[%clk 0:02:21.8]} 13... Qxe7 {[%clk 0:02:33]} 14. c3 {[%clk 0:02:21.1]} 14... Nxe2 {[%clk 0:02:31.7]} 15. Qxe2 {[%clk 0:02:20.3]} 15... c6 {[%clk 0:02:30.5]} 16. f4 {[%clk 0:02:18.9]} 16... f5 {[%clk 0:02:28.8]} 17. Rae1 {[%clk 0:02:16.3]} 17... a6 {[%clk 0:02:18.1]} 18. fxe5 {[%clk 0:02:13.1]} 18... dxe5 {[%clk 0:02:16.6]} 19. exf5 {[%clk 0:02:11.8]} 19... Bxf5 {[%clk 0:02:15.8]} 20. g4 {[%clk 0:02:11.2]} 20... Be6 {[%clk 0:02:14.8]} 21. c4 {[%clk 0:02:10.7]} 21... Rad8 {[%clk 0:02:12.4]} 22. Be4 {[%clk 0:02:09.6]} 22... Bf7 {[%clk 0:02:04.3]} 23. b3 {[%clk 0:02:07.4]} 23... Qh4 {[%clk 0:01:38.8]} 24. Bf2 {[%clk 0:02:04.8]} 24... Qg5 {[%clk 0:01:37]} 25. Bc5 {[%clk 0:02:03.6]} 25... Be6 {[%clk 0:01:22.7]} 26. Bxf8 {[%clk 0:01:47.4]} 26... Rxf8 {[%clk 0:01:20.9]} 27. Rxf8 {[%clk 0:01:45.1]} 27... Bxf8 {[%clk 0:01:20.1]} 28. Qf2 {[%clk 0:01:44.4]} 28... Be7 {[%clk 0:01:09.6]} 29. Rf1 {[%clk 0:01:42]} 29... h5 {[%clk 0:01:05.2]} 30. gxh5 {[%clk 0:01:40.1]} 30... Qxh5 {[%clk 0:01:04.5]} 31. Qf3 {[%clk 0:01:39.3]} 31... Qg5 {[%clk 0:00:59.4]} 32. Rg1 {[%clk 0:01:34.1]} 32... Qf4+ {[%clk 0:00:48.6]} 33. Qxf4 {[%clk 0:01:29.8]} 33... exf4 {[%clk 0:00:47.8]} 34. Rxg6 {[%clk 0:01:29.4]} 34... f3 {[%clk 0:00:32.9]} 35. Rxe6+ {[%clk 0:01:27.2]} 35... Kg8 {[%clk 0:00:32]} 36. Rxe7 {[%clk 0:01:26.3]} 1-0</td>\n",
       "      <td>True</td>\n",
       "    </tr>\n",
       "    <tr>\n",
       "      <td>1</td>\n",
       "      <td>blitz</td>\n",
       "      <td>Godswill</td>\n",
       "      <td>2163</td>\n",
       "      <td>Hikaru</td>\n",
       "      <td>2438</td>\n",
       "      <td>180</td>\n",
       "      <td>timeout</td>\n",
       "      <td>win</td>\n",
       "      <td>[Event \"Live Chess\"]\\n[Site \"Chess.com\"]\\n[Date \"2014.01.06\"]\\n[Round \"-\"]\\n[White \"Godswill\"]\\n[Black \"Hikaru\"]\\n[Result \"0-1\"]\\n[ECO \"A50\"]\\n[ECOUrl \"https://www.chess.com/openings/Indian-Game-Accelerated-Variation\"]\\n[CurrentPosition \"8/8/7p/7P/1p6/pBkpp2b/8/4K3 w - -\"]\\n[Timezone \"UTC\"]\\n[UTCDate \"2014.01.06\"]\\n[UTCTime \"23:54:43\"]\\n[WhiteElo \"2163\"]\\n[BlackElo \"2438\"]\\n[TimeControl \"180\"]\\n[Termination \"Hikaru won on time\"]\\n[StartTime \"23:54:43\"]\\n[EndDate \"2014.01.07\"]\\n[EndTime \"00:00:32\"]\\n[Link \"https://www.chess.com/live/game/692670646\"]\\n\\n1. d4 {[%clk 0:03:00]} 1... Nf6 {[%clk 0:03:00]} 2. c4 {[%clk 0:02:59.2]} 2... b6 {[%clk 0:02:59.1]} 3. Nc3 {[%clk 0:02:58.4]} 3... Bb7 {[%clk 0:02:58.9]} 4. f3 {[%clk 0:02:57.8]} 4... e6 {[%clk 0:02:58.3]} 5. e4 {[%clk 0:02:57.1]} 5... d5 {[%clk 0:02:56.7]} 6. e5 {[%clk 0:02:55.8]} 6... Nfd7 {[%clk 0:02:55.5]} 7. cxd5 {[%clk 0:02:53.6]} 7... exd5 {[%clk 0:02:54.7]} 8. Bd3 {[%clk 0:02:52.7]} 8... c5 {[%clk 0:02:53.6]} 9. dxc5 {[%clk 0:02:36.8]} 9... Bxc5 {[%clk 0:02:50.9]} 10. Qe2 {[%clk 0:02:26.4]} 10... Nc6 {[%clk 0:02:48.5]} 11. f4 {[%clk 0:02:24.7]} 11... Nd4 {[%clk 0:02:47.3]} 12. Qg4 {[%clk 0:02:20.3]} 12... Qe7 {[%clk 0:02:43.6]} 13. Nge2 {[%clk 0:02:18]} 13... Nxe2 {[%clk 0:02:37.3]} 14. Nxe2 {[%clk 0:02:12]} 14... Bb4+ {[%clk 0:02:36.4]} 15. Kf1 {[%clk 0:02:07.1]} 15... O-O {[%clk 0:02:18.5]} 16. a3 {[%clk 0:02:00.2]} 16... f6 {[%clk 0:02:18]} 17. axb4 {[%clk 0:01:57.3]} 17... fxe5 {[%clk 0:02:17.2]} 18. Bf5 {[%clk 0:01:49.6]} 18... Nf6 {[%clk 0:02:15]} 19. Qh3 {[%clk 0:01:47.1]} 19... g6 {[%clk 0:02:10.3]} 20. Be6+ {[%clk 0:01:41.8]} 20... Kh8 {[%clk 0:02:09.6]} 21. f5 {[%clk 0:01:41.2]} 21... Ne4 {[%clk 0:02:03.2]} 22. Kg1 {[%clk 0:01:28.6]} 22... Qxb4 {[%clk 0:01:49.5]} 23. Bh6 {[%clk 0:01:24.3]} 23... Qxb2 {[%clk 0:01:38.7]} 24. Re1 {[%clk 0:01:22.4]} 24... Qb4 {[%clk 0:01:33.6]} 25. Rf1 {[%clk 0:01:12.4]} 25... Rf6 {[%clk 0:01:31.8]} 26. g4 {[%clk 0:00:55.5]} 26... Ba6 {[%clk 0:01:27.6]} 27. Qe3 {[%clk 0:00:53.3]} 27... gxf5 {[%clk 0:01:24.2]} 28. Qg5 {[%clk 0:00:39]} 28... Nxg5 {[%clk 0:01:22.8]} 29. Bxg5 {[%clk 0:00:37.5]} 29... Qxg4+ {[%clk 0:01:06.7]} 30. Ng3 {[%clk 0:00:35.1]} 30... Qxg5 {[%clk 0:01:05.2]} 31. Rxf5 {[%clk 0:00:32.5]} 31... Rxf5 {[%clk 0:01:00]} 32. Bxf5 {[%clk 0:00:31.5]} 32... Qd2 {[%clk 0:00:59.2]} 33. h4 {[%clk 0:00:25.6]} 33... Rg8 {[%clk 0:00:57.5]} 34. Rh3 {[%clk 0:00:24.9]} 34... Bd3 {[%clk 0:00:54.4]} 35. Be6 {[%clk 0:00:23.9]} 35... Rxg3+ {[%clk 0:00:52.1]} 36. Rxg3 {[%clk 0:00:21.9]} 36... Qe1+ {[%clk 0:00:51.7]} 37. Kh2 {[%clk 0:00:20.9]} 37... Qxg3+ {[%clk 0:00:51.5]} 38. Kxg3 {[%clk 0:00:20.1]} 38... d4 {[%clk 0:00:51.2]} 39. Kf3 {[%clk 0:00:19.2]} 39... a5 {[%clk 0:00:49.6]} 40. Bd5 {[%clk 0:00:17.7]} 40... a4 {[%clk 0:00:48.8]} 41. Kg4 {[%clk 0:00:16.5]} 41... a3 {[%clk 0:00:48]} 42. Kg5 {[%clk 0:00:15.8]} 42... Kg7 {[%clk 0:00:47.3]} 43. h5 {[%clk 0:00:14.8]} 43... h6+ {[%clk 0:00:46.8]} 44. Kg4 {[%clk 0:00:14.1]} 44... b5 {[%clk 0:00:46.1]} 45. Kf3 {[%clk 0:00:11.6]} 45... b4 {[%clk 0:00:45.4]} 46. Kf2 {[%clk 0:00:10.9]} 46... e4 {[%clk 0:00:44.6]} 47. Ke1 {[%clk 0:00:10.1]} 47... e3 {[%clk 0:00:43.4]} 48. Kd1 {[%clk 0:00:09.3]} 48... Kf6 {[%clk 0:00:42.7]} 49. Kc1 {[%clk 0:00:08.4]} 49... Ke5 {[%clk 0:00:41.9]} 50. Bb3 {[%clk 0:00:06.8]} 50... Bf5 {[%clk 0:00:41.2]} 51. Kd1 {[%clk 0:00:05.5]} 51... d3 {[%clk 0:00:40.6]} 52. Ke1 {[%clk 0:00:04.6]} 52... Bh3 {[%clk 0:00:39.9]} 53. Bd1 {[%clk 0:00:02.5]} 53... Kd4 {[%clk 0:00:39.1]} 54. Bb3 {[%clk 0:00:01.6]} 54... Kc3 {[%clk 0:00:38.5]} 0-1</td>\n",
       "      <td>True</td>\n",
       "    </tr>\n",
       "    <tr>\n",
       "      <td>2</td>\n",
       "      <td>bullet</td>\n",
       "      <td>manueliux_06</td>\n",
       "      <td>2104</td>\n",
       "      <td>Hikaru</td>\n",
       "      <td>2336</td>\n",
       "      <td>60</td>\n",
       "      <td>resigned</td>\n",
       "      <td>win</td>\n",
       "      <td>[Event \"Live Chess\"]\\n[Site \"Chess.com\"]\\n[Date \"2014.01.07\"]\\n[Round \"-\"]\\n[White \"manueliux_06\"]\\n[Black \"Hikaru\"]\\n[Result \"0-1\"]\\n[ECO \"C25\"]\\n[ECOUrl \"https://www.chess.com/openings/Vienna-Game-2...d6\"]\\n[CurrentPosition \"rnb3k1/5ppp/2p5/p1b5/1p3B2/6P1/PPPNr1KP/R4R2 w - -\"]\\n[Timezone \"UTC\"]\\n[UTCDate \"2014.01.07\"]\\n[UTCTime \"00:34:20\"]\\n[WhiteElo \"2104\"]\\n[BlackElo \"2336\"]\\n[TimeControl \"60\"]\\n[Termination \"Hikaru won by resignation\"]\\n[StartTime \"00:34:20\"]\\n[EndDate \"2014.01.07\"]\\n[EndTime \"00:35:05\"]\\n[Link \"https://www.chess.com/live/game/692695595\"]\\n\\n1. e4 {[%clk 0:01:00]} 1... e5 {[%clk 0:01:00]} 2. Nc3 {[%clk 0:00:59.9]} 2... d6 {[%clk 0:00:57.7]} 3. Nf3 {[%clk 0:00:59.8]} 3... Nf6 {[%clk 0:00:57.2]} 4. d3 {[%clk 0:00:59.7]} 4... Be7 {[%clk 0:00:56.2]} 5. Be2 {[%clk 0:00:59.6]} 5... O-O {[%clk 0:00:55.4]} 6. O-O {[%clk 0:00:59.5]} 6... c6 {[%clk 0:00:54.6]} 7. Ne1 {[%clk 0:00:59.4]} 7... b5 {[%clk 0:00:54.2]} 8. g3 {[%clk 0:00:58.7]} 8... b4 {[%clk 0:00:52.9]} 9. Nb1 {[%clk 0:00:57.5]} 9... d5 {[%clk 0:00:52.8]} 10. Ng2 {[%clk 0:00:57.1]} 10... dxe4 {[%clk 0:00:52]} 11. dxe4 {[%clk 0:00:56.6]} 11... Nxe4 {[%clk 0:00:51.5]} 12. Qe1 {[%clk 0:00:55.7]} 12... Nf6 {[%clk 0:00:50.3]} 13. Be3 {[%clk 0:00:54.9]} 13... Nd5 {[%clk 0:00:49.2]} 14. Bd2 {[%clk 0:00:53.5]} 14... a5 {[%clk 0:00:48]} 15. f4 {[%clk 0:00:52.2]} 15... exf4 {[%clk 0:00:46.9]} 16. Nxf4 {[%clk 0:00:52.1]} 16... Nxf4 {[%clk 0:00:46.5]} 17. Bxf4 {[%clk 0:00:51.8]} 17... Bc5+ {[%clk 0:00:45.9]} 18. Kg2 {[%clk 0:00:50.7]} 18... Re8 {[%clk 0:00:45.3]} 19. Qd2 {[%clk 0:00:48]} 19... Qxd2 {[%clk 0:00:43.2]} 20. Nxd2 {[%clk 0:00:47.9]} 20... Rxe2+ {[%clk 0:00:42.4]} 0-1</td>\n",
       "      <td>True</td>\n",
       "    </tr>\n",
       "    <tr>\n",
       "      <td>3</td>\n",
       "      <td>bullet</td>\n",
       "      <td>Hikaru</td>\n",
       "      <td>2411</td>\n",
       "      <td>manueliux_06</td>\n",
       "      <td>2101</td>\n",
       "      <td>60</td>\n",
       "      <td>win</td>\n",
       "      <td>resigned</td>\n",
       "      <td>[Event \"Live Chess\"]\\n[Site \"Chess.com\"]\\n[Date \"2014.01.07\"]\\n[Round \"-\"]\\n[White \"Hikaru\"]\\n[Black \"manueliux_06\"]\\n[Result \"1-0\"]\\n[ECO \"B10\"]\\n[ECOUrl \"https://www.chess.com/openings/Caro-Kann-Defense-Two-Knights-Attack\"]\\n[CurrentPosition \"8/p7/R6p/5pk1/8/6P1/P4P2/6K1 b - -\"]\\n[Timezone \"UTC\"]\\n[UTCDate \"2014.01.07\"]\\n[UTCTime \"00:35:52\"]\\n[WhiteElo \"2411\"]\\n[BlackElo \"2101\"]\\n[TimeControl \"60\"]\\n[Termination \"Hikaru won by resignation\"]\\n[StartTime \"00:35:52\"]\\n[EndDate \"2014.01.07\"]\\n[EndTime \"00:37:45\"]\\n[Link \"https://www.chess.com/live/game/692696567\"]\\n\\n1. e4 {[%clk 0:01:00]} 1... c6 {[%clk 0:01:00]} 2. Nc3 {[%clk 0:00:59.7]} 2... d5 {[%clk 0:00:59.8]} 3. Nf3 {[%clk 0:00:59.4]} 3... e5 {[%clk 0:00:59]} 4. Nxe5 {[%clk 0:00:58.3]} 4... d4 {[%clk 0:00:58.1]} 5. Ne2 {[%clk 0:00:57.3]} 5... Qe7 {[%clk 0:00:57.1]} 6. Nf3 {[%clk 0:00:56.6]} 6... Qxe4 {[%clk 0:00:56]} 7. d3 {[%clk 0:00:56.1]} 7... Qd5 {[%clk 0:00:53.5]} 8. Nexd4 {[%clk 0:00:54.5]} 8... Nf6 {[%clk 0:00:52.2]} 9. Be2 {[%clk 0:00:53.5]} 9... Be7 {[%clk 0:00:51.6]} 10. Nb3 {[%clk 0:00:53.4]} 10... O-O {[%clk 0:00:50.5]} 11. O-O {[%clk 0:00:53.3]} 11... Bf5 {[%clk 0:00:49.4]} 12. c4 {[%clk 0:00:53.2]} 12... Qd7 {[%clk 0:00:48.2]} 13. d4 {[%clk 0:00:53.1]} 13... Na6 {[%clk 0:00:46.5]} 14. Ne5 {[%clk 0:00:53]} 14... Qc7 {[%clk 0:00:44.8]} 15. Bf4 {[%clk 0:00:52.5]} 15... Bd6 {[%clk 0:00:43.3]} 16. c5 {[%clk 0:00:52.1]} 16... Bxe5 {[%clk 0:00:40.2]} 17. Bxe5 {[%clk 0:00:52]} 17... Qe7 {[%clk 0:00:38.6]} 18. Bxa6 {[%clk 0:00:51.3]} 18... bxa6 {[%clk 0:00:37.3]} 19. Bd6 {[%clk 0:00:51.2]} 19... Qd7 {[%clk 0:00:35.2]} 20. Bxf8 {[%clk 0:00:49.4]} 20... Rxf8 {[%clk 0:00:35.1]} 21. Re1 {[%clk 0:00:48.5]} 21... Nd5 {[%clk 0:00:33.6]} 22. Nd2 {[%clk 0:00:47.8]} 22... Qd8 {[%clk 0:00:31.7]} 23. Nc4 {[%clk 0:00:47.3]} 23... Qg5 {[%clk 0:00:30.7]} 24. Ne5 {[%clk 0:00:46.8]} 24... Bh3 {[%clk 0:00:29.7]} 25. Qf3 {[%clk 0:00:44.8]} 25... Bf5 {[%clk 0:00:27.9]} 26. h4 {[%clk 0:00:43.4]} 26... Qh6 {[%clk 0:00:26]} 27. Qxf5 {[%clk 0:00:42.1]} 27... Qd2 {[%clk 0:00:23.1]} 28. Rad1 {[%clk 0:00:40.6]} 28... Qxb2 {[%clk 0:00:22.1]} 29. Nxc6 {[%clk 0:00:40]} 29... Nc3 {[%clk 0:00:20.5]} 30. Ne7+ {[%clk 0:00:38.6]} 30... Kh8 {[%clk 0:00:19]} 31. d5 {[%clk 0:00:38.5]} 31... Nxd1 {[%clk 0:00:17.7]} 32. Rxd1 {[%clk 0:00:38.4]} 32... Qe2 {[%clk 0:00:16.7]} 33. Qd3 {[%clk 0:00:36.5]} 33... Qxe7 {[%clk 0:00:16]} 34. d6 {[%clk 0:00:36.1]} 34... Qd7 {[%clk 0:00:15.1]} 35. Qd5 {[%clk 0:00:35.2]} 35... Rc8 {[%clk 0:00:14.5]} 36. c6 {[%clk 0:00:34.7]} 36... Rxc6 {[%clk 0:00:13.7]} 37. Qxc6 {[%clk 0:00:34.2]} 37... Qxc6 {[%clk 0:00:12.5]} 38. d7 {[%clk 0:00:34.1]} 38... h6 {[%clk 0:00:09.6]} 39. d8=Q+ {[%clk 0:00:32.5]} 39... Kh7 {[%clk 0:00:09.3]} 40. Qd3+ {[%clk 0:00:32.2]} 40... g6 {[%clk 0:00:07.9]} 41. Qd5 {[%clk 0:00:32.1]} 41... Qf6 {[%clk 0:00:06.7]} 42. g3 {[%clk 0:00:31.3]} 42... Kg7 {[%clk 0:00:06.1]} 43. Qd4 {[%clk 0:00:30.6]} 43... g5 {[%clk 0:00:04.5]} 44. Qxf6+ {[%clk 0:00:29.6]} 44... Kxf6 {[%clk 0:00:04.4]} 45. hxg5+ {[%clk 0:00:29.5]} 45... Kxg5 {[%clk 0:00:04.3]} 46. Rd6 {[%clk 0:00:29.4]} 46... f5 {[%clk 0:00:04.2]} 47. Rxa6 {[%clk 0:00:29.2]} 1-0</td>\n",
       "      <td>True</td>\n",
       "    </tr>\n",
       "    <tr>\n",
       "      <td>4</td>\n",
       "      <td>blitz</td>\n",
       "      <td>Hikaru</td>\n",
       "      <td>2509</td>\n",
       "      <td>Dmitriy_From_Russia</td>\n",
       "      <td>2266</td>\n",
       "      <td>180</td>\n",
       "      <td>win</td>\n",
       "      <td>resigned</td>\n",
       "      <td>[Event \"Live Chess\"]\\n[Site \"Chess.com\"]\\n[Date \"2014.01.07\"]\\n[Round \"-\"]\\n[White \"Hikaru\"]\\n[Black \"Dmitriy_From_Russia\"]\\n[Result \"1-0\"]\\n[ECO \"B07\"]\\n[ECOUrl \"https://www.chess.com/openings/Pirc-Defense\"]\\n[CurrentPosition \"2R5/1p3rkp/1B1p1bp1/p2Pp3/P3B3/6PP/5P1K/8 b - -\"]\\n[Timezone \"UTC\"]\\n[UTCDate \"2014.01.07\"]\\n[UTCTime \"00:43:10\"]\\n[WhiteElo \"2509\"]\\n[BlackElo \"2266\"]\\n[TimeControl \"180\"]\\n[Termination \"Hikaru won by resignation\"]\\n[StartTime \"00:43:10\"]\\n[EndDate \"2014.01.07\"]\\n[EndTime \"00:46:10\"]\\n[Link \"https://www.chess.com/live/game/692700868\"]\\n\\n1. e4 {[%clk 0:03:00]} 1... d6 {[%clk 0:03:00]} 2. g3 {[%clk 0:02:59.2]} 2... g6 {[%clk 0:02:59.2]} 3. Bg2 {[%clk 0:02:58.1]} 3... Bg7 {[%clk 0:02:58.5]} 4. Ne2 {[%clk 0:02:56.2]} 4... Nf6 {[%clk 0:02:57.6]} 5. d4 {[%clk 0:02:51.4]} 5... O-O {[%clk 0:02:56.4]} 6. c4 {[%clk 0:02:48.9]} 6... c6 {[%clk 0:02:55.1]} 7. O-O {[%clk 0:02:47.7]} 7... Nbd7 {[%clk 0:02:53.3]} 8. Nec3 {[%clk 0:02:45.3]} 8... e5 {[%clk 0:02:51.8]} 9. d5 {[%clk 0:02:44.8]} 9... Nc5 {[%clk 0:02:49.4]} 10. b4 {[%clk 0:02:41.9]} 10... Na6 {[%clk 0:02:45.4]} 11. a3 {[%clk 0:02:40.5]} 11... Nc7 {[%clk 0:02:41.8]} 12. h3 {[%clk 0:02:35.4]} 12... a5 {[%clk 0:02:39.1]} 13. b5 {[%clk 0:02:32.3]} 13... cxd5 {[%clk 0:02:36.2]} 14. cxd5 {[%clk 0:02:28]} 14... Bd7 {[%clk 0:02:32.3]} 15. a4 {[%clk 0:02:26.6]} 15... Qc8 {[%clk 0:02:28.3]} 16. Kh2 {[%clk 0:02:24.9]} 16... Nh5 {[%clk 0:02:25.1]} 17. Nd2 {[%clk 0:02:19.5]} 17... Na6 {[%clk 0:02:21.3]} 18. Ra3 {[%clk 0:02:09.8]} 18... f5 {[%clk 0:02:18.7]} 19. bxa6 {[%clk 0:02:08.4]} 19... Rxa6 {[%clk 0:02:15.6]} 20. exf5 {[%clk 0:02:05.7]} 20... Bxf5 {[%clk 0:02:13.9]} 21. Nde4 {[%clk 0:02:04.5]} 21... Nf6 {[%clk 0:02:09.8]} 22. Nxf6+ {[%clk 0:02:03.4]} 22... Bxf6 {[%clk 0:02:08.2]} 23. Ne4 {[%clk 0:02:03.3]} 23... Bg7 {[%clk 0:02:04.4]} 24. Rc3 {[%clk 0:02:01.7]} 24... Qd7 {[%clk 0:02:02]} 25. Qb3 {[%clk 0:02:00.6]} 25... Raa8 {[%clk 0:01:58]} 26. Be3 {[%clk 0:01:59.4]} 26... Bxe4 {[%clk 0:01:54.9]} 27. Bxe4 {[%clk 0:01:58.1]} 27... Rf7 {[%clk 0:01:50.5]} 28. Rfc1 {[%clk 0:01:57.1]} 28... Raf8 {[%clk 0:01:47.9]} 29. Qc2 {[%clk 0:01:56.2]} 29... Bf6 {[%clk 0:01:42.4]} 30. Rc7 {[%clk 0:01:55]} 30... Qd8 {[%clk 0:01:39.8]} 31. Rxf7 {[%clk 0:01:54]} 31... Rxf7 {[%clk 0:01:35.8]} 32. Qc8 {[%clk 0:01:52.7]} 32... Qxc8 {[%clk 0:01:32.6]} 33. Rxc8+ {[%clk 0:01:52.6]} 33... Kg7 {[%clk 0:01:30.1]} 34. Bb6 {[%clk 0:01:51.2]} 1-0</td>\n",
       "      <td>True</td>\n",
       "    </tr>\n",
       "  </tbody>\n",
       "</table>\n",
       "</div>"
      ],
      "text/plain": [
       "  time_class white.username  white.rating       black.username  black.rating  \\\n",
       "0  blitz      Hikaru         2354          Godswill             2167           \n",
       "1  blitz      Godswill       2163          Hikaru               2438           \n",
       "2  bullet     manueliux_06   2104          Hikaru               2336           \n",
       "3  bullet     Hikaru         2411          manueliux_06         2101           \n",
       "4  blitz      Hikaru         2509          Dmitriy_From_Russia  2266           \n",
       "\n",
       "  time_control white.result black.result  \\\n",
       "0  180          win          resigned      \n",
       "1  180          timeout      win           \n",
       "2  60           resigned     win           \n",
       "3  60           win          resigned      \n",
       "4  180          win          resigned      \n",
       "\n",
       "                                                                                                                                                                                                                                                                                                                                                                                                                                                                                                                                                                                                                                                                                                                                                                                                                                                                                                                                                                                                                                                                                                                                                                                                                                                                                                                                                                                                                                                                                                                                                                                                                                                                                                                                                                                                                                                                                                                                                                                                                                                                                                                                                                                                                                                                                                                                                                                                                                                                                                                                                                                                                                                                                                                                                                                                                                                                                                                                                                                                                                                                                                                                                                                                                                                                                                                                                                                                                                                                                                                                                                                                                                                                                                 pgn  \\\n",
       "0  [Event \"Live Chess\"]\\n[Site \"Chess.com\"]\\n[Date \"2014.01.06\"]\\n[Round \"-\"]\\n[White \"Hikaru\"]\\n[Black \"Godswill\"]\\n[Result \"1-0\"]\\n[ECO \"C25\"]\\n[ECOUrl \"https://www.chess.com/openings/Vienna-Game-Max-Lange-Paulsen-Variation\"]\\n[CurrentPosition \"6k1/1p2R3/p1p5/8/2P1B3/1P1P1p1P/P6K/8 b - -\"]\\n[Timezone \"UTC\"]\\n[UTCDate \"2014.01.06\"]\\n[UTCTime \"23:50:17\"]\\n[WhiteElo \"2354\"]\\n[BlackElo \"2167\"]\\n[TimeControl \"180\"]\\n[Termination \"Hikaru won by resignation\"]\\n[StartTime \"23:50:17\"]\\n[EndDate \"2014.01.06\"]\\n[EndTime \"23:54:39\"]\\n[Link \"https://www.chess.com/live/game/692667823\"]\\n\\n1. e4 {[%clk 0:03:00]} 1... e5 {[%clk 0:03:00]} 2. Nc3 {[%clk 0:02:57.6]} 2... Nc6 {[%clk 0:02:57.2]} 3. g3 {[%clk 0:02:42.4]} 3... g6 {[%clk 0:02:52.5]} 4. Bg2 {[%clk 0:02:40.8]} 4... Bg7 {[%clk 0:02:51.8]} 5. Nge2 {[%clk 0:02:38.3]} 5... Nge7 {[%clk 0:02:50.8]} 6. O-O {[%clk 0:02:37.6]} 6... O-O {[%clk 0:02:49.7]} 7. d3 {[%clk 0:02:37.1]} 7... d6 {[%clk 0:02:48.7]} 8. h3 {[%clk 0:02:36.6]} 8... h6 {[%clk 0:02:46.9]} 9. Be3 {[%clk 0:02:35.5]} 9... Be6 {[%clk 0:02:45.5]} 10. Qd2 {[%clk 0:02:35]} 10... Qd7 {[%clk 0:02:44]} 11. Kh2 {[%clk 0:02:33]} 11... Kh7 {[%clk 0:02:42.5]} 12. Nd5 {[%clk 0:02:32.2]} 12... Nd4 {[%clk 0:02:37.4]} 13. Nxe7 {[%clk 0:02:21.8]} 13... Qxe7 {[%clk 0:02:33]} 14. c3 {[%clk 0:02:21.1]} 14... Nxe2 {[%clk 0:02:31.7]} 15. Qxe2 {[%clk 0:02:20.3]} 15... c6 {[%clk 0:02:30.5]} 16. f4 {[%clk 0:02:18.9]} 16... f5 {[%clk 0:02:28.8]} 17. Rae1 {[%clk 0:02:16.3]} 17... a6 {[%clk 0:02:18.1]} 18. fxe5 {[%clk 0:02:13.1]} 18... dxe5 {[%clk 0:02:16.6]} 19. exf5 {[%clk 0:02:11.8]} 19... Bxf5 {[%clk 0:02:15.8]} 20. g4 {[%clk 0:02:11.2]} 20... Be6 {[%clk 0:02:14.8]} 21. c4 {[%clk 0:02:10.7]} 21... Rad8 {[%clk 0:02:12.4]} 22. Be4 {[%clk 0:02:09.6]} 22... Bf7 {[%clk 0:02:04.3]} 23. b3 {[%clk 0:02:07.4]} 23... Qh4 {[%clk 0:01:38.8]} 24. Bf2 {[%clk 0:02:04.8]} 24... Qg5 {[%clk 0:01:37]} 25. Bc5 {[%clk 0:02:03.6]} 25... Be6 {[%clk 0:01:22.7]} 26. Bxf8 {[%clk 0:01:47.4]} 26... Rxf8 {[%clk 0:01:20.9]} 27. Rxf8 {[%clk 0:01:45.1]} 27... Bxf8 {[%clk 0:01:20.1]} 28. Qf2 {[%clk 0:01:44.4]} 28... Be7 {[%clk 0:01:09.6]} 29. Rf1 {[%clk 0:01:42]} 29... h5 {[%clk 0:01:05.2]} 30. gxh5 {[%clk 0:01:40.1]} 30... Qxh5 {[%clk 0:01:04.5]} 31. Qf3 {[%clk 0:01:39.3]} 31... Qg5 {[%clk 0:00:59.4]} 32. Rg1 {[%clk 0:01:34.1]} 32... Qf4+ {[%clk 0:00:48.6]} 33. Qxf4 {[%clk 0:01:29.8]} 33... exf4 {[%clk 0:00:47.8]} 34. Rxg6 {[%clk 0:01:29.4]} 34... f3 {[%clk 0:00:32.9]} 35. Rxe6+ {[%clk 0:01:27.2]} 35... Kg8 {[%clk 0:00:32]} 36. Rxe7 {[%clk 0:01:26.3]} 1-0                                                                                                                                                                                                                                                                                                                                                                                                                                                                                                                                                                                                                                                                                                                                                                                                                                                                                                                                                                                                                                                      \n",
       "1  [Event \"Live Chess\"]\\n[Site \"Chess.com\"]\\n[Date \"2014.01.06\"]\\n[Round \"-\"]\\n[White \"Godswill\"]\\n[Black \"Hikaru\"]\\n[Result \"0-1\"]\\n[ECO \"A50\"]\\n[ECOUrl \"https://www.chess.com/openings/Indian-Game-Accelerated-Variation\"]\\n[CurrentPosition \"8/8/7p/7P/1p6/pBkpp2b/8/4K3 w - -\"]\\n[Timezone \"UTC\"]\\n[UTCDate \"2014.01.06\"]\\n[UTCTime \"23:54:43\"]\\n[WhiteElo \"2163\"]\\n[BlackElo \"2438\"]\\n[TimeControl \"180\"]\\n[Termination \"Hikaru won on time\"]\\n[StartTime \"23:54:43\"]\\n[EndDate \"2014.01.07\"]\\n[EndTime \"00:00:32\"]\\n[Link \"https://www.chess.com/live/game/692670646\"]\\n\\n1. d4 {[%clk 0:03:00]} 1... Nf6 {[%clk 0:03:00]} 2. c4 {[%clk 0:02:59.2]} 2... b6 {[%clk 0:02:59.1]} 3. Nc3 {[%clk 0:02:58.4]} 3... Bb7 {[%clk 0:02:58.9]} 4. f3 {[%clk 0:02:57.8]} 4... e6 {[%clk 0:02:58.3]} 5. e4 {[%clk 0:02:57.1]} 5... d5 {[%clk 0:02:56.7]} 6. e5 {[%clk 0:02:55.8]} 6... Nfd7 {[%clk 0:02:55.5]} 7. cxd5 {[%clk 0:02:53.6]} 7... exd5 {[%clk 0:02:54.7]} 8. Bd3 {[%clk 0:02:52.7]} 8... c5 {[%clk 0:02:53.6]} 9. dxc5 {[%clk 0:02:36.8]} 9... Bxc5 {[%clk 0:02:50.9]} 10. Qe2 {[%clk 0:02:26.4]} 10... Nc6 {[%clk 0:02:48.5]} 11. f4 {[%clk 0:02:24.7]} 11... Nd4 {[%clk 0:02:47.3]} 12. Qg4 {[%clk 0:02:20.3]} 12... Qe7 {[%clk 0:02:43.6]} 13. Nge2 {[%clk 0:02:18]} 13... Nxe2 {[%clk 0:02:37.3]} 14. Nxe2 {[%clk 0:02:12]} 14... Bb4+ {[%clk 0:02:36.4]} 15. Kf1 {[%clk 0:02:07.1]} 15... O-O {[%clk 0:02:18.5]} 16. a3 {[%clk 0:02:00.2]} 16... f6 {[%clk 0:02:18]} 17. axb4 {[%clk 0:01:57.3]} 17... fxe5 {[%clk 0:02:17.2]} 18. Bf5 {[%clk 0:01:49.6]} 18... Nf6 {[%clk 0:02:15]} 19. Qh3 {[%clk 0:01:47.1]} 19... g6 {[%clk 0:02:10.3]} 20. Be6+ {[%clk 0:01:41.8]} 20... Kh8 {[%clk 0:02:09.6]} 21. f5 {[%clk 0:01:41.2]} 21... Ne4 {[%clk 0:02:03.2]} 22. Kg1 {[%clk 0:01:28.6]} 22... Qxb4 {[%clk 0:01:49.5]} 23. Bh6 {[%clk 0:01:24.3]} 23... Qxb2 {[%clk 0:01:38.7]} 24. Re1 {[%clk 0:01:22.4]} 24... Qb4 {[%clk 0:01:33.6]} 25. Rf1 {[%clk 0:01:12.4]} 25... Rf6 {[%clk 0:01:31.8]} 26. g4 {[%clk 0:00:55.5]} 26... Ba6 {[%clk 0:01:27.6]} 27. Qe3 {[%clk 0:00:53.3]} 27... gxf5 {[%clk 0:01:24.2]} 28. Qg5 {[%clk 0:00:39]} 28... Nxg5 {[%clk 0:01:22.8]} 29. Bxg5 {[%clk 0:00:37.5]} 29... Qxg4+ {[%clk 0:01:06.7]} 30. Ng3 {[%clk 0:00:35.1]} 30... Qxg5 {[%clk 0:01:05.2]} 31. Rxf5 {[%clk 0:00:32.5]} 31... Rxf5 {[%clk 0:01:00]} 32. Bxf5 {[%clk 0:00:31.5]} 32... Qd2 {[%clk 0:00:59.2]} 33. h4 {[%clk 0:00:25.6]} 33... Rg8 {[%clk 0:00:57.5]} 34. Rh3 {[%clk 0:00:24.9]} 34... Bd3 {[%clk 0:00:54.4]} 35. Be6 {[%clk 0:00:23.9]} 35... Rxg3+ {[%clk 0:00:52.1]} 36. Rxg3 {[%clk 0:00:21.9]} 36... Qe1+ {[%clk 0:00:51.7]} 37. Kh2 {[%clk 0:00:20.9]} 37... Qxg3+ {[%clk 0:00:51.5]} 38. Kxg3 {[%clk 0:00:20.1]} 38... d4 {[%clk 0:00:51.2]} 39. Kf3 {[%clk 0:00:19.2]} 39... a5 {[%clk 0:00:49.6]} 40. Bd5 {[%clk 0:00:17.7]} 40... a4 {[%clk 0:00:48.8]} 41. Kg4 {[%clk 0:00:16.5]} 41... a3 {[%clk 0:00:48]} 42. Kg5 {[%clk 0:00:15.8]} 42... Kg7 {[%clk 0:00:47.3]} 43. h5 {[%clk 0:00:14.8]} 43... h6+ {[%clk 0:00:46.8]} 44. Kg4 {[%clk 0:00:14.1]} 44... b5 {[%clk 0:00:46.1]} 45. Kf3 {[%clk 0:00:11.6]} 45... b4 {[%clk 0:00:45.4]} 46. Kf2 {[%clk 0:00:10.9]} 46... e4 {[%clk 0:00:44.6]} 47. Ke1 {[%clk 0:00:10.1]} 47... e3 {[%clk 0:00:43.4]} 48. Kd1 {[%clk 0:00:09.3]} 48... Kf6 {[%clk 0:00:42.7]} 49. Kc1 {[%clk 0:00:08.4]} 49... Ke5 {[%clk 0:00:41.9]} 50. Bb3 {[%clk 0:00:06.8]} 50... Bf5 {[%clk 0:00:41.2]} 51. Kd1 {[%clk 0:00:05.5]} 51... d3 {[%clk 0:00:40.6]} 52. Ke1 {[%clk 0:00:04.6]} 52... Bh3 {[%clk 0:00:39.9]} 53. Bd1 {[%clk 0:00:02.5]} 53... Kd4 {[%clk 0:00:39.1]} 54. Bb3 {[%clk 0:00:01.6]} 54... Kc3 {[%clk 0:00:38.5]} 0-1   \n",
       "2  [Event \"Live Chess\"]\\n[Site \"Chess.com\"]\\n[Date \"2014.01.07\"]\\n[Round \"-\"]\\n[White \"manueliux_06\"]\\n[Black \"Hikaru\"]\\n[Result \"0-1\"]\\n[ECO \"C25\"]\\n[ECOUrl \"https://www.chess.com/openings/Vienna-Game-2...d6\"]\\n[CurrentPosition \"rnb3k1/5ppp/2p5/p1b5/1p3B2/6P1/PPPNr1KP/R4R2 w - -\"]\\n[Timezone \"UTC\"]\\n[UTCDate \"2014.01.07\"]\\n[UTCTime \"00:34:20\"]\\n[WhiteElo \"2104\"]\\n[BlackElo \"2336\"]\\n[TimeControl \"60\"]\\n[Termination \"Hikaru won by resignation\"]\\n[StartTime \"00:34:20\"]\\n[EndDate \"2014.01.07\"]\\n[EndTime \"00:35:05\"]\\n[Link \"https://www.chess.com/live/game/692695595\"]\\n\\n1. e4 {[%clk 0:01:00]} 1... e5 {[%clk 0:01:00]} 2. Nc3 {[%clk 0:00:59.9]} 2... d6 {[%clk 0:00:57.7]} 3. Nf3 {[%clk 0:00:59.8]} 3... Nf6 {[%clk 0:00:57.2]} 4. d3 {[%clk 0:00:59.7]} 4... Be7 {[%clk 0:00:56.2]} 5. Be2 {[%clk 0:00:59.6]} 5... O-O {[%clk 0:00:55.4]} 6. O-O {[%clk 0:00:59.5]} 6... c6 {[%clk 0:00:54.6]} 7. Ne1 {[%clk 0:00:59.4]} 7... b5 {[%clk 0:00:54.2]} 8. g3 {[%clk 0:00:58.7]} 8... b4 {[%clk 0:00:52.9]} 9. Nb1 {[%clk 0:00:57.5]} 9... d5 {[%clk 0:00:52.8]} 10. Ng2 {[%clk 0:00:57.1]} 10... dxe4 {[%clk 0:00:52]} 11. dxe4 {[%clk 0:00:56.6]} 11... Nxe4 {[%clk 0:00:51.5]} 12. Qe1 {[%clk 0:00:55.7]} 12... Nf6 {[%clk 0:00:50.3]} 13. Be3 {[%clk 0:00:54.9]} 13... Nd5 {[%clk 0:00:49.2]} 14. Bd2 {[%clk 0:00:53.5]} 14... a5 {[%clk 0:00:48]} 15. f4 {[%clk 0:00:52.2]} 15... exf4 {[%clk 0:00:46.9]} 16. Nxf4 {[%clk 0:00:52.1]} 16... Nxf4 {[%clk 0:00:46.5]} 17. Bxf4 {[%clk 0:00:51.8]} 17... Bc5+ {[%clk 0:00:45.9]} 18. Kg2 {[%clk 0:00:50.7]} 18... Re8 {[%clk 0:00:45.3]} 19. Qd2 {[%clk 0:00:48]} 19... Qxd2 {[%clk 0:00:43.2]} 20. Nxd2 {[%clk 0:00:47.9]} 20... Rxe2+ {[%clk 0:00:42.4]} 0-1                                                                                                                                                                                                                                                                                                                                                                                                                                                                                                                                                                                                                                                                                                                                                                                                                                                                                                                                                                                                                                                                                                                                                                                                                                                                                                                                                                                                                                                                                                                                                                                                                                                                                                                                                                                                                                                                                                                                                                  \n",
       "3  [Event \"Live Chess\"]\\n[Site \"Chess.com\"]\\n[Date \"2014.01.07\"]\\n[Round \"-\"]\\n[White \"Hikaru\"]\\n[Black \"manueliux_06\"]\\n[Result \"1-0\"]\\n[ECO \"B10\"]\\n[ECOUrl \"https://www.chess.com/openings/Caro-Kann-Defense-Two-Knights-Attack\"]\\n[CurrentPosition \"8/p7/R6p/5pk1/8/6P1/P4P2/6K1 b - -\"]\\n[Timezone \"UTC\"]\\n[UTCDate \"2014.01.07\"]\\n[UTCTime \"00:35:52\"]\\n[WhiteElo \"2411\"]\\n[BlackElo \"2101\"]\\n[TimeControl \"60\"]\\n[Termination \"Hikaru won by resignation\"]\\n[StartTime \"00:35:52\"]\\n[EndDate \"2014.01.07\"]\\n[EndTime \"00:37:45\"]\\n[Link \"https://www.chess.com/live/game/692696567\"]\\n\\n1. e4 {[%clk 0:01:00]} 1... c6 {[%clk 0:01:00]} 2. Nc3 {[%clk 0:00:59.7]} 2... d5 {[%clk 0:00:59.8]} 3. Nf3 {[%clk 0:00:59.4]} 3... e5 {[%clk 0:00:59]} 4. Nxe5 {[%clk 0:00:58.3]} 4... d4 {[%clk 0:00:58.1]} 5. Ne2 {[%clk 0:00:57.3]} 5... Qe7 {[%clk 0:00:57.1]} 6. Nf3 {[%clk 0:00:56.6]} 6... Qxe4 {[%clk 0:00:56]} 7. d3 {[%clk 0:00:56.1]} 7... Qd5 {[%clk 0:00:53.5]} 8. Nexd4 {[%clk 0:00:54.5]} 8... Nf6 {[%clk 0:00:52.2]} 9. Be2 {[%clk 0:00:53.5]} 9... Be7 {[%clk 0:00:51.6]} 10. Nb3 {[%clk 0:00:53.4]} 10... O-O {[%clk 0:00:50.5]} 11. O-O {[%clk 0:00:53.3]} 11... Bf5 {[%clk 0:00:49.4]} 12. c4 {[%clk 0:00:53.2]} 12... Qd7 {[%clk 0:00:48.2]} 13. d4 {[%clk 0:00:53.1]} 13... Na6 {[%clk 0:00:46.5]} 14. Ne5 {[%clk 0:00:53]} 14... Qc7 {[%clk 0:00:44.8]} 15. Bf4 {[%clk 0:00:52.5]} 15... Bd6 {[%clk 0:00:43.3]} 16. c5 {[%clk 0:00:52.1]} 16... Bxe5 {[%clk 0:00:40.2]} 17. Bxe5 {[%clk 0:00:52]} 17... Qe7 {[%clk 0:00:38.6]} 18. Bxa6 {[%clk 0:00:51.3]} 18... bxa6 {[%clk 0:00:37.3]} 19. Bd6 {[%clk 0:00:51.2]} 19... Qd7 {[%clk 0:00:35.2]} 20. Bxf8 {[%clk 0:00:49.4]} 20... Rxf8 {[%clk 0:00:35.1]} 21. Re1 {[%clk 0:00:48.5]} 21... Nd5 {[%clk 0:00:33.6]} 22. Nd2 {[%clk 0:00:47.8]} 22... Qd8 {[%clk 0:00:31.7]} 23. Nc4 {[%clk 0:00:47.3]} 23... Qg5 {[%clk 0:00:30.7]} 24. Ne5 {[%clk 0:00:46.8]} 24... Bh3 {[%clk 0:00:29.7]} 25. Qf3 {[%clk 0:00:44.8]} 25... Bf5 {[%clk 0:00:27.9]} 26. h4 {[%clk 0:00:43.4]} 26... Qh6 {[%clk 0:00:26]} 27. Qxf5 {[%clk 0:00:42.1]} 27... Qd2 {[%clk 0:00:23.1]} 28. Rad1 {[%clk 0:00:40.6]} 28... Qxb2 {[%clk 0:00:22.1]} 29. Nxc6 {[%clk 0:00:40]} 29... Nc3 {[%clk 0:00:20.5]} 30. Ne7+ {[%clk 0:00:38.6]} 30... Kh8 {[%clk 0:00:19]} 31. d5 {[%clk 0:00:38.5]} 31... Nxd1 {[%clk 0:00:17.7]} 32. Rxd1 {[%clk 0:00:38.4]} 32... Qe2 {[%clk 0:00:16.7]} 33. Qd3 {[%clk 0:00:36.5]} 33... Qxe7 {[%clk 0:00:16]} 34. d6 {[%clk 0:00:36.1]} 34... Qd7 {[%clk 0:00:15.1]} 35. Qd5 {[%clk 0:00:35.2]} 35... Rc8 {[%clk 0:00:14.5]} 36. c6 {[%clk 0:00:34.7]} 36... Rxc6 {[%clk 0:00:13.7]} 37. Qxc6 {[%clk 0:00:34.2]} 37... Qxc6 {[%clk 0:00:12.5]} 38. d7 {[%clk 0:00:34.1]} 38... h6 {[%clk 0:00:09.6]} 39. d8=Q+ {[%clk 0:00:32.5]} 39... Kh7 {[%clk 0:00:09.3]} 40. Qd3+ {[%clk 0:00:32.2]} 40... g6 {[%clk 0:00:07.9]} 41. Qd5 {[%clk 0:00:32.1]} 41... Qf6 {[%clk 0:00:06.7]} 42. g3 {[%clk 0:00:31.3]} 42... Kg7 {[%clk 0:00:06.1]} 43. Qd4 {[%clk 0:00:30.6]} 43... g5 {[%clk 0:00:04.5]} 44. Qxf6+ {[%clk 0:00:29.6]} 44... Kxf6 {[%clk 0:00:04.4]} 45. hxg5+ {[%clk 0:00:29.5]} 45... Kxg5 {[%clk 0:00:04.3]} 46. Rd6 {[%clk 0:00:29.4]} 46... f5 {[%clk 0:00:04.2]} 47. Rxa6 {[%clk 0:00:29.2]} 1-0                                                                                                                                                                                                                                                                                                                                                                                                                    \n",
       "4  [Event \"Live Chess\"]\\n[Site \"Chess.com\"]\\n[Date \"2014.01.07\"]\\n[Round \"-\"]\\n[White \"Hikaru\"]\\n[Black \"Dmitriy_From_Russia\"]\\n[Result \"1-0\"]\\n[ECO \"B07\"]\\n[ECOUrl \"https://www.chess.com/openings/Pirc-Defense\"]\\n[CurrentPosition \"2R5/1p3rkp/1B1p1bp1/p2Pp3/P3B3/6PP/5P1K/8 b - -\"]\\n[Timezone \"UTC\"]\\n[UTCDate \"2014.01.07\"]\\n[UTCTime \"00:43:10\"]\\n[WhiteElo \"2509\"]\\n[BlackElo \"2266\"]\\n[TimeControl \"180\"]\\n[Termination \"Hikaru won by resignation\"]\\n[StartTime \"00:43:10\"]\\n[EndDate \"2014.01.07\"]\\n[EndTime \"00:46:10\"]\\n[Link \"https://www.chess.com/live/game/692700868\"]\\n\\n1. e4 {[%clk 0:03:00]} 1... d6 {[%clk 0:03:00]} 2. g3 {[%clk 0:02:59.2]} 2... g6 {[%clk 0:02:59.2]} 3. Bg2 {[%clk 0:02:58.1]} 3... Bg7 {[%clk 0:02:58.5]} 4. Ne2 {[%clk 0:02:56.2]} 4... Nf6 {[%clk 0:02:57.6]} 5. d4 {[%clk 0:02:51.4]} 5... O-O {[%clk 0:02:56.4]} 6. c4 {[%clk 0:02:48.9]} 6... c6 {[%clk 0:02:55.1]} 7. O-O {[%clk 0:02:47.7]} 7... Nbd7 {[%clk 0:02:53.3]} 8. Nec3 {[%clk 0:02:45.3]} 8... e5 {[%clk 0:02:51.8]} 9. d5 {[%clk 0:02:44.8]} 9... Nc5 {[%clk 0:02:49.4]} 10. b4 {[%clk 0:02:41.9]} 10... Na6 {[%clk 0:02:45.4]} 11. a3 {[%clk 0:02:40.5]} 11... Nc7 {[%clk 0:02:41.8]} 12. h3 {[%clk 0:02:35.4]} 12... a5 {[%clk 0:02:39.1]} 13. b5 {[%clk 0:02:32.3]} 13... cxd5 {[%clk 0:02:36.2]} 14. cxd5 {[%clk 0:02:28]} 14... Bd7 {[%clk 0:02:32.3]} 15. a4 {[%clk 0:02:26.6]} 15... Qc8 {[%clk 0:02:28.3]} 16. Kh2 {[%clk 0:02:24.9]} 16... Nh5 {[%clk 0:02:25.1]} 17. Nd2 {[%clk 0:02:19.5]} 17... Na6 {[%clk 0:02:21.3]} 18. Ra3 {[%clk 0:02:09.8]} 18... f5 {[%clk 0:02:18.7]} 19. bxa6 {[%clk 0:02:08.4]} 19... Rxa6 {[%clk 0:02:15.6]} 20. exf5 {[%clk 0:02:05.7]} 20... Bxf5 {[%clk 0:02:13.9]} 21. Nde4 {[%clk 0:02:04.5]} 21... Nf6 {[%clk 0:02:09.8]} 22. Nxf6+ {[%clk 0:02:03.4]} 22... Bxf6 {[%clk 0:02:08.2]} 23. Ne4 {[%clk 0:02:03.3]} 23... Bg7 {[%clk 0:02:04.4]} 24. Rc3 {[%clk 0:02:01.7]} 24... Qd7 {[%clk 0:02:02]} 25. Qb3 {[%clk 0:02:00.6]} 25... Raa8 {[%clk 0:01:58]} 26. Be3 {[%clk 0:01:59.4]} 26... Bxe4 {[%clk 0:01:54.9]} 27. Bxe4 {[%clk 0:01:58.1]} 27... Rf7 {[%clk 0:01:50.5]} 28. Rfc1 {[%clk 0:01:57.1]} 28... Raf8 {[%clk 0:01:47.9]} 29. Qc2 {[%clk 0:01:56.2]} 29... Bf6 {[%clk 0:01:42.4]} 30. Rc7 {[%clk 0:01:55]} 30... Qd8 {[%clk 0:01:39.8]} 31. Rxf7 {[%clk 0:01:54]} 31... Rxf7 {[%clk 0:01:35.8]} 32. Qc8 {[%clk 0:01:52.7]} 32... Qxc8 {[%clk 0:01:32.6]} 33. Rxc8+ {[%clk 0:01:52.6]} 33... Kg7 {[%clk 0:01:30.1]} 34. Bb6 {[%clk 0:01:51.2]} 1-0                                                                                                                                                                                                                                                                                                                                                                                                                                                                                                                                                                                                                                                                                                                                                                                                                                                                                                                                                                                                                                                                                                                                                                               \n",
       "\n",
       "   rated  \n",
       "0  True   \n",
       "1  True   \n",
       "2  True   \n",
       "3  True   \n",
       "4  True   "
      ]
     },
     "execution_count": 172,
     "metadata": {},
     "output_type": "execute_result"
    }
   ],
   "source": [
    "data1 = data1[['time_class','white.username', 'white.rating', 'black.username', 'black.rating', \n",
    "                        'time_control','white.result','black.result','pgn','rated']]\n",
    "data1.head()\n"
   ]
  },
  {
   "cell_type": "code",
   "execution_count": 186,
   "metadata": {
    "ExecuteTime": {
     "end_time": "2020-02-20T07:16:07.259901Z",
     "start_time": "2020-02-20T07:16:07.118446Z"
    },
    "hidden": true
   },
   "outputs": [
    {
     "data": {
      "text/plain": [
       "bullet    194127\n",
       "blitz     185060\n",
       "rapid     2450  \n",
       "daily     1288  \n",
       "Name: time_class, dtype: int64"
      ]
     },
     "execution_count": 186,
     "metadata": {},
     "output_type": "execute_result"
    }
   ],
   "source": [
    "data1['time_class'].value_counts()"
   ]
  },
  {
   "cell_type": "markdown",
   "metadata": {
    "hidden": true
   },
   "source": [
    "En el siguiente paso nos quedamos con las partidas que son blitz y cuentan para los puntos de rating"
   ]
  },
  {
   "cell_type": "code",
   "execution_count": 187,
   "metadata": {
    "ExecuteTime": {
     "end_time": "2020-02-20T07:16:42.852687Z",
     "start_time": "2020-02-20T07:16:42.584327Z"
    },
    "hidden": true
   },
   "outputs": [],
   "source": [
    "data1 = data1.loc[data1['time_class'] == 'blitz']\n",
    "data1 = data1.loc[data1['rated'] == True]"
   ]
  },
  {
   "cell_type": "code",
   "execution_count": 189,
   "metadata": {
    "ExecuteTime": {
     "end_time": "2020-02-20T07:17:56.345462Z",
     "start_time": "2020-02-20T07:17:56.299577Z"
    },
    "hidden": true
   },
   "outputs": [
    {
     "data": {
      "text/plain": [
       "blitz    182194\n",
       "Name: time_class, dtype: int64"
      ]
     },
     "execution_count": 189,
     "metadata": {},
     "output_type": "execute_result"
    }
   ],
   "source": [
    "data1['time_class'].value_counts()"
   ]
  },
  {
   "cell_type": "markdown",
   "metadata": {
    "hidden": true
   },
   "source": [
    "Limpiamos la columna 'pgn' para obtener la notacion de las partidas"
   ]
  },
  {
   "cell_type": "code",
   "execution_count": 190,
   "metadata": {
    "ExecuteTime": {
     "end_time": "2020-02-20T07:18:32.431982Z",
     "start_time": "2020-02-20T07:18:32.425001Z"
    },
    "hidden": true
   },
   "outputs": [],
   "source": [
    "def game_anotation(x):\n",
    "    \n",
    "    # Input: pgn, messy string with notation\n",
    "    # Output: Cleaning notation chess game\n",
    "    \n",
    "    if x is not None:\n",
    "        l = [ i + ' ' + j for i, j in zip(re.findall('\\d+\\. \\w+-?\\w+', str(x)), re.findall('\\d+\\.\\.\\. \\w+-?\\w+', str(x)))]\n",
    "        return ' '.join(l)\n",
    "    else:\n",
    "        return \"Unknown\"\n",
    "\n"
   ]
  },
  {
   "cell_type": "code",
   "execution_count": 191,
   "metadata": {
    "ExecuteTime": {
     "end_time": "2020-02-20T09:03:18.594594Z",
     "start_time": "2020-02-20T07:19:08.546475Z"
    },
    "hidden": true
   },
   "outputs": [],
   "source": [
    "for i in data1.index:\n",
    "    data1.loc[i,'pgn'] = game_anotation(data1.loc[i,'pgn'])"
   ]
  },
  {
   "cell_type": "code",
   "execution_count": 192,
   "metadata": {
    "ExecuteTime": {
     "end_time": "2020-02-20T09:03:50.403156Z",
     "start_time": "2020-02-20T09:03:50.377224Z"
    },
    "hidden": true
   },
   "outputs": [
    {
     "data": {
      "text/html": [
       "<div>\n",
       "<style scoped>\n",
       "    .dataframe tbody tr th:only-of-type {\n",
       "        vertical-align: middle;\n",
       "    }\n",
       "\n",
       "    .dataframe tbody tr th {\n",
       "        vertical-align: top;\n",
       "    }\n",
       "\n",
       "    .dataframe thead th {\n",
       "        text-align: right;\n",
       "    }\n",
       "</style>\n",
       "<table border=\"1\" class=\"dataframe\">\n",
       "  <thead>\n",
       "    <tr style=\"text-align: right;\">\n",
       "      <th></th>\n",
       "      <th>time_class</th>\n",
       "      <th>white.username</th>\n",
       "      <th>white.rating</th>\n",
       "      <th>black.username</th>\n",
       "      <th>black.rating</th>\n",
       "      <th>time_control</th>\n",
       "      <th>white.result</th>\n",
       "      <th>black.result</th>\n",
       "      <th>pgn</th>\n",
       "      <th>rated</th>\n",
       "    </tr>\n",
       "  </thead>\n",
       "  <tbody>\n",
       "    <tr>\n",
       "      <td>0</td>\n",
       "      <td>blitz</td>\n",
       "      <td>Hikaru</td>\n",
       "      <td>2354</td>\n",
       "      <td>Godswill</td>\n",
       "      <td>2167</td>\n",
       "      <td>180</td>\n",
       "      <td>win</td>\n",
       "      <td>resigned</td>\n",
       "      <td>1. e4 1... e5 2. Nc3 2... Nc6 3. g3 3... g6 4. Bg2 4... Bg7 5. Nge2 5... Nge7 6. O-O 6... O-O 7. d3 7... d6 8. h3 8... h6 9. Be3 9... Be6 10. Qd2 10... Qd7 11. Kh2 11... Kh7 12. Nd5 12... Nd4 13. Nxe7 13... Qxe7 14. c3 14... Nxe2 15. Qxe2 15... c6 16. f4 16... f5 17. Rae1 17... a6 18. fxe5 18... dxe5 19. exf5 19... Bxf5 20. g4 20... Be6 21. c4 21... Rad8 22. Be4 22... Bf7 23. b3 23... Qh4 24. Bf2 24... Qg5 25. Bc5 25... Be6 26. Bxf8 26... Rxf8 27. Rxf8 27... Bxf8 28. Qf2 28... Be7 29. Rf1 29... h5 30. gxh5 30... Qxh5 31. Qf3 31... Qg5 32. Rg1 32... Qf4 33. Qxf4 33... exf4 34. Rxg6 34... f3 35. Rxe6 35... Kg8</td>\n",
       "      <td>True</td>\n",
       "    </tr>\n",
       "    <tr>\n",
       "      <td>1</td>\n",
       "      <td>blitz</td>\n",
       "      <td>Godswill</td>\n",
       "      <td>2163</td>\n",
       "      <td>Hikaru</td>\n",
       "      <td>2438</td>\n",
       "      <td>180</td>\n",
       "      <td>timeout</td>\n",
       "      <td>win</td>\n",
       "      <td>1. d4 1... Nf6 2. c4 2... b6 3. Nc3 3... Bb7 4. f3 4... e6 5. e4 5... d5 6. e5 6... Nfd7 7. cxd5 7... exd5 8. Bd3 8... c5 9. dxc5 9... Bxc5 10. Qe2 10... Nc6 11. f4 11... Nd4 12. Qg4 12... Qe7 13. Nge2 13... Nxe2 14. Nxe2 14... Bb4 15. Kf1 15... O-O 16. a3 16... f6 17. axb4 17... fxe5 18. Bf5 18... Nf6 19. Qh3 19... g6 20. Be6 20... Kh8 21. f5 21... Ne4 22. Kg1 22... Qxb4 23. Bh6 23... Qxb2 24. Re1 24... Qb4 25. Rf1 25... Rf6 26. g4 26... Ba6 27. Qe3 27... gxf5 28. Qg5 28... Nxg5 29. Bxg5 29... Qxg4 30. Ng3 30... Qxg5 31. Rxf5 31... Rxf5 32. Bxf5 32... Qd2 33. h4 33... Rg8 34. Rh3 34... Bd3 35. Be6 35... Rxg3 36. Rxg3 36... Qe1 37. Kh2 37... Qxg3 38. Kxg3 38... d4 39. Kf3 39... a5 40. Bd5 40... a4 41. Kg4 41... a3 42. Kg5 42... Kg7 43. h5 43... h6 44. Kg4 44... b5 45. Kf3 45... b4 46. Kf2 46... e4 47. Ke1 47... e3 48. Kd1 48... Kf6 49. Kc1 49... Ke5 50. Bb3 50... Bf5 51. Kd1 51... d3 52. Ke1 52... Bh3 53. Bd1 53... Kd4 54. Bb3 54... Kc3</td>\n",
       "      <td>True</td>\n",
       "    </tr>\n",
       "    <tr>\n",
       "      <td>4</td>\n",
       "      <td>blitz</td>\n",
       "      <td>Hikaru</td>\n",
       "      <td>2509</td>\n",
       "      <td>Dmitriy_From_Russia</td>\n",
       "      <td>2266</td>\n",
       "      <td>180</td>\n",
       "      <td>win</td>\n",
       "      <td>resigned</td>\n",
       "      <td>1. e4 1... d6 2. g3 2... g6 3. Bg2 3... Bg7 4. Ne2 4... Nf6 5. d4 5... O-O 6. c4 6... c6 7. O-O 7... Nbd7 8. Nec3 8... e5 9. d5 9... Nc5 10. b4 10... Na6 11. a3 11... Nc7 12. h3 12... a5 13. b5 13... cxd5 14. cxd5 14... Bd7 15. a4 15... Qc8 16. Kh2 16... Nh5 17. Nd2 17... Na6 18. Ra3 18... f5 19. bxa6 19... Rxa6 20. exf5 20... Bxf5 21. Nde4 21... Nf6 22. Nxf6 22... Bxf6 23. Ne4 23... Bg7 24. Rc3 24... Qd7 25. Qb3 25... Raa8 26. Be3 26... Bxe4 27. Bxe4 27... Rf7 28. Rfc1 28... Raf8 29. Qc2 29... Bf6 30. Rc7 30... Qd8 31. Rxf7 31... Rxf7 32. Qc8 32... Qxc8 33. Rxc8 33... Kg7</td>\n",
       "      <td>True</td>\n",
       "    </tr>\n",
       "    <tr>\n",
       "      <td>5</td>\n",
       "      <td>blitz</td>\n",
       "      <td>Dmitriy_From_Russia</td>\n",
       "      <td>2263</td>\n",
       "      <td>Hikaru</td>\n",
       "      <td>2556</td>\n",
       "      <td>180</td>\n",
       "      <td>timeout</td>\n",
       "      <td>win</td>\n",
       "      <td>1. c4 1... d6 2. b3 2... g6 3. Bb2 3... Nf6 4. Nc3 4... Bg7 5. Qc2 5... c5 6. O-O 6... Nc6 7. e3 7... Bf5 8. d3 8... a6 9. Nf3 9... b5 10. Nd5 10... O-O 11. Nxf6 11... exf6 12. Kb1 12... Nb4 13. Qd2 13... bxc4 14. e4 14... Bd7 15. dxc4 15... Bc6 16. Re1 16... Re8 17. a3 17... Bxe4 18. Rxe4 18... Rxe4 19. axb4 19... cxb4 20. Bd3 20... Re7 21. Qxb4 21... Rb8 22. Qa4 22... Reb7 23. Bc2 23... f5 24. Bxg7 24... Kxg7 25. Rd1 25... Qf6 26. Qa1 26... Rb6 27. Qxf6 27... Kxf6 28. Kb2 28... a5 29. Kc3 29... Rc8 30. h3 30... h5 31. Nd4 31... d5 32. Ra1 32... Rc5 33. Nf3 33... dxc4 34. bxc4 34... Rb8 35. Ne1 35... Rbc8 36. Bb3 36... h4 37. Nd3 37... Rd5 38. c5 38... Rdxc5 39. Nxc5 39... Rxc5 40. Bc4 40... Re5 41. Ra2 41... g5 42. Re2 42... Rxe2 43. Bxe2 43... Ke5 44. Kc4 44... a4 45. Kb4 45... Kd4 46. Kxa4 46... Kc3 47. f4 47... f6 48. Kb5 48... Kd4 49. Bd1 49... Ke3 50. fxg5 50... fxg5 51. Bf3 51... Kf4 52. Bh5 52... Kg3 53. Bg6 53... Kf4 54. Bf7 54... g4 55. Bd5 55... Kg3 56. Kc5 56... gxh3 57. gxh3 57... Kxh3 58. Be6 58... Kg4 59. Kd4 59... Kf4 60. Kd3 60... Ke5</td>\n",
       "      <td>True</td>\n",
       "    </tr>\n",
       "    <tr>\n",
       "      <td>6</td>\n",
       "      <td>blitz</td>\n",
       "      <td>Hikaru</td>\n",
       "      <td>2590</td>\n",
       "      <td>Dmitriy_From_Russia</td>\n",
       "      <td>2260</td>\n",
       "      <td>180</td>\n",
       "      <td>win</td>\n",
       "      <td>checkmated</td>\n",
       "      <td>1. e4 1... d6 2. g3 2... g6 3. Bg2 3... Bg7 4. Ne2 4... Nf6 5. O-O 5... O-O 6. d4 6... Nfd7 7. c4 7... Re8 8. f4 8... Nf8 9. f5 9... e5 10. d5 10... Na6 11. Nbc3 11... Nc5 12. b4 12... Ncd7 13. a3 13... gxf5 14. exf5 14... Nf6 15. h3 15... Kh8 16. g4 16... h6 17. Ng3 17... N8d7 18. Be3 18... Rg8 19. Qd2 19... Nb6 20. Qd3 20... Bd7 21. c5 21... Na4 22. Nce4 22... dxc5 23. bxc5 23... a6 24. Nxf6 24... Bb5 25. Qd2 25... Bxf6 26. Ne4 26... Bxf1 27. Rxf1 27... Bg5 28. Bxg5 28... hxg5 29. h4 29... gxh4</td>\n",
       "      <td>True</td>\n",
       "    </tr>\n",
       "  </tbody>\n",
       "</table>\n",
       "</div>"
      ],
      "text/plain": [
       "  time_class       white.username  white.rating       black.username  \\\n",
       "0  blitz      Hikaru               2354          Godswill              \n",
       "1  blitz      Godswill             2163          Hikaru                \n",
       "4  blitz      Hikaru               2509          Dmitriy_From_Russia   \n",
       "5  blitz      Dmitriy_From_Russia  2263          Hikaru                \n",
       "6  blitz      Hikaru               2590          Dmitriy_From_Russia   \n",
       "\n",
       "   black.rating time_control white.result black.result  \\\n",
       "0  2167          180          win          resigned      \n",
       "1  2438          180          timeout      win           \n",
       "4  2266          180          win          resigned      \n",
       "5  2556          180          timeout      win           \n",
       "6  2260          180          win          checkmated    \n",
       "\n",
       "                                                                                                                                                                                                                                                                                                                                                                                                                                                                                                                                                                                                                                                                                                                                                                                                                                                                                                                                                                                                                                                                                                            pgn  \\\n",
       "0  1. e4 1... e5 2. Nc3 2... Nc6 3. g3 3... g6 4. Bg2 4... Bg7 5. Nge2 5... Nge7 6. O-O 6... O-O 7. d3 7... d6 8. h3 8... h6 9. Be3 9... Be6 10. Qd2 10... Qd7 11. Kh2 11... Kh7 12. Nd5 12... Nd4 13. Nxe7 13... Qxe7 14. c3 14... Nxe2 15. Qxe2 15... c6 16. f4 16... f5 17. Rae1 17... a6 18. fxe5 18... dxe5 19. exf5 19... Bxf5 20. g4 20... Be6 21. c4 21... Rad8 22. Be4 22... Bf7 23. b3 23... Qh4 24. Bf2 24... Qg5 25. Bc5 25... Be6 26. Bxf8 26... Rxf8 27. Rxf8 27... Bxf8 28. Qf2 28... Be7 29. Rf1 29... h5 30. gxh5 30... Qxh5 31. Qf3 31... Qg5 32. Rg1 32... Qf4 33. Qxf4 33... exf4 34. Rxg6 34... f3 35. Rxe6 35... Kg8                                                                                                                                                                                                                                                                                                                                                                                                                                                                        \n",
       "1  1. d4 1... Nf6 2. c4 2... b6 3. Nc3 3... Bb7 4. f3 4... e6 5. e4 5... d5 6. e5 6... Nfd7 7. cxd5 7... exd5 8. Bd3 8... c5 9. dxc5 9... Bxc5 10. Qe2 10... Nc6 11. f4 11... Nd4 12. Qg4 12... Qe7 13. Nge2 13... Nxe2 14. Nxe2 14... Bb4 15. Kf1 15... O-O 16. a3 16... f6 17. axb4 17... fxe5 18. Bf5 18... Nf6 19. Qh3 19... g6 20. Be6 20... Kh8 21. f5 21... Ne4 22. Kg1 22... Qxb4 23. Bh6 23... Qxb2 24. Re1 24... Qb4 25. Rf1 25... Rf6 26. g4 26... Ba6 27. Qe3 27... gxf5 28. Qg5 28... Nxg5 29. Bxg5 29... Qxg4 30. Ng3 30... Qxg5 31. Rxf5 31... Rxf5 32. Bxf5 32... Qd2 33. h4 33... Rg8 34. Rh3 34... Bd3 35. Be6 35... Rxg3 36. Rxg3 36... Qe1 37. Kh2 37... Qxg3 38. Kxg3 38... d4 39. Kf3 39... a5 40. Bd5 40... a4 41. Kg4 41... a3 42. Kg5 42... Kg7 43. h5 43... h6 44. Kg4 44... b5 45. Kf3 45... b4 46. Kf2 46... e4 47. Ke1 47... e3 48. Kd1 48... Kf6 49. Kc1 49... Ke5 50. Bb3 50... Bf5 51. Kd1 51... d3 52. Ke1 52... Bh3 53. Bd1 53... Kd4 54. Bb3 54... Kc3                                                                                                                         \n",
       "4  1. e4 1... d6 2. g3 2... g6 3. Bg2 3... Bg7 4. Ne2 4... Nf6 5. d4 5... O-O 6. c4 6... c6 7. O-O 7... Nbd7 8. Nec3 8... e5 9. d5 9... Nc5 10. b4 10... Na6 11. a3 11... Nc7 12. h3 12... a5 13. b5 13... cxd5 14. cxd5 14... Bd7 15. a4 15... Qc8 16. Kh2 16... Nh5 17. Nd2 17... Na6 18. Ra3 18... f5 19. bxa6 19... Rxa6 20. exf5 20... Bxf5 21. Nde4 21... Nf6 22. Nxf6 22... Bxf6 23. Ne4 23... Bg7 24. Rc3 24... Qd7 25. Qb3 25... Raa8 26. Be3 26... Bxe4 27. Bxe4 27... Rf7 28. Rfc1 28... Raf8 29. Qc2 29... Bf6 30. Rc7 30... Qd8 31. Rxf7 31... Rxf7 32. Qc8 32... Qxc8 33. Rxc8 33... Kg7                                                                                                                                                                                                                                                                                                                                                                                                                                                                                                            \n",
       "5  1. c4 1... d6 2. b3 2... g6 3. Bb2 3... Nf6 4. Nc3 4... Bg7 5. Qc2 5... c5 6. O-O 6... Nc6 7. e3 7... Bf5 8. d3 8... a6 9. Nf3 9... b5 10. Nd5 10... O-O 11. Nxf6 11... exf6 12. Kb1 12... Nb4 13. Qd2 13... bxc4 14. e4 14... Bd7 15. dxc4 15... Bc6 16. Re1 16... Re8 17. a3 17... Bxe4 18. Rxe4 18... Rxe4 19. axb4 19... cxb4 20. Bd3 20... Re7 21. Qxb4 21... Rb8 22. Qa4 22... Reb7 23. Bc2 23... f5 24. Bxg7 24... Kxg7 25. Rd1 25... Qf6 26. Qa1 26... Rb6 27. Qxf6 27... Kxf6 28. Kb2 28... a5 29. Kc3 29... Rc8 30. h3 30... h5 31. Nd4 31... d5 32. Ra1 32... Rc5 33. Nf3 33... dxc4 34. bxc4 34... Rb8 35. Ne1 35... Rbc8 36. Bb3 36... h4 37. Nd3 37... Rd5 38. c5 38... Rdxc5 39. Nxc5 39... Rxc5 40. Bc4 40... Re5 41. Ra2 41... g5 42. Re2 42... Rxe2 43. Bxe2 43... Ke5 44. Kc4 44... a4 45. Kb4 45... Kd4 46. Kxa4 46... Kc3 47. f4 47... f6 48. Kb5 48... Kd4 49. Bd1 49... Ke3 50. fxg5 50... fxg5 51. Bf3 51... Kf4 52. Bh5 52... Kg3 53. Bg6 53... Kf4 54. Bf7 54... g4 55. Bd5 55... Kg3 56. Kc5 56... gxh3 57. gxh3 57... Kxh3 58. Be6 58... Kg4 59. Kd4 59... Kf4 60. Kd3 60... Ke5   \n",
       "6  1. e4 1... d6 2. g3 2... g6 3. Bg2 3... Bg7 4. Ne2 4... Nf6 5. O-O 5... O-O 6. d4 6... Nfd7 7. c4 7... Re8 8. f4 8... Nf8 9. f5 9... e5 10. d5 10... Na6 11. Nbc3 11... Nc5 12. b4 12... Ncd7 13. a3 13... gxf5 14. exf5 14... Nf6 15. h3 15... Kh8 16. g4 16... h6 17. Ng3 17... N8d7 18. Be3 18... Rg8 19. Qd2 19... Nb6 20. Qd3 20... Bd7 21. c5 21... Na4 22. Nce4 22... dxc5 23. bxc5 23... a6 24. Nxf6 24... Bb5 25. Qd2 25... Bxf6 26. Ne4 26... Bxf1 27. Rxf1 27... Bg5 28. Bxg5 28... hxg5 29. h4 29... gxh4                                                                                                                                                                                                                                                                                                                                                                                                                                                                                                                                                                                          \n",
       "\n",
       "   rated  \n",
       "0  True   \n",
       "1  True   \n",
       "4  True   \n",
       "5  True   \n",
       "6  True   "
      ]
     },
     "execution_count": 192,
     "metadata": {},
     "output_type": "execute_result"
    }
   ],
   "source": [
    "data1.head()"
   ]
  },
  {
   "cell_type": "code",
   "execution_count": 197,
   "metadata": {
    "ExecuteTime": {
     "end_time": "2020-02-20T09:20:02.705082Z",
     "start_time": "2020-02-20T09:20:02.545510Z"
    },
    "hidden": true
   },
   "outputs": [
    {
     "name": "stdout",
     "output_type": "stream",
     "text": [
      "<class 'pandas.core.frame.DataFrame'>\n",
      "Int64Index: 182194 entries, 0 to 382924\n",
      "Data columns (total 10 columns):\n",
      "time_class        182194 non-null object\n",
      "white.username    182194 non-null object\n",
      "white.rating      182194 non-null int64\n",
      "black.username    182194 non-null object\n",
      "black.rating      182194 non-null int64\n",
      "time_control      182194 non-null object\n",
      "white.result      182194 non-null object\n",
      "black.result      182194 non-null object\n",
      "pgn               182194 non-null object\n",
      "rated             182194 non-null bool\n",
      "dtypes: bool(1), int64(2), object(7)\n",
      "memory usage: 19.1+ MB\n"
     ]
    }
   ],
   "source": [
    "data1.info()"
   ]
  },
  {
   "cell_type": "markdown",
   "metadata": {
    "hidden": true
   },
   "source": [
    "Eliminamos duplicados porque una misma partida aparecera dos veces cuando dos jugadores se hayan enfrentado."
   ]
  },
  {
   "cell_type": "code",
   "execution_count": 202,
   "metadata": {
    "ExecuteTime": {
     "end_time": "2020-02-20T09:31:45.809056Z",
     "start_time": "2020-02-20T09:31:44.645035Z"
    },
    "hidden": true
   },
   "outputs": [
    {
     "name": "stdout",
     "output_type": "stream",
     "text": [
      "<class 'pandas.core.frame.DataFrame'>\n",
      "Int64Index: 162158 entries, 0 to 382924\n",
      "Data columns (total 10 columns):\n",
      "time_class        162158 non-null object\n",
      "white.username    162158 non-null object\n",
      "white.rating      162158 non-null int64\n",
      "black.username    162158 non-null object\n",
      "black.rating      162158 non-null int64\n",
      "time_control      162158 non-null object\n",
      "white.result      162158 non-null object\n",
      "black.result      162158 non-null object\n",
      "pgn               162158 non-null object\n",
      "rated             162158 non-null bool\n",
      "dtypes: bool(1), int64(2), object(7)\n",
      "memory usage: 12.5+ MB\n"
     ]
    }
   ],
   "source": [
    "data1.drop_duplicates(inplace=True)\n",
    "data1.info()"
   ]
  },
  {
   "cell_type": "code",
   "execution_count": 201,
   "metadata": {
    "ExecuteTime": {
     "end_time": "2020-02-20T09:25:51.954360Z",
     "start_time": "2020-02-20T09:25:51.878483Z"
    },
    "hidden": true
   },
   "outputs": [
    {
     "data": {
      "text/plain": [
       "0"
      ]
     },
     "execution_count": 201,
     "metadata": {},
     "output_type": "execute_result"
    }
   ],
   "source": [
    "data1['pgn'][data1.pgn == 'Unknown'].sum()"
   ]
  },
  {
   "cell_type": "markdown",
   "metadata": {
    "ExecuteTime": {
     "end_time": "2020-02-19T20:02:47.417525Z",
     "start_time": "2020-02-19T18:58:45.957Z"
    },
    "hidden": true
   },
   "source": [
    "Aqui podemos observar la duracion y la cantidad de las partidas blitz."
   ]
  },
  {
   "cell_type": "code",
   "execution_count": 203,
   "metadata": {
    "ExecuteTime": {
     "end_time": "2020-02-20T09:33:14.146238Z",
     "start_time": "2020-02-20T09:33:14.077421Z"
    },
    "hidden": true
   },
   "outputs": [
    {
     "data": {
      "text/plain": [
       "180      150486\n",
       "180+2    7914  \n",
       "300      1530  \n",
       "180+1    1205  \n",
       "300+1    378   \n",
       "600      266   \n",
       "300+2    232   \n",
       "240+2    52    \n",
       "300+5    40    \n",
       "600+5    36    \n",
       "300+3    10    \n",
       "120+2    3     \n",
       "180+3    2     \n",
       "600+3    1     \n",
       "360+9    1     \n",
       "480      1     \n",
       "420+5    1     \n",
       "Name: time_control, dtype: int64"
      ]
     },
     "execution_count": 203,
     "metadata": {},
     "output_type": "execute_result"
    }
   ],
   "source": [
    "data1['time_control'].value_counts()"
   ]
  },
  {
   "cell_type": "markdown",
   "metadata": {
    "hidden": true
   },
   "source": [
    "Estos son los resultados de las partidas blitz."
   ]
  },
  {
   "cell_type": "code",
   "execution_count": 204,
   "metadata": {
    "ExecuteTime": {
     "end_time": "2020-02-20T09:33:48.513312Z",
     "start_time": "2020-02-20T09:33:48.471422Z"
    },
    "hidden": true
   },
   "outputs": [
    {
     "data": {
      "text/plain": [
       "win                    77097\n",
       "resigned               44463\n",
       "timeout                10918\n",
       "checkmated             9254 \n",
       "agreed                 5353 \n",
       "repetition             4889 \n",
       "bughousepartnerlose    4354 \n",
       "insufficient           2901 \n",
       "timevsinsufficient     1516 \n",
       "stalemate              689  \n",
       "abandoned              601  \n",
       "50move                 85   \n",
       "threecheck             28   \n",
       "kingofthehill          10   \n",
       "Name: white.result, dtype: int64"
      ]
     },
     "execution_count": 204,
     "metadata": {},
     "output_type": "execute_result"
    }
   ],
   "source": [
    "data1['white.result'].value_counts()"
   ]
  },
  {
   "cell_type": "code",
   "execution_count": 205,
   "metadata": {
    "ExecuteTime": {
     "end_time": "2020-02-20T09:34:23.336225Z",
     "start_time": "2020-02-20T09:34:23.292334Z"
    },
    "hidden": true
   },
   "outputs": [
    {
     "data": {
      "text/plain": [
       "win                    69628\n",
       "resigned               51056\n",
       "timeout                11158\n",
       "checkmated             10308\n",
       "agreed                 5353 \n",
       "repetition             4889 \n",
       "bughousepartnerlose    3916 \n",
       "insufficient           2901 \n",
       "timevsinsufficient     1516 \n",
       "stalemate              689  \n",
       "abandoned              624  \n",
       "50move                 85   \n",
       "threecheck             20   \n",
       "kingofthehill          15   \n",
       "Name: black.result, dtype: int64"
      ]
     },
     "execution_count": 205,
     "metadata": {},
     "output_type": "execute_result"
    }
   ],
   "source": [
    "data1['black.result'].value_counts()"
   ]
  },
  {
   "cell_type": "code",
   "execution_count": 134,
   "metadata": {
    "ExecuteTime": {
     "end_time": "2020-02-19T21:14:22.034573Z",
     "start_time": "2020-02-19T21:13:42.352245Z"
    },
    "hidden": true
   },
   "outputs": [],
   "source": [
    "data.to_csv('games_data.csv', index=False)"
   ]
  },
  {
   "cell_type": "code",
   "execution_count": 206,
   "metadata": {
    "ExecuteTime": {
     "end_time": "2020-02-20T09:35:04.799661Z",
     "start_time": "2020-02-20T09:35:00.589628Z"
    },
    "hidden": true
   },
   "outputs": [],
   "source": [
    "data1.to_csv('games_blitz_clean.csv', index=False)"
   ]
  },
  {
   "cell_type": "markdown",
   "metadata": {
    "heading_collapsed": true
   },
   "source": [
    "## Web Scraping\n"
   ]
  },
  {
   "cell_type": "markdown",
   "metadata": {
    "hidden": true
   },
   "source": [
    "Mi idea es añadir a cada partida la apertura que se esta usando.(No esta terminado aun)"
   ]
  },
  {
   "cell_type": "code",
   "execution_count": 144,
   "metadata": {
    "ExecuteTime": {
     "end_time": "2020-02-19T21:34:24.966998Z",
     "start_time": "2020-02-19T21:34:24.434567Z"
    },
    "hidden": true
   },
   "outputs": [],
   "source": [
    "url = 'https://es.wikipedia.org/wiki/Apertura_(ajedrez)'\n",
    "html = requests.get(url).content\n",
    "soup = BeautifulSoup(html, 'lxml')\n",
    "text = soup.find_all('li')"
   ]
  },
  {
   "cell_type": "code",
   "execution_count": 143,
   "metadata": {
    "ExecuteTime": {
     "end_time": "2020-02-19T21:33:23.377661Z",
     "start_time": "2020-02-19T21:33:23.362668Z"
    },
    "hidden": true
   },
   "outputs": [
    {
     "data": {
      "text/plain": [
       "['1 Reglas clásicas',\n",
       " '1.e4 e5 Apertura abierta',\n",
       " '1.e4 e5 2.Cf3 Cc6 3.Ab5 Apertura española',\n",
       " '1.e4 e5 2.Cf3 Cc6 3.c3 Apertura Ponziani',\n",
       " '1.e4 e5 2.Cf3 Cc6 3.d4 Apertura escocesa',\n",
       " '1.e4 e5 2.Cf3 Cc6 3.Ac4 Apertura italiana Ac5 Giuoco piano y otras variantes (particularmente Cf6)',\n",
       " '1.e4 e5 2.Cf3 Cc6 3.Ac4 Ac5 4.b4 Gambito Evans',\n",
       " '1.e4 e5 2.Cf3 Cc6 3.Ac4 Cf6 Defensa de los dos caballos',\n",
       " '1.e4 e5 2.Cf3 Cc6 3.Ac4 Ae7 Defensa húngara',\n",
       " '1.e4 e5 2.Cf3 Cc6 3.Ac4 Cd4?! Gambito Blackburne',\n",
       " '1.e4 e5 2.Cf3 Cc6 3.Ac4 f5?! Gambito Rousseau',\n",
       " '1.e4 e5 2.Cf3 Cc6 3.Cc3 Cf6 Apertura de los cuatro caballos',\n",
       " '1.e4 e5 2.Cf3 Cc6 3.Cc3 sin 3...Cf6 Apertura de los tres caballos',\n",
       " '1.e4 e5 2.Cf3 Cc6 3.g3 Apertura Konstantinopolsky',\n",
       " '1.e4 e5 2.Cf3 Cf6 Defensa Petrov',\n",
       " '1.e4 e5 2.Cf3 f5 Gambito Letón',\n",
       " '1.e4 e5 2.Cf3 f6 Defensa Damiano',\n",
       " '1.e4 e5 2.Cf3 d5 Gambito elefante',\n",
       " '1.e4 e5 2.Cf3 d6 Defensa Philidor',\n",
       " '1.e4 e5 2.Cf3 De7 Defensa brasileña o Defensa Gunderam',\n",
       " '1.e4 e5 2.Cf3 Df6 Defensa Greco',\n",
       " '1.e4 e5 2.Ac4 Apertura de alfil',\n",
       " '1.e4 e5 2.Cc3 Apertura vienesa',\n",
       " '1.e4 e5 2.f4 Gambito de rey, 2...exf4 (aceptado) o 2...Ac5 u otras jugadas (rehusado)',\n",
       " '1.e4 e5 2. f4 d5 Contragambito Falkbeer',\n",
       " '1.e4 e5 2.d4 exd4 3.Dxd4 Apertura del centro',\n",
       " '1.e4 e5 2.d4 exd4 3.c3 Gambito danés',\n",
       " '1.e4 e5 2.d4 exd4 3.Ac4 Gambito Getxo',\n",
       " '1.e4 e5 2.Dh5 Ataque Parham',\n",
       " '1.e4 e5 2.Ab5 Apertura portuguesa',\n",
       " '1.e4 e5 2.c3 Apertura López',\n",
       " '1.e4 e5 2.Cf3 Cc6 3.Ae2 Apertura húngara invertida',\n",
       " '1.e4 e5 2.Ce2 Apertura Alapín',\n",
       " '1.e4 e5 2.Df3 Apertura Napoleón',\n",
       " '1.e4 e5 2.d4 exd4 3.Dxd4 Gambito del centro',\n",
       " '1.e4 e5 2.Cf3 Cc6 3.Cc3 Cf6 4.Cxe5 Gambito Halloween',\n",
       " '1.e4 a6 Defensa St. George',\n",
       " '1.e4 b6 Defensa Owen',\n",
       " '1.e4 c5 Defensa siciliana, dentro de la cual lo más común es la variante Najdorg. (2.Cf3 d6 3.d4 cxd4 4.Cxd4 Cf6 5.Cc3 a6)',\n",
       " '1.e4 c6 Defensa Caro-Kann',\n",
       " '1.e4 Cc6 Defensa Nimzowitsch',\n",
       " '1.e4 d5 Defensa escandinava',\n",
       " '1.e4 d6 2.d4 f5 Defensa Balogh',\n",
       " '1.e4 d6 2.d4 Cf6 3.Cc3 c6 Defensa checa',\n",
       " '1.e4 d6 2.d4 Cf6 3.Cc3 g6 Defensa Pirc',\n",
       " '1.e4 e6 Defensa francesa',\n",
       " '1.e4 e6 2.d4 c5 Defensa Franco-Benoni',\n",
       " '1.e4 Cf6 Defensa Alekhine',\n",
       " '1.e4 g5 Defensa Grob',\n",
       " '1.e4 g6 Defensa moderna',\n",
       " '1.e4 f5 Defensa Fred',\n",
       " '1.d4 d5 Apertura cerrada',\n",
       " '1.d4 d5 2.Cc3 Cf6 3.Ag5 Apertura Veresov',\n",
       " '1.d4 d5 2.c4 Gambito de dama, dentro del cual:\\n1.d4 d5 2.c4 dxc4 Gambito de dama aceptado\\n1.d4 d5 2.c4 c5 Defensa simétrica\\n1.d4 d5 2.c4 c6 Defensa eslava\\n1.d4 d5 2.c4 e6 3.Cc3 Cf6 4.Cf3 c6 Defensa semieslava, puede derivar en Defensa Merano\\n1.d4 d5 2.c4 Cc6 Defensa Chigorin\\n1.d4 d5 2.c4 e5 Contragambito Albin\\n1.d4 d5 2.c4 e6 Defensa ortodoxa\\n1.d4 d5 2.c4 Af5 Defensa báltica\\n1.d4 d5 2.c4 Cf6 Defensa Marshall',\n",
       " '1.d4 d5 2.c4 dxc4 Gambito de dama aceptado',\n",
       " '1.d4 d5 2.c4 c5 Defensa simétrica',\n",
       " '1.d4 d5 2.c4 c6 Defensa eslava',\n",
       " '1.d4 d5 2.c4 e6 3.Cc3 Cf6 4.Cf3 c6 Defensa semieslava, puede derivar en Defensa Merano',\n",
       " '1.d4 d5 2.c4 Cc6 Defensa Chigorin',\n",
       " '1.d4 d5 2.c4 e5 Contragambito Albin',\n",
       " '1.d4 d5 2.c4 e6 Defensa ortodoxa',\n",
       " '1.d4 d5 2.c4 Af5 Defensa báltica',\n",
       " '1.d4 d5 2.c4 Cf6 Defensa Marshall',\n",
       " '1.d4 d5 2.e3 Ataque Stonewall',\n",
       " '1.d4 d5 2.e4 Gambito Blackmar',\n",
       " '1.d4 d5 2.Cf3 Cf6 3.e3 Sistema Colle',\n",
       " '1.d4 Cf6 2.c4 c5 Defensa Benoni',\n",
       " '1.d4 Cf6 2.c4 c5 3.d5 b5 Gambito Volga',\n",
       " '1.d4 Cf6 2.c4 Cc6 Defensa mexicana',\n",
       " '1.d4 Cf6 2.c4 d6 Defensa india antigua',\n",
       " '1.d4 Cf6 2.c4 e5 Defensa Budapest',\n",
       " '1.d4 Cf6 2.c4 e6 3.Cc3 Ab4 Defensa Nimzoindia',\n",
       " '1.d4 Cf6 2.c4 e6 3.Cf3 Ab4+ Defensa Bogoindia',\n",
       " '1.d4 Cf6 2.c4 e6 3.Cf3 b6 Defensa india de dama',\n",
       " '1.d4 Cf6 2.c4 e6 3.Cf3 c5 4.d5 b5 Contragambito Blumenfeld',\n",
       " '1.d4 Cf6 2.c4 e6 3.Cf3 Ce4 Defensa Döry',\n",
       " '1.d4 Cf6 2.c4 e6 3.Ag5 Ataque Neo-Indio',\n",
       " '1.d4 Cf6 2.c4 e6 3.g3 Apertura Catalana',\n",
       " '1.d4 Cf6 2.c4 g6 3.Cc3 d5 Defensa Grünfeld',\n",
       " '1.d4 Cf6 2.c4 g6 3.Cc3 Ag7 Defensa india de rey',\n",
       " '1.d4 Cf6 2.Cf3 e6 3.Ag5 Ataque Torre',\n",
       " '1.d4 Cf6 2.Ag5 Ataque Trompowsky',\n",
       " '1.d4 f5 Defensa holandesa',\n",
       " '1.d4 c5 Defensa Benoni Clásica',\n",
       " '1.d4 e5 Gambito Englund',\n",
       " '1.d4 b5 Defensa polaca',\n",
       " '1.d4 e6 2.c4 Ab4+ Defensa Keres o Defensa canguro',\n",
       " '1.d4 Cc6 Defensa del caballo de dama',\n",
       " '1.d4 d6 Defensa Wade',\n",
       " '1.d4 e6 2.c4 b6 Defensa inglesa',\n",
       " '1.b3 Apertura Larsen',\n",
       " '1.b4 Apertura polaca',\n",
       " '1.Cc3 Apertura Dunst',\n",
       " '1.c4 Apertura inglesa',\n",
       " '1.Cf3 Apertura Reti (generalmente seguida del fiancheto de uno o ambos alfiles y retrasando d4).',\n",
       " '1.Cf3, 2.g3, 3.Ag2, 4.0-0, 5.d3, 6.Cbd2, 7.e4 Ataque indio de rey (puede jugarse en múltiples órdenes)',\n",
       " '1.f4 Apertura Bird',\n",
       " '1.g3 Apertura Benko',\n",
       " '1.a3 Apertura Anderssen',\n",
       " '1.Ca3 Ataque Durkin',\n",
       " '1.a4 Apertura Ware',\n",
       " '1.c3 Apertura Zaragoza',\n",
       " '1.d3 Apertura Mieses',\n",
       " '1.e3 Apertura Vant Kruijs',\n",
       " '1.f3 Apertura Gedult',\n",
       " '1.g4 Ataque Grob',\n",
       " '1.h3 Apertura Clemenz',\n",
       " '1.Ch3 Apertura París',\n",
       " '1.h4 Apertura Deprez']"
      ]
     },
     "execution_count": 143,
     "metadata": {},
     "output_type": "execute_result"
    }
   ],
   "source": [
    "lst = [i.text for i in text if i.text.startswith('1')]\n",
    "lst"
   ]
  },
  {
   "cell_type": "code",
   "execution_count": null,
   "metadata": {
    "hidden": true
   },
   "outputs": [],
   "source": []
  }
 ],
 "metadata": {
  "kernelspec": {
   "display_name": "Python 3",
   "language": "python",
   "name": "python3"
  },
  "language_info": {
   "codemirror_mode": {
    "name": "ipython",
    "version": 3
   },
   "file_extension": ".py",
   "mimetype": "text/x-python",
   "name": "python",
   "nbconvert_exporter": "python",
   "pygments_lexer": "ipython3",
   "version": "3.7.4"
  },
  "varInspector": {
   "cols": {
    "lenName": 16,
    "lenType": 16,
    "lenVar": 40
   },
   "kernels_config": {
    "python": {
     "delete_cmd_postfix": "",
     "delete_cmd_prefix": "del ",
     "library": "var_list.py",
     "varRefreshCmd": "print(var_dic_list())"
    },
    "r": {
     "delete_cmd_postfix": ") ",
     "delete_cmd_prefix": "rm(",
     "library": "var_list.r",
     "varRefreshCmd": "cat(var_dic_list()) "
    }
   },
   "types_to_exclude": [
    "module",
    "function",
    "builtin_function_or_method",
    "instance",
    "_Feature"
   ],
   "window_display": false
  }
 },
 "nbformat": 4,
 "nbformat_minor": 2
}
