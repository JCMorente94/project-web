{
 "cells": [
  {
   "cell_type": "markdown",
   "metadata": {},
   "source": [
    "# Project\n"
   ]
  },
  {
   "cell_type": "markdown",
   "metadata": {
    "ExecuteTime": {
     "end_time": "2020-02-19T12:01:04.660116Z",
     "start_time": "2020-02-19T12:01:04.653134Z"
    }
   },
   "source": [
    "<img src=\"images/chess.png\">"
   ]
  },
  {
   "cell_type": "markdown",
   "metadata": {},
   "source": [
    "## Libraries"
   ]
  },
  {
   "cell_type": "code",
   "execution_count": 1,
   "metadata": {
    "ExecuteTime": {
     "end_time": "2020-02-20T10:21:05.309537Z",
     "start_time": "2020-02-20T10:20:57.959303Z"
    }
   },
   "outputs": [],
   "source": [
    "\n",
    "\n",
    "import time\n",
    "import json\n",
    "import requests\n",
    "import pandas as pd\n",
    "import re\n",
    "from pandas.io.json import json_normalize\n",
    "from IPython.core.display import HTML\n",
    "from bs4 import BeautifulSoup\n"
   ]
  },
  {
   "cell_type": "markdown",
   "metadata": {},
   "source": [
    "\n"
   ]
  },
  {
   "cell_type": "markdown",
   "metadata": {},
   "source": [
    "## Leaderboards\n"
   ]
  },
  {
   "cell_type": "markdown",
   "metadata": {},
   "source": [
    "Aqui obtenemos los leaderboards de los diferentes tipos de juego."
   ]
  },
  {
   "cell_type": "code",
   "execution_count": 2,
   "metadata": {
    "ExecuteTime": {
     "end_time": "2020-02-20T10:21:09.675063Z",
     "start_time": "2020-02-20T10:21:05.320476Z"
    }
   },
   "outputs": [],
   "source": [
    "url = 'https://api.chess.com/pub/leaderboards'\n",
    "r = requests.get(url)\n",
    "leaderboards = r.json()"
   ]
  },
  {
   "cell_type": "code",
   "execution_count": 3,
   "metadata": {
    "ExecuteTime": {
     "end_time": "2020-02-20T10:21:09.722718Z",
     "start_time": "2020-02-20T10:21:09.701772Z"
    }
   },
   "outputs": [
    {
     "data": {
      "text/plain": [
       "dict_keys(['daily', 'daily960', 'live_rapid', 'live_blitz', 'live_bullet', 'live_bughouse', 'live_blitz960', 'live_threecheck', 'live_crazyhouse', 'live_kingofthehill', 'lessons', 'tactics'])"
      ]
     },
     "execution_count": 3,
     "metadata": {},
     "output_type": "execute_result"
    }
   ],
   "source": [
    "leaderboards.keys()"
   ]
  },
  {
   "cell_type": "markdown",
   "metadata": {},
   "source": [
    "Podemos ver que hay diferentes tipos de juego segun el tiempo que tenemos para realizar los movimientos:\n",
    "\n",
    "    - Daily \n",
    "        - Cada jugador tiene 24 horas para realizar cada uno de los movimientos.\n",
    "        \n",
    "    - Rapid \n",
    "        - Cada jugador desde 10 minutos en adelante hasta 1 hora para realizar todos los movimientos.\n",
    "        - Puede tener incrementos de segundos por cada movimiento.\n",
    "        \n",
    "    - Blitz \n",
    "        - Cada jugador tiene entre 2 minutos y 10 para realizar todos sus movimientos.\n",
    "        - Puede tener incrementos de segundos por cada movimiento.\n",
    "        \n",
    "    - Bullet\n",
    "        - Cada jugador tiene un minuto para realizar todos los movimientos.\n",
    "        \n",
    "Tambien hay diferentes tipos de juegos:\n",
    "\n",
    "    - 960\n",
    "        - Son partidas de ajedrez con las piezas iniciales situadas de forma aleatoria. Es decir, los peones siguen en su posición inicial pero las piezas mayores están desordenadas.\n",
    "        \n",
    "    - Kingofthehill\n",
    "        - Gana el primer jugador que lleve su rey al centro del tablero.\n",
    "        \n",
    "    - Bughouse\n",
    "        - El formato bughouse o pasapiezas, se juega por parejas y se realiza de tal manera que las piezas que capture nuestro compañero a su rival, pasarán a estar disponibles para que las utilicemos. Es decir, si nosotros jugamos con blancas y nuestro compañero (que juega con negras) le captura un caballo a su rival, en nuestro turno tendremos un caballo blanco para utilizar o colocar donde queramos.\n",
    "        \n",
    "    - Crazyhouse\n",
    "        - Te permite utilizar las piezas del rival que capturas. Es decir, si jugamos con blancas capturamos un peón negro del rival, de repente tendremos un peón blanco que podremos incorporar en el tablero en nuestro turno. Para ser más concreto, la pieza capturada cambia de color y pasa a estar a nuestra disposición.\n",
    "\n",
    "Ademas, contamos con lecciones y tacticas para practicar diferentes situaciones o resolver problemas."
   ]
  },
  {
   "cell_type": "markdown",
   "metadata": {},
   "source": [
    "### Blitz Leaderboard"
   ]
  },
  {
   "cell_type": "code",
   "execution_count": 4,
   "metadata": {
    "ExecuteTime": {
     "end_time": "2020-02-20T10:21:09.906176Z",
     "start_time": "2020-02-20T10:21:09.749646Z"
    }
   },
   "outputs": [
    {
     "name": "stdout",
     "output_type": "stream",
     "text": [
      "<class 'pandas.core.frame.DataFrame'>\n",
      "RangeIndex: 50 entries, 0 to 49\n",
      "Data columns (total 14 columns):\n",
      "player_id      50 non-null int64\n",
      "@id            50 non-null object\n",
      "url            50 non-null object\n",
      "username       50 non-null object\n",
      "score          50 non-null int64\n",
      "rank           50 non-null int64\n",
      "country        50 non-null object\n",
      "title          48 non-null object\n",
      "name           45 non-null object\n",
      "status         50 non-null object\n",
      "avatar         50 non-null object\n",
      "trend_score    50 non-null object\n",
      "trend_rank     50 non-null object\n",
      "flair_code     50 non-null object\n",
      "dtypes: int64(3), object(11)\n",
      "memory usage: 5.6+ KB\n"
     ]
    }
   ],
   "source": [
    "leaderboard_blitz_dataframe = pd.DataFrame(leaderboards['live_blitz'])\n",
    "leaderboard_blitz_dataframe.info()"
   ]
  },
  {
   "cell_type": "code",
   "execution_count": 5,
   "metadata": {
    "ExecuteTime": {
     "end_time": "2020-02-20T10:21:10.092097Z",
     "start_time": "2020-02-20T10:21:09.979978Z"
    }
   },
   "outputs": [
    {
     "data": {
      "text/html": [
       "<div>\n",
       "<style scoped>\n",
       "    .dataframe tbody tr th:only-of-type {\n",
       "        vertical-align: middle;\n",
       "    }\n",
       "\n",
       "    .dataframe tbody tr th {\n",
       "        vertical-align: top;\n",
       "    }\n",
       "\n",
       "    .dataframe thead th {\n",
       "        text-align: right;\n",
       "    }\n",
       "</style>\n",
       "<table border=\"1\" class=\"dataframe\">\n",
       "  <thead>\n",
       "    <tr style=\"text-align: right;\">\n",
       "      <th></th>\n",
       "      <th>player_id</th>\n",
       "      <th>username</th>\n",
       "      <th>name</th>\n",
       "      <th>title</th>\n",
       "      <th>score</th>\n",
       "      <th>rank</th>\n",
       "      <th>avatar</th>\n",
       "      <th>country</th>\n",
       "    </tr>\n",
       "  </thead>\n",
       "  <tbody>\n",
       "    <tr>\n",
       "      <td>0</td>\n",
       "      <td>15448422</td>\n",
       "      <td>hikaru</td>\n",
       "      <td>Hikaru Nakamura</td>\n",
       "      <td>GM</td>\n",
       "      <td>3251</td>\n",
       "      <td>1</td>\n",
       "      <td>https://images.chesscomfiles.com/uploads/v1/us...</td>\n",
       "      <td>https://api.chess.com/pub/country/US</td>\n",
       "    </tr>\n",
       "    <tr>\n",
       "      <td>1</td>\n",
       "      <td>42022994</td>\n",
       "      <td>firouzja2003</td>\n",
       "      <td>Alireza Firouzja</td>\n",
       "      <td>GM</td>\n",
       "      <td>3134</td>\n",
       "      <td>2</td>\n",
       "      <td>https://images.chesscomfiles.com/uploads/v1/us...</td>\n",
       "      <td>https://api.chess.com/pub/country/IR</td>\n",
       "    </tr>\n",
       "    <tr>\n",
       "      <td>2</td>\n",
       "      <td>26897358</td>\n",
       "      <td>grischuk</td>\n",
       "      <td>Alexander Grischuk</td>\n",
       "      <td>GM</td>\n",
       "      <td>3120</td>\n",
       "      <td>3</td>\n",
       "      <td>https://images.chesscomfiles.com/uploads/v1/us...</td>\n",
       "      <td>https://api.chess.com/pub/country/RU</td>\n",
       "    </tr>\n",
       "    <tr>\n",
       "      <td>3</td>\n",
       "      <td>26303484</td>\n",
       "      <td>bigfish1995</td>\n",
       "      <td>Vladimir Fedoseev</td>\n",
       "      <td>GM</td>\n",
       "      <td>3107</td>\n",
       "      <td>4</td>\n",
       "      <td>https://images.chesscomfiles.com/uploads/v1/us...</td>\n",
       "      <td>https://api.chess.com/pub/country/RU</td>\n",
       "    </tr>\n",
       "    <tr>\n",
       "      <td>4</td>\n",
       "      <td>28417564</td>\n",
       "      <td>lachesisq</td>\n",
       "      <td>Ian Nepomniachtchi</td>\n",
       "      <td>GM</td>\n",
       "      <td>3096</td>\n",
       "      <td>5</td>\n",
       "      <td>https://images.chesscomfiles.com/uploads/v1/us...</td>\n",
       "      <td>https://api.chess.com/pub/country/RU</td>\n",
       "    </tr>\n",
       "  </tbody>\n",
       "</table>\n",
       "</div>"
      ],
      "text/plain": [
       "   player_id      username                name title  score  rank  \\\n",
       "0   15448422        hikaru     Hikaru Nakamura    GM   3251     1   \n",
       "1   42022994  firouzja2003    Alireza Firouzja    GM   3134     2   \n",
       "2   26897358      grischuk  Alexander Grischuk    GM   3120     3   \n",
       "3   26303484   bigfish1995   Vladimir Fedoseev    GM   3107     4   \n",
       "4   28417564     lachesisq  Ian Nepomniachtchi    GM   3096     5   \n",
       "\n",
       "                                              avatar  \\\n",
       "0  https://images.chesscomfiles.com/uploads/v1/us...   \n",
       "1  https://images.chesscomfiles.com/uploads/v1/us...   \n",
       "2  https://images.chesscomfiles.com/uploads/v1/us...   \n",
       "3  https://images.chesscomfiles.com/uploads/v1/us...   \n",
       "4  https://images.chesscomfiles.com/uploads/v1/us...   \n",
       "\n",
       "                                country  \n",
       "0  https://api.chess.com/pub/country/US  \n",
       "1  https://api.chess.com/pub/country/IR  \n",
       "2  https://api.chess.com/pub/country/RU  \n",
       "3  https://api.chess.com/pub/country/RU  \n",
       "4  https://api.chess.com/pub/country/RU  "
      ]
     },
     "execution_count": 5,
     "metadata": {},
     "output_type": "execute_result"
    }
   ],
   "source": [
    "leaderboard_blitz_dataframe = leaderboard_blitz_dataframe[['player_id', 'username', 'name', 'title', 'score', 'rank','avatar', 'country']]\n",
    "leaderboard_blitz_dataframe.head()"
   ]
  },
  {
   "cell_type": "markdown",
   "metadata": {},
   "source": [
    "Aqui cambio el contenido de la columna country, cambiando la url por el nombre dentro de cada url."
   ]
  },
  {
   "cell_type": "code",
   "execution_count": 6,
   "metadata": {
    "ExecuteTime": {
     "end_time": "2020-02-20T10:21:19.799426Z",
     "start_time": "2020-02-20T10:21:10.131993Z"
    }
   },
   "outputs": [],
   "source": [
    "for i in leaderboard_blitz_dataframe.index:\n",
    "    url = leaderboard_blitz_dataframe.loc[i, 'country']\n",
    "    leaderboard_blitz_dataframe.loc[i, 'country'] = requests.get(url).json()['name']"
   ]
  },
  {
   "cell_type": "code",
   "execution_count": 7,
   "metadata": {
    "ExecuteTime": {
     "end_time": "2020-02-20T10:21:19.847110Z",
     "start_time": "2020-02-20T10:21:19.828130Z"
    }
   },
   "outputs": [
    {
     "data": {
      "text/html": [
       "<div>\n",
       "<style scoped>\n",
       "    .dataframe tbody tr th:only-of-type {\n",
       "        vertical-align: middle;\n",
       "    }\n",
       "\n",
       "    .dataframe tbody tr th {\n",
       "        vertical-align: top;\n",
       "    }\n",
       "\n",
       "    .dataframe thead th {\n",
       "        text-align: right;\n",
       "    }\n",
       "</style>\n",
       "<table border=\"1\" class=\"dataframe\">\n",
       "  <thead>\n",
       "    <tr style=\"text-align: right;\">\n",
       "      <th></th>\n",
       "      <th>player_id</th>\n",
       "      <th>username</th>\n",
       "      <th>name</th>\n",
       "      <th>title</th>\n",
       "      <th>score</th>\n",
       "      <th>rank</th>\n",
       "      <th>avatar</th>\n",
       "      <th>country</th>\n",
       "    </tr>\n",
       "  </thead>\n",
       "  <tbody>\n",
       "    <tr>\n",
       "      <td>0</td>\n",
       "      <td>15448422</td>\n",
       "      <td>hikaru</td>\n",
       "      <td>Hikaru Nakamura</td>\n",
       "      <td>GM</td>\n",
       "      <td>3251</td>\n",
       "      <td>1</td>\n",
       "      <td>https://images.chesscomfiles.com/uploads/v1/us...</td>\n",
       "      <td>United States</td>\n",
       "    </tr>\n",
       "    <tr>\n",
       "      <td>1</td>\n",
       "      <td>42022994</td>\n",
       "      <td>firouzja2003</td>\n",
       "      <td>Alireza Firouzja</td>\n",
       "      <td>GM</td>\n",
       "      <td>3134</td>\n",
       "      <td>2</td>\n",
       "      <td>https://images.chesscomfiles.com/uploads/v1/us...</td>\n",
       "      <td>Iran</td>\n",
       "    </tr>\n",
       "    <tr>\n",
       "      <td>2</td>\n",
       "      <td>26897358</td>\n",
       "      <td>grischuk</td>\n",
       "      <td>Alexander Grischuk</td>\n",
       "      <td>GM</td>\n",
       "      <td>3120</td>\n",
       "      <td>3</td>\n",
       "      <td>https://images.chesscomfiles.com/uploads/v1/us...</td>\n",
       "      <td>Russia</td>\n",
       "    </tr>\n",
       "    <tr>\n",
       "      <td>3</td>\n",
       "      <td>26303484</td>\n",
       "      <td>bigfish1995</td>\n",
       "      <td>Vladimir Fedoseev</td>\n",
       "      <td>GM</td>\n",
       "      <td>3107</td>\n",
       "      <td>4</td>\n",
       "      <td>https://images.chesscomfiles.com/uploads/v1/us...</td>\n",
       "      <td>Russia</td>\n",
       "    </tr>\n",
       "    <tr>\n",
       "      <td>4</td>\n",
       "      <td>28417564</td>\n",
       "      <td>lachesisq</td>\n",
       "      <td>Ian Nepomniachtchi</td>\n",
       "      <td>GM</td>\n",
       "      <td>3096</td>\n",
       "      <td>5</td>\n",
       "      <td>https://images.chesscomfiles.com/uploads/v1/us...</td>\n",
       "      <td>Russia</td>\n",
       "    </tr>\n",
       "  </tbody>\n",
       "</table>\n",
       "</div>"
      ],
      "text/plain": [
       "   player_id      username                name title  score  rank  \\\n",
       "0   15448422        hikaru     Hikaru Nakamura    GM   3251     1   \n",
       "1   42022994  firouzja2003    Alireza Firouzja    GM   3134     2   \n",
       "2   26897358      grischuk  Alexander Grischuk    GM   3120     3   \n",
       "3   26303484   bigfish1995   Vladimir Fedoseev    GM   3107     4   \n",
       "4   28417564     lachesisq  Ian Nepomniachtchi    GM   3096     5   \n",
       "\n",
       "                                              avatar        country  \n",
       "0  https://images.chesscomfiles.com/uploads/v1/us...  United States  \n",
       "1  https://images.chesscomfiles.com/uploads/v1/us...           Iran  \n",
       "2  https://images.chesscomfiles.com/uploads/v1/us...         Russia  \n",
       "3  https://images.chesscomfiles.com/uploads/v1/us...         Russia  \n",
       "4  https://images.chesscomfiles.com/uploads/v1/us...         Russia  "
      ]
     },
     "execution_count": 7,
     "metadata": {},
     "output_type": "execute_result"
    }
   ],
   "source": [
    "leaderboard_blitz_dataframe.head()"
   ]
  },
  {
   "cell_type": "markdown",
   "metadata": {},
   "source": [
    "Aqui saco las localizaciones de cada jugador si las tiene."
   ]
  },
  {
   "cell_type": "code",
   "execution_count": 8,
   "metadata": {
    "ExecuteTime": {
     "end_time": "2020-02-20T10:21:38.995129Z",
     "start_time": "2020-02-20T10:21:19.879990Z"
    }
   },
   "outputs": [],
   "source": [
    "for i in leaderboard_blitz_dataframe.index:\n",
    "    url = f\"https://api.chess.com/pub/player/{leaderboard_blitz_dataframe.loc[i, 'username']}\"\n",
    "    r = requests.get(url).json()\n",
    "    if 'location' in r.keys():\n",
    "        leaderboard_blitz_dataframe.loc[i, 'location'] = r['location']\n",
    "    else:\n",
    "        leaderboard_blitz_dataframe.loc[i, 'location'] = 'Unknown'"
   ]
  },
  {
   "cell_type": "code",
   "execution_count": 9,
   "metadata": {
    "ExecuteTime": {
     "end_time": "2020-02-20T10:21:39.050900Z",
     "start_time": "2020-02-20T10:21:39.029989Z"
    }
   },
   "outputs": [
    {
     "data": {
      "text/html": [
       "<div>\n",
       "<style scoped>\n",
       "    .dataframe tbody tr th:only-of-type {\n",
       "        vertical-align: middle;\n",
       "    }\n",
       "\n",
       "    .dataframe tbody tr th {\n",
       "        vertical-align: top;\n",
       "    }\n",
       "\n",
       "    .dataframe thead th {\n",
       "        text-align: right;\n",
       "    }\n",
       "</style>\n",
       "<table border=\"1\" class=\"dataframe\">\n",
       "  <thead>\n",
       "    <tr style=\"text-align: right;\">\n",
       "      <th></th>\n",
       "      <th>player_id</th>\n",
       "      <th>username</th>\n",
       "      <th>name</th>\n",
       "      <th>title</th>\n",
       "      <th>score</th>\n",
       "      <th>rank</th>\n",
       "      <th>avatar</th>\n",
       "      <th>country</th>\n",
       "      <th>location</th>\n",
       "    </tr>\n",
       "  </thead>\n",
       "  <tbody>\n",
       "    <tr>\n",
       "      <td>0</td>\n",
       "      <td>15448422</td>\n",
       "      <td>hikaru</td>\n",
       "      <td>Hikaru Nakamura</td>\n",
       "      <td>GM</td>\n",
       "      <td>3251</td>\n",
       "      <td>1</td>\n",
       "      <td>https://images.chesscomfiles.com/uploads/v1/us...</td>\n",
       "      <td>United States</td>\n",
       "      <td>Sunrise, Florida</td>\n",
       "    </tr>\n",
       "    <tr>\n",
       "      <td>1</td>\n",
       "      <td>42022994</td>\n",
       "      <td>firouzja2003</td>\n",
       "      <td>Alireza Firouzja</td>\n",
       "      <td>GM</td>\n",
       "      <td>3134</td>\n",
       "      <td>2</td>\n",
       "      <td>https://images.chesscomfiles.com/uploads/v1/us...</td>\n",
       "      <td>Iran</td>\n",
       "      <td>Babol</td>\n",
       "    </tr>\n",
       "    <tr>\n",
       "      <td>2</td>\n",
       "      <td>26897358</td>\n",
       "      <td>grischuk</td>\n",
       "      <td>Alexander Grischuk</td>\n",
       "      <td>GM</td>\n",
       "      <td>3120</td>\n",
       "      <td>3</td>\n",
       "      <td>https://images.chesscomfiles.com/uploads/v1/us...</td>\n",
       "      <td>Russia</td>\n",
       "      <td>Moscow</td>\n",
       "    </tr>\n",
       "    <tr>\n",
       "      <td>3</td>\n",
       "      <td>26303484</td>\n",
       "      <td>bigfish1995</td>\n",
       "      <td>Vladimir Fedoseev</td>\n",
       "      <td>GM</td>\n",
       "      <td>3107</td>\n",
       "      <td>4</td>\n",
       "      <td>https://images.chesscomfiles.com/uploads/v1/us...</td>\n",
       "      <td>Russia</td>\n",
       "      <td>Moscow</td>\n",
       "    </tr>\n",
       "    <tr>\n",
       "      <td>4</td>\n",
       "      <td>28417564</td>\n",
       "      <td>lachesisq</td>\n",
       "      <td>Ian Nepomniachtchi</td>\n",
       "      <td>GM</td>\n",
       "      <td>3096</td>\n",
       "      <td>5</td>\n",
       "      <td>https://images.chesscomfiles.com/uploads/v1/us...</td>\n",
       "      <td>Russia</td>\n",
       "      <td>Moscow</td>\n",
       "    </tr>\n",
       "  </tbody>\n",
       "</table>\n",
       "</div>"
      ],
      "text/plain": [
       "   player_id      username                name title  score  rank  \\\n",
       "0   15448422        hikaru     Hikaru Nakamura    GM   3251     1   \n",
       "1   42022994  firouzja2003    Alireza Firouzja    GM   3134     2   \n",
       "2   26897358      grischuk  Alexander Grischuk    GM   3120     3   \n",
       "3   26303484   bigfish1995   Vladimir Fedoseev    GM   3107     4   \n",
       "4   28417564     lachesisq  Ian Nepomniachtchi    GM   3096     5   \n",
       "\n",
       "                                              avatar        country  \\\n",
       "0  https://images.chesscomfiles.com/uploads/v1/us...  United States   \n",
       "1  https://images.chesscomfiles.com/uploads/v1/us...           Iran   \n",
       "2  https://images.chesscomfiles.com/uploads/v1/us...         Russia   \n",
       "3  https://images.chesscomfiles.com/uploads/v1/us...         Russia   \n",
       "4  https://images.chesscomfiles.com/uploads/v1/us...         Russia   \n",
       "\n",
       "           location  \n",
       "0  Sunrise, Florida  \n",
       "1             Babol  \n",
       "2            Moscow  \n",
       "3            Moscow  \n",
       "4            Moscow  "
      ]
     },
     "execution_count": 9,
     "metadata": {},
     "output_type": "execute_result"
    }
   ],
   "source": [
    "leaderboard_blitz_dataframe.head()"
   ]
  },
  {
   "cell_type": "markdown",
   "metadata": {},
   "source": [
    "De cada una de las estadisticas de los jugadores saco su mejor puntuacion y el numero de victorias, derrotas y empates."
   ]
  },
  {
   "cell_type": "code",
   "execution_count": 10,
   "metadata": {
    "ExecuteTime": {
     "end_time": "2020-02-20T10:22:13.156227Z",
     "start_time": "2020-02-20T10:21:39.095782Z"
    }
   },
   "outputs": [],
   "source": [
    "for i in leaderboard_blitz_dataframe.index:\n",
    "    url = f\"https://api.chess.com/pub/player/{leaderboard_blitz_dataframe.loc[i,'username']}/stats\"\n",
    "    r = requests.get(url).json()\n",
    "    leaderboard_blitz_dataframe.loc[i, 'best_rating'] = r['chess_blitz']['best']['rating']\n",
    "    leaderboard_blitz_dataframe.loc[i, 'games_won'] = r['chess_blitz']['record']['win']\n",
    "    leaderboard_blitz_dataframe.loc[i, 'games_lost'] = r['chess_blitz']['record']['loss']\n",
    "    leaderboard_blitz_dataframe.loc[i, 'games_draw'] = r['chess_blitz']['record']['draw']"
   ]
  },
  {
   "cell_type": "code",
   "execution_count": 11,
   "metadata": {
    "ExecuteTime": {
     "end_time": "2020-02-20T10:22:13.260948Z",
     "start_time": "2020-02-20T10:22:13.213077Z"
    }
   },
   "outputs": [
    {
     "data": {
      "text/html": [
       "<div>\n",
       "<style scoped>\n",
       "    .dataframe tbody tr th:only-of-type {\n",
       "        vertical-align: middle;\n",
       "    }\n",
       "\n",
       "    .dataframe tbody tr th {\n",
       "        vertical-align: top;\n",
       "    }\n",
       "\n",
       "    .dataframe thead th {\n",
       "        text-align: right;\n",
       "    }\n",
       "</style>\n",
       "<table border=\"1\" class=\"dataframe\">\n",
       "  <thead>\n",
       "    <tr style=\"text-align: right;\">\n",
       "      <th></th>\n",
       "      <th>player_id</th>\n",
       "      <th>username</th>\n",
       "      <th>name</th>\n",
       "      <th>title</th>\n",
       "      <th>score</th>\n",
       "      <th>rank</th>\n",
       "      <th>avatar</th>\n",
       "      <th>country</th>\n",
       "      <th>location</th>\n",
       "      <th>best_rating</th>\n",
       "      <th>games_won</th>\n",
       "      <th>games_lost</th>\n",
       "      <th>games_draw</th>\n",
       "    </tr>\n",
       "  </thead>\n",
       "  <tbody>\n",
       "    <tr>\n",
       "      <td>0</td>\n",
       "      <td>15448422</td>\n",
       "      <td>hikaru</td>\n",
       "      <td>Hikaru Nakamura</td>\n",
       "      <td>GM</td>\n",
       "      <td>3251</td>\n",
       "      <td>1</td>\n",
       "      <td>https://images.chesscomfiles.com/uploads/v1/us...</td>\n",
       "      <td>United States</td>\n",
       "      <td>Sunrise, Florida</td>\n",
       "      <td>3322.0</td>\n",
       "      <td>13233.0</td>\n",
       "      <td>2381.0</td>\n",
       "      <td>1616.0</td>\n",
       "    </tr>\n",
       "    <tr>\n",
       "      <td>1</td>\n",
       "      <td>42022994</td>\n",
       "      <td>firouzja2003</td>\n",
       "      <td>Alireza Firouzja</td>\n",
       "      <td>GM</td>\n",
       "      <td>3134</td>\n",
       "      <td>2</td>\n",
       "      <td>https://images.chesscomfiles.com/uploads/v1/us...</td>\n",
       "      <td>Iran</td>\n",
       "      <td>Babol</td>\n",
       "      <td>3233.0</td>\n",
       "      <td>4581.0</td>\n",
       "      <td>3003.0</td>\n",
       "      <td>1038.0</td>\n",
       "    </tr>\n",
       "    <tr>\n",
       "      <td>2</td>\n",
       "      <td>26897358</td>\n",
       "      <td>grischuk</td>\n",
       "      <td>Alexander Grischuk</td>\n",
       "      <td>GM</td>\n",
       "      <td>3120</td>\n",
       "      <td>3</td>\n",
       "      <td>https://images.chesscomfiles.com/uploads/v1/us...</td>\n",
       "      <td>Russia</td>\n",
       "      <td>Moscow</td>\n",
       "      <td>3120.0</td>\n",
       "      <td>257.0</td>\n",
       "      <td>176.0</td>\n",
       "      <td>133.0</td>\n",
       "    </tr>\n",
       "    <tr>\n",
       "      <td>3</td>\n",
       "      <td>26303484</td>\n",
       "      <td>bigfish1995</td>\n",
       "      <td>Vladimir Fedoseev</td>\n",
       "      <td>GM</td>\n",
       "      <td>3107</td>\n",
       "      <td>4</td>\n",
       "      <td>https://images.chesscomfiles.com/uploads/v1/us...</td>\n",
       "      <td>Russia</td>\n",
       "      <td>Moscow</td>\n",
       "      <td>3174.0</td>\n",
       "      <td>3363.0</td>\n",
       "      <td>2445.0</td>\n",
       "      <td>753.0</td>\n",
       "    </tr>\n",
       "    <tr>\n",
       "      <td>4</td>\n",
       "      <td>28417564</td>\n",
       "      <td>lachesisq</td>\n",
       "      <td>Ian Nepomniachtchi</td>\n",
       "      <td>GM</td>\n",
       "      <td>3096</td>\n",
       "      <td>5</td>\n",
       "      <td>https://images.chesscomfiles.com/uploads/v1/us...</td>\n",
       "      <td>Russia</td>\n",
       "      <td>Moscow</td>\n",
       "      <td>3204.0</td>\n",
       "      <td>1245.0</td>\n",
       "      <td>697.0</td>\n",
       "      <td>297.0</td>\n",
       "    </tr>\n",
       "  </tbody>\n",
       "</table>\n",
       "</div>"
      ],
      "text/plain": [
       "   player_id      username                name title  score  rank  \\\n",
       "0   15448422        hikaru     Hikaru Nakamura    GM   3251     1   \n",
       "1   42022994  firouzja2003    Alireza Firouzja    GM   3134     2   \n",
       "2   26897358      grischuk  Alexander Grischuk    GM   3120     3   \n",
       "3   26303484   bigfish1995   Vladimir Fedoseev    GM   3107     4   \n",
       "4   28417564     lachesisq  Ian Nepomniachtchi    GM   3096     5   \n",
       "\n",
       "                                              avatar        country  \\\n",
       "0  https://images.chesscomfiles.com/uploads/v1/us...  United States   \n",
       "1  https://images.chesscomfiles.com/uploads/v1/us...           Iran   \n",
       "2  https://images.chesscomfiles.com/uploads/v1/us...         Russia   \n",
       "3  https://images.chesscomfiles.com/uploads/v1/us...         Russia   \n",
       "4  https://images.chesscomfiles.com/uploads/v1/us...         Russia   \n",
       "\n",
       "           location  best_rating  games_won  games_lost  games_draw  \n",
       "0  Sunrise, Florida       3322.0    13233.0      2381.0      1616.0  \n",
       "1             Babol       3233.0     4581.0      3003.0      1038.0  \n",
       "2            Moscow       3120.0      257.0       176.0       133.0  \n",
       "3            Moscow       3174.0     3363.0      2445.0       753.0  \n",
       "4            Moscow       3204.0     1245.0       697.0       297.0  "
      ]
     },
     "execution_count": 11,
     "metadata": {},
     "output_type": "execute_result"
    }
   ],
   "source": [
    "leaderboard_blitz_dataframe.head()"
   ]
  },
  {
   "cell_type": "markdown",
   "metadata": {},
   "source": [
    "Muestro los tres primeros con el avatar"
   ]
  },
  {
   "cell_type": "code",
   "execution_count": 12,
   "metadata": {
    "ExecuteTime": {
     "end_time": "2020-02-20T10:22:13.390601Z",
     "start_time": "2020-02-20T10:22:13.360682Z"
    }
   },
   "outputs": [
    {
     "data": {
      "text/html": [
       "<table border=\"1\" class=\"dataframe\">\n",
       "  <thead>\n",
       "    <tr style=\"text-align: right;\">\n",
       "      <th></th>\n",
       "      <th>player_id</th>\n",
       "      <th>username</th>\n",
       "      <th>name</th>\n",
       "      <th>title</th>\n",
       "      <th>score</th>\n",
       "      <th>rank</th>\n",
       "      <th>avatar</th>\n",
       "      <th>country</th>\n",
       "      <th>location</th>\n",
       "      <th>best_rating</th>\n",
       "      <th>games_won</th>\n",
       "      <th>games_lost</th>\n",
       "      <th>games_draw</th>\n",
       "    </tr>\n",
       "  </thead>\n",
       "  <tbody>\n",
       "    <tr>\n",
       "      <th>0</th>\n",
       "      <td>15448422</td>\n",
       "      <td>hikaru</td>\n",
       "      <td>Hikaru Nakamura</td>\n",
       "      <td>GM</td>\n",
       "      <td>3251</td>\n",
       "      <td>1</td>\n",
       "      <td><img src=\"https://images.chesscomfiles.com/uploads/v1/user/15448422.90503d66.200x200o.f323efa57fd0.jpeg\" width=\"100\" ></td>\n",
       "      <td>United States</td>\n",
       "      <td>Sunrise, Florida</td>\n",
       "      <td>3322.0</td>\n",
       "      <td>13233.0</td>\n",
       "      <td>2381.0</td>\n",
       "      <td>1616.0</td>\n",
       "    </tr>\n",
       "    <tr>\n",
       "      <th>1</th>\n",
       "      <td>42022994</td>\n",
       "      <td>firouzja2003</td>\n",
       "      <td>Alireza Firouzja</td>\n",
       "      <td>GM</td>\n",
       "      <td>3134</td>\n",
       "      <td>2</td>\n",
       "      <td><img src=\"https://images.chesscomfiles.com/uploads/v1/user/42022994.69776ff4.200x200o.a8a6e15203e4.png\" width=\"100\" ></td>\n",
       "      <td>Iran</td>\n",
       "      <td>Babol</td>\n",
       "      <td>3233.0</td>\n",
       "      <td>4581.0</td>\n",
       "      <td>3003.0</td>\n",
       "      <td>1038.0</td>\n",
       "    </tr>\n",
       "    <tr>\n",
       "      <th>2</th>\n",
       "      <td>26897358</td>\n",
       "      <td>grischuk</td>\n",
       "      <td>Alexander Grischuk</td>\n",
       "      <td>GM</td>\n",
       "      <td>3120</td>\n",
       "      <td>3</td>\n",
       "      <td><img src=\"https://images.chesscomfiles.com/uploads/v1/user/26897358.10f64fa8.200x200o.634d3db4ddc2.jpeg\" width=\"100\" ></td>\n",
       "      <td>Russia</td>\n",
       "      <td>Moscow</td>\n",
       "      <td>3120.0</td>\n",
       "      <td>257.0</td>\n",
       "      <td>176.0</td>\n",
       "      <td>133.0</td>\n",
       "    </tr>\n",
       "  </tbody>\n",
       "</table>"
      ],
      "text/plain": [
       "<IPython.core.display.HTML object>"
      ]
     },
     "execution_count": 12,
     "metadata": {},
     "output_type": "execute_result"
    }
   ],
   "source": [
    "def path_to_image_html(path):\n",
    "    return '<img src=\"'+ path + '\" width=\"100\" >'\n",
    "\n",
    "pd.set_option('display.max_colwidth', -1)\n",
    "\n",
    "HTML(leaderboard_blitz_dataframe[:3].to_html(escape=False ,formatters=dict(avatar=path_to_image_html)))"
   ]
  },
  {
   "cell_type": "markdown",
   "metadata": {},
   "source": [
    "## Games Dataset Blitz"
   ]
  },
  {
   "cell_type": "markdown",
   "metadata": {},
   "source": [
    "Primero sacamos la lista de todas la url de cada jugador con partidas."
   ]
  },
  {
   "cell_type": "code",
   "execution_count": 104,
   "metadata": {
    "ExecuteTime": {
     "end_time": "2020-02-19T16:56:37.355147Z",
     "start_time": "2020-02-19T16:56:19.630870Z"
    }
   },
   "outputs": [],
   "source": [
    "list_games = []\n",
    "for i in leaderboard_blitz_dataframe.index:\n",
    "    url = f\"https://api.chess.com/pub/player/{leaderboard_blitz_dataframe.loc[i,'username']}/games/archives\"\n",
    "    r = requests.get(url).json()['archives']\n",
    "    list_games += r\n"
   ]
  },
  {
   "cell_type": "markdown",
   "metadata": {},
   "source": [
    "De cada URL obtenemos la informacion de cada partida (Tarda bastante en ejecutarse, son todas las partidas de los 50 mejores jugadores)"
   ]
  },
  {
   "cell_type": "code",
   "execution_count": 114,
   "metadata": {
    "ExecuteTime": {
     "end_time": "2020-02-19T19:23:00.326779Z",
     "start_time": "2020-02-19T18:54:06.737566Z"
    }
   },
   "outputs": [],
   "source": [
    "lst_all_games = [json_normalize(requests.get(i).json()['games']) for i in list_games]"
   ]
  },
  {
   "cell_type": "code",
   "execution_count": 115,
   "metadata": {
    "ExecuteTime": {
     "end_time": "2020-02-19T19:23:35.642020Z",
     "start_time": "2020-02-19T19:23:32.145476Z"
    }
   },
   "outputs": [],
   "source": [
    "data = pd.concat(lst_all_games,ignore_index=True, sort=False)"
   ]
  },
  {
   "cell_type": "code",
   "execution_count": 121,
   "metadata": {
    "ExecuteTime": {
     "end_time": "2020-02-19T20:02:49.483562Z",
     "start_time": "2020-02-19T20:02:48.956971Z"
    }
   },
   "outputs": [
    {
     "name": "stdout",
     "output_type": "stream",
     "text": [
      "<class 'pandas.core.frame.DataFrame'>\n",
      "RangeIndex: 382925 entries, 0 to 382924\n",
      "Data columns (total 19 columns):\n",
      "url               382925 non-null object\n",
      "pgn               356016 non-null object\n",
      "time_control      382925 non-null object\n",
      "end_time          382925 non-null int64\n",
      "rated             382925 non-null bool\n",
      "fen               382925 non-null object\n",
      "time_class        382925 non-null object\n",
      "rules             382925 non-null object\n",
      "white.rating      382925 non-null int64\n",
      "white.result      382925 non-null object\n",
      "white.@id         382925 non-null object\n",
      "white.username    382925 non-null object\n",
      "black.rating      382925 non-null int64\n",
      "black.result      382925 non-null object\n",
      "black.@id         382925 non-null object\n",
      "black.username    382925 non-null object\n",
      "start_time        1288 non-null float64\n",
      "tournament        9153 non-null object\n",
      "match             178 non-null object\n",
      "dtypes: bool(1), float64(1), int64(3), object(14)\n",
      "memory usage: 53.0+ MB\n"
     ]
    }
   ],
   "source": [
    "data.info()\n"
   ]
  },
  {
   "cell_type": "code",
   "execution_count": 21,
   "metadata": {
    "ExecuteTime": {
     "end_time": "2020-02-20T10:32:05.968348Z",
     "start_time": "2020-02-20T10:32:05.845677Z"
    }
   },
   "outputs": [],
   "source": [
    "data1 = data.copy()"
   ]
  },
  {
   "cell_type": "code",
   "execution_count": 20,
   "metadata": {
    "ExecuteTime": {
     "end_time": "2020-02-20T10:31:20.741895Z",
     "start_time": "2020-02-20T10:31:20.641165Z"
    }
   },
   "outputs": [
    {
     "data": {
      "text/html": [
       "<div>\n",
       "<style scoped>\n",
       "    .dataframe tbody tr th:only-of-type {\n",
       "        vertical-align: middle;\n",
       "    }\n",
       "\n",
       "    .dataframe tbody tr th {\n",
       "        vertical-align: top;\n",
       "    }\n",
       "\n",
       "    .dataframe thead th {\n",
       "        text-align: right;\n",
       "    }\n",
       "</style>\n",
       "<table border=\"1\" class=\"dataframe\">\n",
       "  <thead>\n",
       "    <tr style=\"text-align: right;\">\n",
       "      <th></th>\n",
       "      <th>time_class</th>\n",
       "      <th>white.username</th>\n",
       "      <th>white.rating</th>\n",
       "      <th>black.username</th>\n",
       "      <th>black.rating</th>\n",
       "      <th>time_control</th>\n",
       "      <th>white.result</th>\n",
       "      <th>black.result</th>\n",
       "      <th>pgn</th>\n",
       "      <th>rated</th>\n",
       "    </tr>\n",
       "  </thead>\n",
       "  <tbody>\n",
       "    <tr>\n",
       "      <td>0</td>\n",
       "      <td>blitz</td>\n",
       "      <td>Hikaru</td>\n",
       "      <td>2354</td>\n",
       "      <td>Godswill</td>\n",
       "      <td>2167</td>\n",
       "      <td>180</td>\n",
       "      <td>win</td>\n",
       "      <td>resigned</td>\n",
       "      <td>[Event \"Live Chess\"]\\n[Site \"Chess.com\"]\\n[Date \"2014.01.06\"]\\n[Round \"-\"]\\n[White \"Hikaru\"]\\n[Black \"Godswill\"]\\n[Result \"1-0\"]\\n[ECO \"C25\"]\\n[ECOUrl \"https://www.chess.com/openings/Vienna-Game-Max-Lange-Paulsen-Variation\"]\\n[CurrentPosition \"6k1/1p2R3/p1p5/8/2P1B3/1P1P1p1P/P6K/8 b - -\"]\\n[Timezone \"UTC\"]\\n[UTCDate \"2014.01.06\"]\\n[UTCTime \"23:50:17\"]\\n[WhiteElo \"2354\"]\\n[BlackElo \"2167\"]\\n[TimeControl \"180\"]\\n[Termination \"Hikaru won by resignation\"]\\n[StartTime \"23:50:17\"]\\n[EndDate \"2014.01.06\"]\\n[EndTime \"23:54:39\"]\\n[Link \"https://www.chess.com/live/game/692667823\"]\\n\\n1. e4 {[%clk 0:03:00]} 1... e5 {[%clk 0:03:00]} 2. Nc3 {[%clk 0:02:57.6]} 2... Nc6 {[%clk 0:02:57.2]} 3. g3 {[%clk 0:02:42.4]} 3... g6 {[%clk 0:02:52.5]} 4. Bg2 {[%clk 0:02:40.8]} 4... Bg7 {[%clk 0:02:51.8]} 5. Nge2 {[%clk 0:02:38.3]} 5... Nge7 {[%clk 0:02:50.8]} 6. O-O {[%clk 0:02:37.6]} 6... O-O {[%clk 0:02:49.7]} 7. d3 {[%clk 0:02:37.1]} 7... d6 {[%clk 0:02:48.7]} 8. h3 {[%clk 0:02:36.6]} 8... h6 {[%clk 0:02:46.9]} 9. Be3 {[%clk 0:02:35.5]} 9... Be6 {[%clk 0:02:45.5]} 10. Qd2 {[%clk 0:02:35]} 10... Qd7 {[%clk 0:02:44]} 11. Kh2 {[%clk 0:02:33]} 11... Kh7 {[%clk 0:02:42.5]} 12. Nd5 {[%clk 0:02:32.2]} 12... Nd4 {[%clk 0:02:37.4]} 13. Nxe7 {[%clk 0:02:21.8]} 13... Qxe7 {[%clk 0:02:33]} 14. c3 {[%clk 0:02:21.1]} 14... Nxe2 {[%clk 0:02:31.7]} 15. Qxe2 {[%clk 0:02:20.3]} 15... c6 {[%clk 0:02:30.5]} 16. f4 {[%clk 0:02:18.9]} 16... f5 {[%clk 0:02:28.8]} 17. Rae1 {[%clk 0:02:16.3]} 17... a6 {[%clk 0:02:18.1]} 18. fxe5 {[%clk 0:02:13.1]} 18... dxe5 {[%clk 0:02:16.6]} 19. exf5 {[%clk 0:02:11.8]} 19... Bxf5 {[%clk 0:02:15.8]} 20. g4 {[%clk 0:02:11.2]} 20... Be6 {[%clk 0:02:14.8]} 21. c4 {[%clk 0:02:10.7]} 21... Rad8 {[%clk 0:02:12.4]} 22. Be4 {[%clk 0:02:09.6]} 22... Bf7 {[%clk 0:02:04.3]} 23. b3 {[%clk 0:02:07.4]} 23... Qh4 {[%clk 0:01:38.8]} 24. Bf2 {[%clk 0:02:04.8]} 24... Qg5 {[%clk 0:01:37]} 25. Bc5 {[%clk 0:02:03.6]} 25... Be6 {[%clk 0:01:22.7]} 26. Bxf8 {[%clk 0:01:47.4]} 26... Rxf8 {[%clk 0:01:20.9]} 27. Rxf8 {[%clk 0:01:45.1]} 27... Bxf8 {[%clk 0:01:20.1]} 28. Qf2 {[%clk 0:01:44.4]} 28... Be7 {[%clk 0:01:09.6]} 29. Rf1 {[%clk 0:01:42]} 29... h5 {[%clk 0:01:05.2]} 30. gxh5 {[%clk 0:01:40.1]} 30... Qxh5 {[%clk 0:01:04.5]} 31. Qf3 {[%clk 0:01:39.3]} 31... Qg5 {[%clk 0:00:59.4]} 32. Rg1 {[%clk 0:01:34.1]} 32... Qf4+ {[%clk 0:00:48.6]} 33. Qxf4 {[%clk 0:01:29.8]} 33... exf4 {[%clk 0:00:47.8]} 34. Rxg6 {[%clk 0:01:29.4]} 34... f3 {[%clk 0:00:32.9]} 35. Rxe6+ {[%clk 0:01:27.2]} 35... Kg8 {[%clk 0:00:32]} 36. Rxe7 {[%clk 0:01:26.3]} 1-0</td>\n",
       "      <td>True</td>\n",
       "    </tr>\n",
       "  </tbody>\n",
       "</table>\n",
       "</div>"
      ],
      "text/plain": [
       "  time_class white.username  white.rating black.username  black.rating  \\\n",
       "0  blitz      Hikaru         2354          Godswill       2167           \n",
       "\n",
       "  time_control white.result black.result  \\\n",
       "0  180          win          resigned      \n",
       "\n",
       "                                                                                                                                                                                                                                                                                                                                                                                                                                                                                                                                                                                                                                                                                                                                                                                                                                                                                                                                                                                                                                                                                                                                                                                                                                                                                                                                                                                                                                                                                                                                                                                                                                                                                                                                                                                                                                                                                                                                                                                                                                                                                                                                                                                                                                                                                                                                                                                                                                                                                                                                                                                                                                              pgn  \\\n",
       "0  [Event \"Live Chess\"]\\n[Site \"Chess.com\"]\\n[Date \"2014.01.06\"]\\n[Round \"-\"]\\n[White \"Hikaru\"]\\n[Black \"Godswill\"]\\n[Result \"1-0\"]\\n[ECO \"C25\"]\\n[ECOUrl \"https://www.chess.com/openings/Vienna-Game-Max-Lange-Paulsen-Variation\"]\\n[CurrentPosition \"6k1/1p2R3/p1p5/8/2P1B3/1P1P1p1P/P6K/8 b - -\"]\\n[Timezone \"UTC\"]\\n[UTCDate \"2014.01.06\"]\\n[UTCTime \"23:50:17\"]\\n[WhiteElo \"2354\"]\\n[BlackElo \"2167\"]\\n[TimeControl \"180\"]\\n[Termination \"Hikaru won by resignation\"]\\n[StartTime \"23:50:17\"]\\n[EndDate \"2014.01.06\"]\\n[EndTime \"23:54:39\"]\\n[Link \"https://www.chess.com/live/game/692667823\"]\\n\\n1. e4 {[%clk 0:03:00]} 1... e5 {[%clk 0:03:00]} 2. Nc3 {[%clk 0:02:57.6]} 2... Nc6 {[%clk 0:02:57.2]} 3. g3 {[%clk 0:02:42.4]} 3... g6 {[%clk 0:02:52.5]} 4. Bg2 {[%clk 0:02:40.8]} 4... Bg7 {[%clk 0:02:51.8]} 5. Nge2 {[%clk 0:02:38.3]} 5... Nge7 {[%clk 0:02:50.8]} 6. O-O {[%clk 0:02:37.6]} 6... O-O {[%clk 0:02:49.7]} 7. d3 {[%clk 0:02:37.1]} 7... d6 {[%clk 0:02:48.7]} 8. h3 {[%clk 0:02:36.6]} 8... h6 {[%clk 0:02:46.9]} 9. Be3 {[%clk 0:02:35.5]} 9... Be6 {[%clk 0:02:45.5]} 10. Qd2 {[%clk 0:02:35]} 10... Qd7 {[%clk 0:02:44]} 11. Kh2 {[%clk 0:02:33]} 11... Kh7 {[%clk 0:02:42.5]} 12. Nd5 {[%clk 0:02:32.2]} 12... Nd4 {[%clk 0:02:37.4]} 13. Nxe7 {[%clk 0:02:21.8]} 13... Qxe7 {[%clk 0:02:33]} 14. c3 {[%clk 0:02:21.1]} 14... Nxe2 {[%clk 0:02:31.7]} 15. Qxe2 {[%clk 0:02:20.3]} 15... c6 {[%clk 0:02:30.5]} 16. f4 {[%clk 0:02:18.9]} 16... f5 {[%clk 0:02:28.8]} 17. Rae1 {[%clk 0:02:16.3]} 17... a6 {[%clk 0:02:18.1]} 18. fxe5 {[%clk 0:02:13.1]} 18... dxe5 {[%clk 0:02:16.6]} 19. exf5 {[%clk 0:02:11.8]} 19... Bxf5 {[%clk 0:02:15.8]} 20. g4 {[%clk 0:02:11.2]} 20... Be6 {[%clk 0:02:14.8]} 21. c4 {[%clk 0:02:10.7]} 21... Rad8 {[%clk 0:02:12.4]} 22. Be4 {[%clk 0:02:09.6]} 22... Bf7 {[%clk 0:02:04.3]} 23. b3 {[%clk 0:02:07.4]} 23... Qh4 {[%clk 0:01:38.8]} 24. Bf2 {[%clk 0:02:04.8]} 24... Qg5 {[%clk 0:01:37]} 25. Bc5 {[%clk 0:02:03.6]} 25... Be6 {[%clk 0:01:22.7]} 26. Bxf8 {[%clk 0:01:47.4]} 26... Rxf8 {[%clk 0:01:20.9]} 27. Rxf8 {[%clk 0:01:45.1]} 27... Bxf8 {[%clk 0:01:20.1]} 28. Qf2 {[%clk 0:01:44.4]} 28... Be7 {[%clk 0:01:09.6]} 29. Rf1 {[%clk 0:01:42]} 29... h5 {[%clk 0:01:05.2]} 30. gxh5 {[%clk 0:01:40.1]} 30... Qxh5 {[%clk 0:01:04.5]} 31. Qf3 {[%clk 0:01:39.3]} 31... Qg5 {[%clk 0:00:59.4]} 32. Rg1 {[%clk 0:01:34.1]} 32... Qf4+ {[%clk 0:00:48.6]} 33. Qxf4 {[%clk 0:01:29.8]} 33... exf4 {[%clk 0:00:47.8]} 34. Rxg6 {[%clk 0:01:29.4]} 34... f3 {[%clk 0:00:32.9]} 35. Rxe6+ {[%clk 0:01:27.2]} 35... Kg8 {[%clk 0:00:32]} 36. Rxe7 {[%clk 0:01:26.3]} 1-0   \n",
       "\n",
       "   rated  \n",
       "0  True   "
      ]
     },
     "metadata": {},
     "output_type": "display_data"
    }
   ],
   "source": [
    "data1 = data1[['time_class','white.username', 'white.rating', 'black.username', 'black.rating', \n",
    "                        'time_control','white.result','black.result','pgn','rated']]\n",
    "display(data1.head(1))\n"
   ]
  },
  {
   "cell_type": "code",
   "execution_count": 186,
   "metadata": {
    "ExecuteTime": {
     "end_time": "2020-02-20T07:16:07.259901Z",
     "start_time": "2020-02-20T07:16:07.118446Z"
    }
   },
   "outputs": [
    {
     "data": {
      "text/plain": [
       "bullet    194127\n",
       "blitz     185060\n",
       "rapid     2450  \n",
       "daily     1288  \n",
       "Name: time_class, dtype: int64"
      ]
     },
     "execution_count": 186,
     "metadata": {},
     "output_type": "execute_result"
    }
   ],
   "source": [
    "data1['time_class'].value_counts()"
   ]
  },
  {
   "cell_type": "markdown",
   "metadata": {},
   "source": [
    "En el siguiente paso nos quedamos con las partidas que son blitz y cuentan para los puntos de rating"
   ]
  },
  {
   "cell_type": "code",
   "execution_count": 187,
   "metadata": {
    "ExecuteTime": {
     "end_time": "2020-02-20T07:16:42.852687Z",
     "start_time": "2020-02-20T07:16:42.584327Z"
    }
   },
   "outputs": [],
   "source": [
    "data1 = data1.loc[data1['time_class'] == 'blitz']\n",
    "data1 = data1.loc[data1['rated'] == True]"
   ]
  },
  {
   "cell_type": "code",
   "execution_count": 189,
   "metadata": {
    "ExecuteTime": {
     "end_time": "2020-02-20T07:17:56.345462Z",
     "start_time": "2020-02-20T07:17:56.299577Z"
    }
   },
   "outputs": [
    {
     "data": {
      "text/plain": [
       "blitz    182194\n",
       "Name: time_class, dtype: int64"
      ]
     },
     "execution_count": 189,
     "metadata": {},
     "output_type": "execute_result"
    }
   ],
   "source": [
    "data1['time_class'].value_counts()"
   ]
  },
  {
   "cell_type": "markdown",
   "metadata": {},
   "source": [
    "Limpiamos la columna 'pgn' para obtener la notacion de las partidas"
   ]
  },
  {
   "cell_type": "code",
   "execution_count": 190,
   "metadata": {
    "ExecuteTime": {
     "end_time": "2020-02-20T07:18:32.431982Z",
     "start_time": "2020-02-20T07:18:32.425001Z"
    }
   },
   "outputs": [],
   "source": [
    "def game_anotation(x):\n",
    "    \n",
    "    # Input: pgn, messy string with notation\n",
    "    # Output: Cleaning notation chess game\n",
    "    \n",
    "    if x is not None:\n",
    "        l = [ i + ' ' + j for i, j in zip(re.findall('\\d+\\. \\w+-?\\w+', str(x)), re.findall('\\d+\\.\\.\\. \\w+-?\\w+', str(x)))]\n",
    "        return ' '.join(l)\n",
    "    else:\n",
    "        return \"Unknown\"\n",
    "\n"
   ]
  },
  {
   "cell_type": "code",
   "execution_count": 191,
   "metadata": {
    "ExecuteTime": {
     "end_time": "2020-02-20T09:03:18.594594Z",
     "start_time": "2020-02-20T07:19:08.546475Z"
    }
   },
   "outputs": [],
   "source": [
    "for i in data1.index:\n",
    "    data1.loc[i,'pgn'] = game_anotation(data1.loc[i,'pgn'])"
   ]
  },
  {
   "cell_type": "code",
   "execution_count": 16,
   "metadata": {
    "ExecuteTime": {
     "end_time": "2020-02-20T10:28:32.742069Z",
     "start_time": "2020-02-20T10:28:30.805366Z"
    }
   },
   "outputs": [
    {
     "data": {
      "text/html": [
       "<div>\n",
       "<style scoped>\n",
       "    .dataframe tbody tr th:only-of-type {\n",
       "        vertical-align: middle;\n",
       "    }\n",
       "\n",
       "    .dataframe tbody tr th {\n",
       "        vertical-align: top;\n",
       "    }\n",
       "\n",
       "    .dataframe thead th {\n",
       "        text-align: right;\n",
       "    }\n",
       "</style>\n",
       "<table border=\"1\" class=\"dataframe\">\n",
       "  <thead>\n",
       "    <tr style=\"text-align: right;\">\n",
       "      <th></th>\n",
       "      <th>time_class</th>\n",
       "      <th>white.username</th>\n",
       "      <th>white.rating</th>\n",
       "      <th>black.username</th>\n",
       "      <th>black.rating</th>\n",
       "      <th>time_control</th>\n",
       "      <th>white.result</th>\n",
       "      <th>black.result</th>\n",
       "      <th>pgn</th>\n",
       "      <th>rated</th>\n",
       "    </tr>\n",
       "  </thead>\n",
       "  <tbody>\n",
       "    <tr>\n",
       "      <td>0</td>\n",
       "      <td>blitz</td>\n",
       "      <td>Hikaru</td>\n",
       "      <td>2354</td>\n",
       "      <td>Godswill</td>\n",
       "      <td>2167</td>\n",
       "      <td>180</td>\n",
       "      <td>win</td>\n",
       "      <td>resigned</td>\n",
       "      <td>1. e4 1... e5 2. Nc3 2... Nc6 3. g3 3... g6 4. Bg2 4... Bg7 5. Nge2 5... Nge7 6. O-O 6... O-O 7. d3 7... d6 8. h3 8... h6 9. Be3 9... Be6 10. Qd2 10... Qd7 11. Kh2 11... Kh7 12. Nd5 12... Nd4 13. Nxe7 13... Qxe7 14. c3 14... Nxe2 15. Qxe2 15... c6 16. f4 16... f5 17. Rae1 17... a6 18. fxe5 18... dxe5 19. exf5 19... Bxf5 20. g4 20... Be6 21. c4 21... Rad8 22. Be4 22... Bf7 23. b3 23... Qh4 24. Bf2 24... Qg5 25. Bc5 25... Be6 26. Bxf8 26... Rxf8 27. Rxf8 27... Bxf8 28. Qf2 28... Be7 29. Rf1 29... h5 30. gxh5 30... Qxh5 31. Qf3 31... Qg5 32. Rg1 32... Qf4 33. Qxf4 33... exf4 34. Rxg6 34... f3 35. Rxe6 35... Kg8</td>\n",
       "      <td>True</td>\n",
       "    </tr>\n",
       "    <tr>\n",
       "      <td>1</td>\n",
       "      <td>blitz</td>\n",
       "      <td>Godswill</td>\n",
       "      <td>2163</td>\n",
       "      <td>Hikaru</td>\n",
       "      <td>2438</td>\n",
       "      <td>180</td>\n",
       "      <td>timeout</td>\n",
       "      <td>win</td>\n",
       "      <td>1. d4 1... Nf6 2. c4 2... b6 3. Nc3 3... Bb7 4. f3 4... e6 5. e4 5... d5 6. e5 6... Nfd7 7. cxd5 7... exd5 8. Bd3 8... c5 9. dxc5 9... Bxc5 10. Qe2 10... Nc6 11. f4 11... Nd4 12. Qg4 12... Qe7 13. Nge2 13... Nxe2 14. Nxe2 14... Bb4 15. Kf1 15... O-O 16. a3 16... f6 17. axb4 17... fxe5 18. Bf5 18... Nf6 19. Qh3 19... g6 20. Be6 20... Kh8 21. f5 21... Ne4 22. Kg1 22... Qxb4 23. Bh6 23... Qxb2 24. Re1 24... Qb4 25. Rf1 25... Rf6 26. g4 26... Ba6 27. Qe3 27... gxf5 28. Qg5 28... Nxg5 29. Bxg5 29... Qxg4 30. Ng3 30... Qxg5 31. Rxf5 31... Rxf5 32. Bxf5 32... Qd2 33. h4 33... Rg8 34. Rh3 34... Bd3 35. Be6 35... Rxg3 36. Rxg3 36... Qe1 37. Kh2 37... Qxg3 38. Kxg3 38... d4 39. Kf3 39... a5 40. Bd5 40... a4 41. Kg4 41... a3 42. Kg5 42... Kg7 43. h5 43... h6 44. Kg4 44... b5 45. Kf3 45... b4 46. Kf2 46... e4 47. Ke1 47... e3 48. Kd1 48... Kf6 49. Kc1 49... Ke5 50. Bb3 50... Bf5 51. Kd1 51... d3 52. Ke1 52... Bh3 53. Bd1 53... Kd4 54. Bb3 54... Kc3</td>\n",
       "      <td>True</td>\n",
       "    </tr>\n",
       "    <tr>\n",
       "      <td>2</td>\n",
       "      <td>blitz</td>\n",
       "      <td>Hikaru</td>\n",
       "      <td>2509</td>\n",
       "      <td>Dmitriy_From_Russia</td>\n",
       "      <td>2266</td>\n",
       "      <td>180</td>\n",
       "      <td>win</td>\n",
       "      <td>resigned</td>\n",
       "      <td>1. e4 1... d6 2. g3 2... g6 3. Bg2 3... Bg7 4. Ne2 4... Nf6 5. d4 5... O-O 6. c4 6... c6 7. O-O 7... Nbd7 8. Nec3 8... e5 9. d5 9... Nc5 10. b4 10... Na6 11. a3 11... Nc7 12. h3 12... a5 13. b5 13... cxd5 14. cxd5 14... Bd7 15. a4 15... Qc8 16. Kh2 16... Nh5 17. Nd2 17... Na6 18. Ra3 18... f5 19. bxa6 19... Rxa6 20. exf5 20... Bxf5 21. Nde4 21... Nf6 22. Nxf6 22... Bxf6 23. Ne4 23... Bg7 24. Rc3 24... Qd7 25. Qb3 25... Raa8 26. Be3 26... Bxe4 27. Bxe4 27... Rf7 28. Rfc1 28... Raf8 29. Qc2 29... Bf6 30. Rc7 30... Qd8 31. Rxf7 31... Rxf7 32. Qc8 32... Qxc8 33. Rxc8 33... Kg7</td>\n",
       "      <td>True</td>\n",
       "    </tr>\n",
       "    <tr>\n",
       "      <td>3</td>\n",
       "      <td>blitz</td>\n",
       "      <td>Dmitriy_From_Russia</td>\n",
       "      <td>2263</td>\n",
       "      <td>Hikaru</td>\n",
       "      <td>2556</td>\n",
       "      <td>180</td>\n",
       "      <td>timeout</td>\n",
       "      <td>win</td>\n",
       "      <td>1. c4 1... d6 2. b3 2... g6 3. Bb2 3... Nf6 4. Nc3 4... Bg7 5. Qc2 5... c5 6. O-O 6... Nc6 7. e3 7... Bf5 8. d3 8... a6 9. Nf3 9... b5 10. Nd5 10... O-O 11. Nxf6 11... exf6 12. Kb1 12... Nb4 13. Qd2 13... bxc4 14. e4 14... Bd7 15. dxc4 15... Bc6 16. Re1 16... Re8 17. a3 17... Bxe4 18. Rxe4 18... Rxe4 19. axb4 19... cxb4 20. Bd3 20... Re7 21. Qxb4 21... Rb8 22. Qa4 22... Reb7 23. Bc2 23... f5 24. Bxg7 24... Kxg7 25. Rd1 25... Qf6 26. Qa1 26... Rb6 27. Qxf6 27... Kxf6 28. Kb2 28... a5 29. Kc3 29... Rc8 30. h3 30... h5 31. Nd4 31... d5 32. Ra1 32... Rc5 33. Nf3 33... dxc4 34. bxc4 34... Rb8 35. Ne1 35... Rbc8 36. Bb3 36... h4 37. Nd3 37... Rd5 38. c5 38... Rdxc5 39. Nxc5 39... Rxc5 40. Bc4 40... Re5 41. Ra2 41... g5 42. Re2 42... Rxe2 43. Bxe2 43... Ke5 44. Kc4 44... a4 45. Kb4 45... Kd4 46. Kxa4 46... Kc3 47. f4 47... f6 48. Kb5 48... Kd4 49. Bd1 49... Ke3 50. fxg5 50... fxg5 51. Bf3 51... Kf4 52. Bh5 52... Kg3 53. Bg6 53... Kf4 54. Bf7 54... g4 55. Bd5 55... Kg3 56. Kc5 56... gxh3 57. gxh3 57... Kxh3 58. Be6 58... Kg4 59. Kd4 59... Kf4 60. Kd3 60... Ke5</td>\n",
       "      <td>True</td>\n",
       "    </tr>\n",
       "    <tr>\n",
       "      <td>4</td>\n",
       "      <td>blitz</td>\n",
       "      <td>Hikaru</td>\n",
       "      <td>2590</td>\n",
       "      <td>Dmitriy_From_Russia</td>\n",
       "      <td>2260</td>\n",
       "      <td>180</td>\n",
       "      <td>win</td>\n",
       "      <td>checkmated</td>\n",
       "      <td>1. e4 1... d6 2. g3 2... g6 3. Bg2 3... Bg7 4. Ne2 4... Nf6 5. O-O 5... O-O 6. d4 6... Nfd7 7. c4 7... Re8 8. f4 8... Nf8 9. f5 9... e5 10. d5 10... Na6 11. Nbc3 11... Nc5 12. b4 12... Ncd7 13. a3 13... gxf5 14. exf5 14... Nf6 15. h3 15... Kh8 16. g4 16... h6 17. Ng3 17... N8d7 18. Be3 18... Rg8 19. Qd2 19... Nb6 20. Qd3 20... Bd7 21. c5 21... Na4 22. Nce4 22... dxc5 23. bxc5 23... a6 24. Nxf6 24... Bb5 25. Qd2 25... Bxf6 26. Ne4 26... Bxf1 27. Rxf1 27... Bg5 28. Bxg5 28... hxg5 29. h4 29... gxh4</td>\n",
       "      <td>True</td>\n",
       "    </tr>\n",
       "  </tbody>\n",
       "</table>\n",
       "</div>"
      ],
      "text/plain": [
       "  time_class       white.username  white.rating       black.username  \\\n",
       "0  blitz      Hikaru               2354          Godswill              \n",
       "1  blitz      Godswill             2163          Hikaru                \n",
       "2  blitz      Hikaru               2509          Dmitriy_From_Russia   \n",
       "3  blitz      Dmitriy_From_Russia  2263          Hikaru                \n",
       "4  blitz      Hikaru               2590          Dmitriy_From_Russia   \n",
       "\n",
       "   black.rating time_control white.result black.result  \\\n",
       "0  2167          180          win          resigned      \n",
       "1  2438          180          timeout      win           \n",
       "2  2266          180          win          resigned      \n",
       "3  2556          180          timeout      win           \n",
       "4  2260          180          win          checkmated    \n",
       "\n",
       "                                                                                                                                                                                                                                                                                                                                                                                                                                                                                                                                                                                                                                                                                                                                                                                                                                                                                                                                                                                                                                                                                                            pgn  \\\n",
       "0  1. e4 1... e5 2. Nc3 2... Nc6 3. g3 3... g6 4. Bg2 4... Bg7 5. Nge2 5... Nge7 6. O-O 6... O-O 7. d3 7... d6 8. h3 8... h6 9. Be3 9... Be6 10. Qd2 10... Qd7 11. Kh2 11... Kh7 12. Nd5 12... Nd4 13. Nxe7 13... Qxe7 14. c3 14... Nxe2 15. Qxe2 15... c6 16. f4 16... f5 17. Rae1 17... a6 18. fxe5 18... dxe5 19. exf5 19... Bxf5 20. g4 20... Be6 21. c4 21... Rad8 22. Be4 22... Bf7 23. b3 23... Qh4 24. Bf2 24... Qg5 25. Bc5 25... Be6 26. Bxf8 26... Rxf8 27. Rxf8 27... Bxf8 28. Qf2 28... Be7 29. Rf1 29... h5 30. gxh5 30... Qxh5 31. Qf3 31... Qg5 32. Rg1 32... Qf4 33. Qxf4 33... exf4 34. Rxg6 34... f3 35. Rxe6 35... Kg8                                                                                                                                                                                                                                                                                                                                                                                                                                                                        \n",
       "1  1. d4 1... Nf6 2. c4 2... b6 3. Nc3 3... Bb7 4. f3 4... e6 5. e4 5... d5 6. e5 6... Nfd7 7. cxd5 7... exd5 8. Bd3 8... c5 9. dxc5 9... Bxc5 10. Qe2 10... Nc6 11. f4 11... Nd4 12. Qg4 12... Qe7 13. Nge2 13... Nxe2 14. Nxe2 14... Bb4 15. Kf1 15... O-O 16. a3 16... f6 17. axb4 17... fxe5 18. Bf5 18... Nf6 19. Qh3 19... g6 20. Be6 20... Kh8 21. f5 21... Ne4 22. Kg1 22... Qxb4 23. Bh6 23... Qxb2 24. Re1 24... Qb4 25. Rf1 25... Rf6 26. g4 26... Ba6 27. Qe3 27... gxf5 28. Qg5 28... Nxg5 29. Bxg5 29... Qxg4 30. Ng3 30... Qxg5 31. Rxf5 31... Rxf5 32. Bxf5 32... Qd2 33. h4 33... Rg8 34. Rh3 34... Bd3 35. Be6 35... Rxg3 36. Rxg3 36... Qe1 37. Kh2 37... Qxg3 38. Kxg3 38... d4 39. Kf3 39... a5 40. Bd5 40... a4 41. Kg4 41... a3 42. Kg5 42... Kg7 43. h5 43... h6 44. Kg4 44... b5 45. Kf3 45... b4 46. Kf2 46... e4 47. Ke1 47... e3 48. Kd1 48... Kf6 49. Kc1 49... Ke5 50. Bb3 50... Bf5 51. Kd1 51... d3 52. Ke1 52... Bh3 53. Bd1 53... Kd4 54. Bb3 54... Kc3                                                                                                                         \n",
       "2  1. e4 1... d6 2. g3 2... g6 3. Bg2 3... Bg7 4. Ne2 4... Nf6 5. d4 5... O-O 6. c4 6... c6 7. O-O 7... Nbd7 8. Nec3 8... e5 9. d5 9... Nc5 10. b4 10... Na6 11. a3 11... Nc7 12. h3 12... a5 13. b5 13... cxd5 14. cxd5 14... Bd7 15. a4 15... Qc8 16. Kh2 16... Nh5 17. Nd2 17... Na6 18. Ra3 18... f5 19. bxa6 19... Rxa6 20. exf5 20... Bxf5 21. Nde4 21... Nf6 22. Nxf6 22... Bxf6 23. Ne4 23... Bg7 24. Rc3 24... Qd7 25. Qb3 25... Raa8 26. Be3 26... Bxe4 27. Bxe4 27... Rf7 28. Rfc1 28... Raf8 29. Qc2 29... Bf6 30. Rc7 30... Qd8 31. Rxf7 31... Rxf7 32. Qc8 32... Qxc8 33. Rxc8 33... Kg7                                                                                                                                                                                                                                                                                                                                                                                                                                                                                                            \n",
       "3  1. c4 1... d6 2. b3 2... g6 3. Bb2 3... Nf6 4. Nc3 4... Bg7 5. Qc2 5... c5 6. O-O 6... Nc6 7. e3 7... Bf5 8. d3 8... a6 9. Nf3 9... b5 10. Nd5 10... O-O 11. Nxf6 11... exf6 12. Kb1 12... Nb4 13. Qd2 13... bxc4 14. e4 14... Bd7 15. dxc4 15... Bc6 16. Re1 16... Re8 17. a3 17... Bxe4 18. Rxe4 18... Rxe4 19. axb4 19... cxb4 20. Bd3 20... Re7 21. Qxb4 21... Rb8 22. Qa4 22... Reb7 23. Bc2 23... f5 24. Bxg7 24... Kxg7 25. Rd1 25... Qf6 26. Qa1 26... Rb6 27. Qxf6 27... Kxf6 28. Kb2 28... a5 29. Kc3 29... Rc8 30. h3 30... h5 31. Nd4 31... d5 32. Ra1 32... Rc5 33. Nf3 33... dxc4 34. bxc4 34... Rb8 35. Ne1 35... Rbc8 36. Bb3 36... h4 37. Nd3 37... Rd5 38. c5 38... Rdxc5 39. Nxc5 39... Rxc5 40. Bc4 40... Re5 41. Ra2 41... g5 42. Re2 42... Rxe2 43. Bxe2 43... Ke5 44. Kc4 44... a4 45. Kb4 45... Kd4 46. Kxa4 46... Kc3 47. f4 47... f6 48. Kb5 48... Kd4 49. Bd1 49... Ke3 50. fxg5 50... fxg5 51. Bf3 51... Kf4 52. Bh5 52... Kg3 53. Bg6 53... Kf4 54. Bf7 54... g4 55. Bd5 55... Kg3 56. Kc5 56... gxh3 57. gxh3 57... Kxh3 58. Be6 58... Kg4 59. Kd4 59... Kf4 60. Kd3 60... Ke5   \n",
       "4  1. e4 1... d6 2. g3 2... g6 3. Bg2 3... Bg7 4. Ne2 4... Nf6 5. O-O 5... O-O 6. d4 6... Nfd7 7. c4 7... Re8 8. f4 8... Nf8 9. f5 9... e5 10. d5 10... Na6 11. Nbc3 11... Nc5 12. b4 12... Ncd7 13. a3 13... gxf5 14. exf5 14... Nf6 15. h3 15... Kh8 16. g4 16... h6 17. Ng3 17... N8d7 18. Be3 18... Rg8 19. Qd2 19... Nb6 20. Qd3 20... Bd7 21. c5 21... Na4 22. Nce4 22... dxc5 23. bxc5 23... a6 24. Nxf6 24... Bb5 25. Qd2 25... Bxf6 26. Ne4 26... Bxf1 27. Rxf1 27... Bg5 28. Bxg5 28... hxg5 29. h4 29... gxh4                                                                                                                                                                                                                                                                                                                                                                                                                                                                                                                                                                                          \n",
       "\n",
       "   rated  \n",
       "0  True   \n",
       "1  True   \n",
       "2  True   \n",
       "3  True   \n",
       "4  True   "
      ]
     },
     "metadata": {},
     "output_type": "display_data"
    }
   ],
   "source": [
    "display(data1.head(1))"
   ]
  },
  {
   "cell_type": "code",
   "execution_count": 197,
   "metadata": {
    "ExecuteTime": {
     "end_time": "2020-02-20T09:20:02.705082Z",
     "start_time": "2020-02-20T09:20:02.545510Z"
    }
   },
   "outputs": [
    {
     "name": "stdout",
     "output_type": "stream",
     "text": [
      "<class 'pandas.core.frame.DataFrame'>\n",
      "Int64Index: 182194 entries, 0 to 382924\n",
      "Data columns (total 10 columns):\n",
      "time_class        182194 non-null object\n",
      "white.username    182194 non-null object\n",
      "white.rating      182194 non-null int64\n",
      "black.username    182194 non-null object\n",
      "black.rating      182194 non-null int64\n",
      "time_control      182194 non-null object\n",
      "white.result      182194 non-null object\n",
      "black.result      182194 non-null object\n",
      "pgn               182194 non-null object\n",
      "rated             182194 non-null bool\n",
      "dtypes: bool(1), int64(2), object(7)\n",
      "memory usage: 19.1+ MB\n"
     ]
    }
   ],
   "source": [
    "data1.info()"
   ]
  },
  {
   "cell_type": "markdown",
   "metadata": {},
   "source": [
    "Eliminamos duplicados porque una misma partida aparecera dos veces cuando dos jugadores se hayan enfrentado."
   ]
  },
  {
   "cell_type": "code",
   "execution_count": 202,
   "metadata": {
    "ExecuteTime": {
     "end_time": "2020-02-20T09:31:45.809056Z",
     "start_time": "2020-02-20T09:31:44.645035Z"
    }
   },
   "outputs": [
    {
     "name": "stdout",
     "output_type": "stream",
     "text": [
      "<class 'pandas.core.frame.DataFrame'>\n",
      "Int64Index: 162158 entries, 0 to 382924\n",
      "Data columns (total 10 columns):\n",
      "time_class        162158 non-null object\n",
      "white.username    162158 non-null object\n",
      "white.rating      162158 non-null int64\n",
      "black.username    162158 non-null object\n",
      "black.rating      162158 non-null int64\n",
      "time_control      162158 non-null object\n",
      "white.result      162158 non-null object\n",
      "black.result      162158 non-null object\n",
      "pgn               162158 non-null object\n",
      "rated             162158 non-null bool\n",
      "dtypes: bool(1), int64(2), object(7)\n",
      "memory usage: 12.5+ MB\n"
     ]
    }
   ],
   "source": [
    "data1.drop_duplicates(inplace=True)\n",
    "data1.info()"
   ]
  },
  {
   "cell_type": "code",
   "execution_count": 201,
   "metadata": {
    "ExecuteTime": {
     "end_time": "2020-02-20T09:25:51.954360Z",
     "start_time": "2020-02-20T09:25:51.878483Z"
    }
   },
   "outputs": [
    {
     "data": {
      "text/plain": [
       "0"
      ]
     },
     "execution_count": 201,
     "metadata": {},
     "output_type": "execute_result"
    }
   ],
   "source": [
    "data1['pgn'][data1.pgn == 'Unknown'].sum()"
   ]
  },
  {
   "cell_type": "markdown",
   "metadata": {
    "ExecuteTime": {
     "end_time": "2020-02-19T20:02:47.417525Z",
     "start_time": "2020-02-19T18:58:45.957Z"
    }
   },
   "source": [
    "Aqui podemos observar la duracion y la cantidad de las partidas blitz."
   ]
  },
  {
   "cell_type": "code",
   "execution_count": 203,
   "metadata": {
    "ExecuteTime": {
     "end_time": "2020-02-20T09:33:14.146238Z",
     "start_time": "2020-02-20T09:33:14.077421Z"
    }
   },
   "outputs": [
    {
     "data": {
      "text/plain": [
       "180      150486\n",
       "180+2    7914  \n",
       "300      1530  \n",
       "180+1    1205  \n",
       "300+1    378   \n",
       "600      266   \n",
       "300+2    232   \n",
       "240+2    52    \n",
       "300+5    40    \n",
       "600+5    36    \n",
       "300+3    10    \n",
       "120+2    3     \n",
       "180+3    2     \n",
       "600+3    1     \n",
       "360+9    1     \n",
       "480      1     \n",
       "420+5    1     \n",
       "Name: time_control, dtype: int64"
      ]
     },
     "execution_count": 203,
     "metadata": {},
     "output_type": "execute_result"
    }
   ],
   "source": [
    "data1['time_control'].value_counts()"
   ]
  },
  {
   "cell_type": "markdown",
   "metadata": {},
   "source": [
    "Estos son los resultados de las partidas blitz."
   ]
  },
  {
   "cell_type": "code",
   "execution_count": 204,
   "metadata": {
    "ExecuteTime": {
     "end_time": "2020-02-20T09:33:48.513312Z",
     "start_time": "2020-02-20T09:33:48.471422Z"
    }
   },
   "outputs": [
    {
     "data": {
      "text/plain": [
       "win                    77097\n",
       "resigned               44463\n",
       "timeout                10918\n",
       "checkmated             9254 \n",
       "agreed                 5353 \n",
       "repetition             4889 \n",
       "bughousepartnerlose    4354 \n",
       "insufficient           2901 \n",
       "timevsinsufficient     1516 \n",
       "stalemate              689  \n",
       "abandoned              601  \n",
       "50move                 85   \n",
       "threecheck             28   \n",
       "kingofthehill          10   \n",
       "Name: white.result, dtype: int64"
      ]
     },
     "execution_count": 204,
     "metadata": {},
     "output_type": "execute_result"
    }
   ],
   "source": [
    "data1['white.result'].value_counts()"
   ]
  },
  {
   "cell_type": "code",
   "execution_count": 205,
   "metadata": {
    "ExecuteTime": {
     "end_time": "2020-02-20T09:34:23.336225Z",
     "start_time": "2020-02-20T09:34:23.292334Z"
    }
   },
   "outputs": [
    {
     "data": {
      "text/plain": [
       "win                    69628\n",
       "resigned               51056\n",
       "timeout                11158\n",
       "checkmated             10308\n",
       "agreed                 5353 \n",
       "repetition             4889 \n",
       "bughousepartnerlose    3916 \n",
       "insufficient           2901 \n",
       "timevsinsufficient     1516 \n",
       "stalemate              689  \n",
       "abandoned              624  \n",
       "50move                 85   \n",
       "threecheck             20   \n",
       "kingofthehill          15   \n",
       "Name: black.result, dtype: int64"
      ]
     },
     "execution_count": 205,
     "metadata": {},
     "output_type": "execute_result"
    }
   ],
   "source": [
    "data1['black.result'].value_counts()"
   ]
  },
  {
   "cell_type": "code",
   "execution_count": 134,
   "metadata": {
    "ExecuteTime": {
     "end_time": "2020-02-19T21:14:22.034573Z",
     "start_time": "2020-02-19T21:13:42.352245Z"
    }
   },
   "outputs": [],
   "source": [
    "data.to_csv('games_data.csv', index=False)"
   ]
  },
  {
   "cell_type": "code",
   "execution_count": 206,
   "metadata": {
    "ExecuteTime": {
     "end_time": "2020-02-20T09:35:04.799661Z",
     "start_time": "2020-02-20T09:35:00.589628Z"
    }
   },
   "outputs": [],
   "source": [
    "data1.to_csv('games_blitz_clean.csv', index=False)"
   ]
  },
  {
   "cell_type": "markdown",
   "metadata": {},
   "source": [
    "## Web Scraping\n"
   ]
  },
  {
   "cell_type": "markdown",
   "metadata": {},
   "source": [
    "Mi idea es añadir a cada partida la apertura que se esta usando.(No esta terminado aun)"
   ]
  },
  {
   "cell_type": "code",
   "execution_count": 144,
   "metadata": {
    "ExecuteTime": {
     "end_time": "2020-02-19T21:34:24.966998Z",
     "start_time": "2020-02-19T21:34:24.434567Z"
    }
   },
   "outputs": [],
   "source": [
    "url = 'https://es.wikipedia.org/wiki/Apertura_(ajedrez)'\n",
    "html = requests.get(url).content\n",
    "soup = BeautifulSoup(html, 'lxml')\n",
    "text = soup.find_all('li')"
   ]
  },
  {
   "cell_type": "code",
   "execution_count": 143,
   "metadata": {
    "ExecuteTime": {
     "end_time": "2020-02-19T21:33:23.377661Z",
     "start_time": "2020-02-19T21:33:23.362668Z"
    }
   },
   "outputs": [
    {
     "data": {
      "text/plain": [
       "['1 Reglas clásicas',\n",
       " '1.e4 e5 Apertura abierta',\n",
       " '1.e4 e5 2.Cf3 Cc6 3.Ab5 Apertura española',\n",
       " '1.e4 e5 2.Cf3 Cc6 3.c3 Apertura Ponziani',\n",
       " '1.e4 e5 2.Cf3 Cc6 3.d4 Apertura escocesa',\n",
       " '1.e4 e5 2.Cf3 Cc6 3.Ac4 Apertura italiana Ac5 Giuoco piano y otras variantes (particularmente Cf6)',\n",
       " '1.e4 e5 2.Cf3 Cc6 3.Ac4 Ac5 4.b4 Gambito Evans',\n",
       " '1.e4 e5 2.Cf3 Cc6 3.Ac4 Cf6 Defensa de los dos caballos',\n",
       " '1.e4 e5 2.Cf3 Cc6 3.Ac4 Ae7 Defensa húngara',\n",
       " '1.e4 e5 2.Cf3 Cc6 3.Ac4 Cd4?! Gambito Blackburne',\n",
       " '1.e4 e5 2.Cf3 Cc6 3.Ac4 f5?! Gambito Rousseau',\n",
       " '1.e4 e5 2.Cf3 Cc6 3.Cc3 Cf6 Apertura de los cuatro caballos',\n",
       " '1.e4 e5 2.Cf3 Cc6 3.Cc3 sin 3...Cf6 Apertura de los tres caballos',\n",
       " '1.e4 e5 2.Cf3 Cc6 3.g3 Apertura Konstantinopolsky',\n",
       " '1.e4 e5 2.Cf3 Cf6 Defensa Petrov',\n",
       " '1.e4 e5 2.Cf3 f5 Gambito Letón',\n",
       " '1.e4 e5 2.Cf3 f6 Defensa Damiano',\n",
       " '1.e4 e5 2.Cf3 d5 Gambito elefante',\n",
       " '1.e4 e5 2.Cf3 d6 Defensa Philidor',\n",
       " '1.e4 e5 2.Cf3 De7 Defensa brasileña o Defensa Gunderam',\n",
       " '1.e4 e5 2.Cf3 Df6 Defensa Greco',\n",
       " '1.e4 e5 2.Ac4 Apertura de alfil',\n",
       " '1.e4 e5 2.Cc3 Apertura vienesa',\n",
       " '1.e4 e5 2.f4 Gambito de rey, 2...exf4 (aceptado) o 2...Ac5 u otras jugadas (rehusado)',\n",
       " '1.e4 e5 2. f4 d5 Contragambito Falkbeer',\n",
       " '1.e4 e5 2.d4 exd4 3.Dxd4 Apertura del centro',\n",
       " '1.e4 e5 2.d4 exd4 3.c3 Gambito danés',\n",
       " '1.e4 e5 2.d4 exd4 3.Ac4 Gambito Getxo',\n",
       " '1.e4 e5 2.Dh5 Ataque Parham',\n",
       " '1.e4 e5 2.Ab5 Apertura portuguesa',\n",
       " '1.e4 e5 2.c3 Apertura López',\n",
       " '1.e4 e5 2.Cf3 Cc6 3.Ae2 Apertura húngara invertida',\n",
       " '1.e4 e5 2.Ce2 Apertura Alapín',\n",
       " '1.e4 e5 2.Df3 Apertura Napoleón',\n",
       " '1.e4 e5 2.d4 exd4 3.Dxd4 Gambito del centro',\n",
       " '1.e4 e5 2.Cf3 Cc6 3.Cc3 Cf6 4.Cxe5 Gambito Halloween',\n",
       " '1.e4 a6 Defensa St. George',\n",
       " '1.e4 b6 Defensa Owen',\n",
       " '1.e4 c5 Defensa siciliana, dentro de la cual lo más común es la variante Najdorg. (2.Cf3 d6 3.d4 cxd4 4.Cxd4 Cf6 5.Cc3 a6)',\n",
       " '1.e4 c6 Defensa Caro-Kann',\n",
       " '1.e4 Cc6 Defensa Nimzowitsch',\n",
       " '1.e4 d5 Defensa escandinava',\n",
       " '1.e4 d6 2.d4 f5 Defensa Balogh',\n",
       " '1.e4 d6 2.d4 Cf6 3.Cc3 c6 Defensa checa',\n",
       " '1.e4 d6 2.d4 Cf6 3.Cc3 g6 Defensa Pirc',\n",
       " '1.e4 e6 Defensa francesa',\n",
       " '1.e4 e6 2.d4 c5 Defensa Franco-Benoni',\n",
       " '1.e4 Cf6 Defensa Alekhine',\n",
       " '1.e4 g5 Defensa Grob',\n",
       " '1.e4 g6 Defensa moderna',\n",
       " '1.e4 f5 Defensa Fred',\n",
       " '1.d4 d5 Apertura cerrada',\n",
       " '1.d4 d5 2.Cc3 Cf6 3.Ag5 Apertura Veresov',\n",
       " '1.d4 d5 2.c4 Gambito de dama, dentro del cual:\\n1.d4 d5 2.c4 dxc4 Gambito de dama aceptado\\n1.d4 d5 2.c4 c5 Defensa simétrica\\n1.d4 d5 2.c4 c6 Defensa eslava\\n1.d4 d5 2.c4 e6 3.Cc3 Cf6 4.Cf3 c6 Defensa semieslava, puede derivar en Defensa Merano\\n1.d4 d5 2.c4 Cc6 Defensa Chigorin\\n1.d4 d5 2.c4 e5 Contragambito Albin\\n1.d4 d5 2.c4 e6 Defensa ortodoxa\\n1.d4 d5 2.c4 Af5 Defensa báltica\\n1.d4 d5 2.c4 Cf6 Defensa Marshall',\n",
       " '1.d4 d5 2.c4 dxc4 Gambito de dama aceptado',\n",
       " '1.d4 d5 2.c4 c5 Defensa simétrica',\n",
       " '1.d4 d5 2.c4 c6 Defensa eslava',\n",
       " '1.d4 d5 2.c4 e6 3.Cc3 Cf6 4.Cf3 c6 Defensa semieslava, puede derivar en Defensa Merano',\n",
       " '1.d4 d5 2.c4 Cc6 Defensa Chigorin',\n",
       " '1.d4 d5 2.c4 e5 Contragambito Albin',\n",
       " '1.d4 d5 2.c4 e6 Defensa ortodoxa',\n",
       " '1.d4 d5 2.c4 Af5 Defensa báltica',\n",
       " '1.d4 d5 2.c4 Cf6 Defensa Marshall',\n",
       " '1.d4 d5 2.e3 Ataque Stonewall',\n",
       " '1.d4 d5 2.e4 Gambito Blackmar',\n",
       " '1.d4 d5 2.Cf3 Cf6 3.e3 Sistema Colle',\n",
       " '1.d4 Cf6 2.c4 c5 Defensa Benoni',\n",
       " '1.d4 Cf6 2.c4 c5 3.d5 b5 Gambito Volga',\n",
       " '1.d4 Cf6 2.c4 Cc6 Defensa mexicana',\n",
       " '1.d4 Cf6 2.c4 d6 Defensa india antigua',\n",
       " '1.d4 Cf6 2.c4 e5 Defensa Budapest',\n",
       " '1.d4 Cf6 2.c4 e6 3.Cc3 Ab4 Defensa Nimzoindia',\n",
       " '1.d4 Cf6 2.c4 e6 3.Cf3 Ab4+ Defensa Bogoindia',\n",
       " '1.d4 Cf6 2.c4 e6 3.Cf3 b6 Defensa india de dama',\n",
       " '1.d4 Cf6 2.c4 e6 3.Cf3 c5 4.d5 b5 Contragambito Blumenfeld',\n",
       " '1.d4 Cf6 2.c4 e6 3.Cf3 Ce4 Defensa Döry',\n",
       " '1.d4 Cf6 2.c4 e6 3.Ag5 Ataque Neo-Indio',\n",
       " '1.d4 Cf6 2.c4 e6 3.g3 Apertura Catalana',\n",
       " '1.d4 Cf6 2.c4 g6 3.Cc3 d5 Defensa Grünfeld',\n",
       " '1.d4 Cf6 2.c4 g6 3.Cc3 Ag7 Defensa india de rey',\n",
       " '1.d4 Cf6 2.Cf3 e6 3.Ag5 Ataque Torre',\n",
       " '1.d4 Cf6 2.Ag5 Ataque Trompowsky',\n",
       " '1.d4 f5 Defensa holandesa',\n",
       " '1.d4 c5 Defensa Benoni Clásica',\n",
       " '1.d4 e5 Gambito Englund',\n",
       " '1.d4 b5 Defensa polaca',\n",
       " '1.d4 e6 2.c4 Ab4+ Defensa Keres o Defensa canguro',\n",
       " '1.d4 Cc6 Defensa del caballo de dama',\n",
       " '1.d4 d6 Defensa Wade',\n",
       " '1.d4 e6 2.c4 b6 Defensa inglesa',\n",
       " '1.b3 Apertura Larsen',\n",
       " '1.b4 Apertura polaca',\n",
       " '1.Cc3 Apertura Dunst',\n",
       " '1.c4 Apertura inglesa',\n",
       " '1.Cf3 Apertura Reti (generalmente seguida del fiancheto de uno o ambos alfiles y retrasando d4).',\n",
       " '1.Cf3, 2.g3, 3.Ag2, 4.0-0, 5.d3, 6.Cbd2, 7.e4 Ataque indio de rey (puede jugarse en múltiples órdenes)',\n",
       " '1.f4 Apertura Bird',\n",
       " '1.g3 Apertura Benko',\n",
       " '1.a3 Apertura Anderssen',\n",
       " '1.Ca3 Ataque Durkin',\n",
       " '1.a4 Apertura Ware',\n",
       " '1.c3 Apertura Zaragoza',\n",
       " '1.d3 Apertura Mieses',\n",
       " '1.e3 Apertura Vant Kruijs',\n",
       " '1.f3 Apertura Gedult',\n",
       " '1.g4 Ataque Grob',\n",
       " '1.h3 Apertura Clemenz',\n",
       " '1.Ch3 Apertura París',\n",
       " '1.h4 Apertura Deprez']"
      ]
     },
     "execution_count": 143,
     "metadata": {},
     "output_type": "execute_result"
    }
   ],
   "source": [
    "lst = [i.text for i in text if i.text.startswith('1')]\n",
    "lst"
   ]
  },
  {
   "cell_type": "code",
   "execution_count": null,
   "metadata": {},
   "outputs": [],
   "source": []
  }
 ],
 "metadata": {
  "kernelspec": {
   "display_name": "Python 3",
   "language": "python",
   "name": "python3"
  },
  "language_info": {
   "codemirror_mode": {
    "name": "ipython",
    "version": 3
   },
   "file_extension": ".py",
   "mimetype": "text/x-python",
   "name": "python",
   "nbconvert_exporter": "python",
   "pygments_lexer": "ipython3",
   "version": "3.7.4"
  },
  "varInspector": {
   "cols": {
    "lenName": 16,
    "lenType": 16,
    "lenVar": 40
   },
   "kernels_config": {
    "python": {
     "delete_cmd_postfix": "",
     "delete_cmd_prefix": "del ",
     "library": "var_list.py",
     "varRefreshCmd": "print(var_dic_list())"
    },
    "r": {
     "delete_cmd_postfix": ") ",
     "delete_cmd_prefix": "rm(",
     "library": "var_list.r",
     "varRefreshCmd": "cat(var_dic_list()) "
    }
   },
   "types_to_exclude": [
    "module",
    "function",
    "builtin_function_or_method",
    "instance",
    "_Feature"
   ],
   "window_display": false
  }
 },
 "nbformat": 4,
 "nbformat_minor": 2
}
